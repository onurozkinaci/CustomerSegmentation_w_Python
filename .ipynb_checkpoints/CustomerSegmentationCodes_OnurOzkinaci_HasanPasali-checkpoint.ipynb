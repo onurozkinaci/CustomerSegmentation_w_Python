{
 "cells": [
  {
   "cell_type": "code",
   "execution_count": 1,
   "id": "ac9d8744",
   "metadata": {},
   "outputs": [],
   "source": [
    "#for data processing\n",
    "import numpy as np \n",
    "import pandas as pd\n",
    "\n",
    "#for visualization\n",
    "import seaborn as sns\n",
    "import matplotlib.pyplot as plt\n",
    "%matplotlib inline\n",
    "\n",
    "import warnings\n",
    "warnings.filterwarnings(\"ignore\")"
   ]
  },
  {
   "cell_type": "code",
   "execution_count": 2,
   "id": "555afb4f",
   "metadata": {},
   "outputs": [],
   "source": [
    "train = pd.read_csv(\"C:/ProjectforPython/train.csv\")\n",
    "test = pd.read_csv(\"C:/ProjectforPython/test.csv\") "
   ]
  },
  {
   "cell_type": "code",
   "execution_count": 3,
   "id": "3a8e17d5",
   "metadata": {
    "scrolled": true
   },
   "outputs": [
    {
     "data": {
      "text/html": [
       "<div>\n",
       "<style scoped>\n",
       "    .dataframe tbody tr th:only-of-type {\n",
       "        vertical-align: middle;\n",
       "    }\n",
       "\n",
       "    .dataframe tbody tr th {\n",
       "        vertical-align: top;\n",
       "    }\n",
       "\n",
       "    .dataframe thead th {\n",
       "        text-align: right;\n",
       "    }\n",
       "</style>\n",
       "<table border=\"1\" class=\"dataframe\">\n",
       "  <thead>\n",
       "    <tr style=\"text-align: right;\">\n",
       "      <th></th>\n",
       "      <th>ID</th>\n",
       "      <th>Gender</th>\n",
       "      <th>Ever_Married</th>\n",
       "      <th>Age</th>\n",
       "      <th>Graduated</th>\n",
       "      <th>Profession</th>\n",
       "      <th>Work_Experience</th>\n",
       "      <th>Spending_Score</th>\n",
       "      <th>Family_Size</th>\n",
       "      <th>Var_1</th>\n",
       "      <th>Segmentation</th>\n",
       "    </tr>\n",
       "  </thead>\n",
       "  <tbody>\n",
       "    <tr>\n",
       "      <th>0</th>\n",
       "      <td>462809</td>\n",
       "      <td>Male</td>\n",
       "      <td>No</td>\n",
       "      <td>22</td>\n",
       "      <td>No</td>\n",
       "      <td>Healthcare</td>\n",
       "      <td>1.0</td>\n",
       "      <td>Low</td>\n",
       "      <td>4.0</td>\n",
       "      <td>Cat_4</td>\n",
       "      <td>D</td>\n",
       "    </tr>\n",
       "    <tr>\n",
       "      <th>1</th>\n",
       "      <td>462643</td>\n",
       "      <td>Female</td>\n",
       "      <td>Yes</td>\n",
       "      <td>38</td>\n",
       "      <td>Yes</td>\n",
       "      <td>Engineer</td>\n",
       "      <td>NaN</td>\n",
       "      <td>Average</td>\n",
       "      <td>3.0</td>\n",
       "      <td>Cat_4</td>\n",
       "      <td>A</td>\n",
       "    </tr>\n",
       "    <tr>\n",
       "      <th>2</th>\n",
       "      <td>466315</td>\n",
       "      <td>Female</td>\n",
       "      <td>Yes</td>\n",
       "      <td>67</td>\n",
       "      <td>Yes</td>\n",
       "      <td>Engineer</td>\n",
       "      <td>1.0</td>\n",
       "      <td>Low</td>\n",
       "      <td>1.0</td>\n",
       "      <td>Cat_6</td>\n",
       "      <td>B</td>\n",
       "    </tr>\n",
       "  </tbody>\n",
       "</table>\n",
       "</div>"
      ],
      "text/plain": [
       "       ID  Gender Ever_Married  Age Graduated  Profession  Work_Experience  \\\n",
       "0  462809    Male           No   22        No  Healthcare              1.0   \n",
       "1  462643  Female          Yes   38       Yes    Engineer              NaN   \n",
       "2  466315  Female          Yes   67       Yes    Engineer              1.0   \n",
       "\n",
       "  Spending_Score  Family_Size  Var_1 Segmentation  \n",
       "0            Low          4.0  Cat_4            D  \n",
       "1        Average          3.0  Cat_4            A  \n",
       "2            Low          1.0  Cat_6            B  "
      ]
     },
     "execution_count": 3,
     "metadata": {},
     "output_type": "execute_result"
    }
   ],
   "source": [
    "train.head(3)"
   ]
  },
  {
   "cell_type": "code",
   "execution_count": 4,
   "id": "bd31ce16",
   "metadata": {},
   "outputs": [
    {
     "data": {
      "text/html": [
       "<div>\n",
       "<style scoped>\n",
       "    .dataframe tbody tr th:only-of-type {\n",
       "        vertical-align: middle;\n",
       "    }\n",
       "\n",
       "    .dataframe tbody tr th {\n",
       "        vertical-align: top;\n",
       "    }\n",
       "\n",
       "    .dataframe thead th {\n",
       "        text-align: right;\n",
       "    }\n",
       "</style>\n",
       "<table border=\"1\" class=\"dataframe\">\n",
       "  <thead>\n",
       "    <tr style=\"text-align: right;\">\n",
       "      <th></th>\n",
       "      <th>ID</th>\n",
       "      <th>Gender</th>\n",
       "      <th>Ever_Married</th>\n",
       "      <th>Age</th>\n",
       "      <th>Graduated</th>\n",
       "      <th>Profession</th>\n",
       "      <th>Work_Experience</th>\n",
       "      <th>Spending_Score</th>\n",
       "      <th>Family_Size</th>\n",
       "      <th>Var_1</th>\n",
       "    </tr>\n",
       "  </thead>\n",
       "  <tbody>\n",
       "    <tr>\n",
       "      <th>0</th>\n",
       "      <td>458989</td>\n",
       "      <td>Female</td>\n",
       "      <td>Yes</td>\n",
       "      <td>36</td>\n",
       "      <td>Yes</td>\n",
       "      <td>Engineer</td>\n",
       "      <td>0.0</td>\n",
       "      <td>Low</td>\n",
       "      <td>1.0</td>\n",
       "      <td>Cat_6</td>\n",
       "    </tr>\n",
       "    <tr>\n",
       "      <th>1</th>\n",
       "      <td>458994</td>\n",
       "      <td>Male</td>\n",
       "      <td>Yes</td>\n",
       "      <td>37</td>\n",
       "      <td>Yes</td>\n",
       "      <td>Healthcare</td>\n",
       "      <td>8.0</td>\n",
       "      <td>Average</td>\n",
       "      <td>4.0</td>\n",
       "      <td>Cat_6</td>\n",
       "    </tr>\n",
       "    <tr>\n",
       "      <th>2</th>\n",
       "      <td>458996</td>\n",
       "      <td>Female</td>\n",
       "      <td>Yes</td>\n",
       "      <td>69</td>\n",
       "      <td>No</td>\n",
       "      <td>NaN</td>\n",
       "      <td>0.0</td>\n",
       "      <td>Low</td>\n",
       "      <td>1.0</td>\n",
       "      <td>Cat_6</td>\n",
       "    </tr>\n",
       "  </tbody>\n",
       "</table>\n",
       "</div>"
      ],
      "text/plain": [
       "       ID  Gender Ever_Married  Age Graduated  Profession  Work_Experience  \\\n",
       "0  458989  Female          Yes   36       Yes    Engineer              0.0   \n",
       "1  458994    Male          Yes   37       Yes  Healthcare              8.0   \n",
       "2  458996  Female          Yes   69        No         NaN              0.0   \n",
       "\n",
       "  Spending_Score  Family_Size  Var_1  \n",
       "0            Low          1.0  Cat_6  \n",
       "1        Average          4.0  Cat_6  \n",
       "2            Low          1.0  Cat_6  "
      ]
     },
     "execution_count": 4,
     "metadata": {},
     "output_type": "execute_result"
    }
   ],
   "source": [
    "test.head(3)"
   ]
  },
  {
   "cell_type": "code",
   "execution_count": 5,
   "id": "a668fa9f",
   "metadata": {},
   "outputs": [],
   "source": [
    "#We add a column/attribute 'isTrain' to be able to seperate test and train datas since we merged them as 'all' DataFrame in \n",
    "#order to provide data preprocessing(handling missing values,outliers,normalization,etc.) more effectively and clearly on a\n",
    "#one DataFrame which collects all the relevant datas together. Also, it provides more efficent statistical calculations for our\n",
    "#transactions in the following steps;\n",
    "train[\"isTrain\"]=1\n",
    "test[\"isTrain\"]=0\n",
    "all=pd.concat([train,test])"
   ]
  },
  {
   "cell_type": "code",
   "execution_count": 6,
   "id": "0219682c",
   "metadata": {},
   "outputs": [
    {
     "data": {
      "text/html": [
       "<div>\n",
       "<style scoped>\n",
       "    .dataframe tbody tr th:only-of-type {\n",
       "        vertical-align: middle;\n",
       "    }\n",
       "\n",
       "    .dataframe tbody tr th {\n",
       "        vertical-align: top;\n",
       "    }\n",
       "\n",
       "    .dataframe thead th {\n",
       "        text-align: right;\n",
       "    }\n",
       "</style>\n",
       "<table border=\"1\" class=\"dataframe\">\n",
       "  <thead>\n",
       "    <tr style=\"text-align: right;\">\n",
       "      <th></th>\n",
       "      <th>ID</th>\n",
       "      <th>Age</th>\n",
       "      <th>Work_Experience</th>\n",
       "      <th>Family_Size</th>\n",
       "      <th>isTrain</th>\n",
       "    </tr>\n",
       "  </thead>\n",
       "  <tbody>\n",
       "    <tr>\n",
       "      <th>count</th>\n",
       "      <td>10695.000000</td>\n",
       "      <td>10695.000000</td>\n",
       "      <td>9597.000000</td>\n",
       "      <td>10247.000000</td>\n",
       "      <td>10695.000000</td>\n",
       "    </tr>\n",
       "    <tr>\n",
       "      <th>mean</th>\n",
       "      <td>463468.088640</td>\n",
       "      <td>43.511828</td>\n",
       "      <td>2.619777</td>\n",
       "      <td>2.844052</td>\n",
       "      <td>0.754371</td>\n",
       "    </tr>\n",
       "    <tr>\n",
       "      <th>std</th>\n",
       "      <td>2600.966411</td>\n",
       "      <td>16.774158</td>\n",
       "      <td>3.390790</td>\n",
       "      <td>1.536427</td>\n",
       "      <td>0.430480</td>\n",
       "    </tr>\n",
       "    <tr>\n",
       "      <th>min</th>\n",
       "      <td>458982.000000</td>\n",
       "      <td>18.000000</td>\n",
       "      <td>0.000000</td>\n",
       "      <td>1.000000</td>\n",
       "      <td>0.000000</td>\n",
       "    </tr>\n",
       "    <tr>\n",
       "      <th>25%</th>\n",
       "      <td>461220.500000</td>\n",
       "      <td>30.000000</td>\n",
       "      <td>0.000000</td>\n",
       "      <td>2.000000</td>\n",
       "      <td>1.000000</td>\n",
       "    </tr>\n",
       "    <tr>\n",
       "      <th>50%</th>\n",
       "      <td>463451.000000</td>\n",
       "      <td>41.000000</td>\n",
       "      <td>1.000000</td>\n",
       "      <td>3.000000</td>\n",
       "      <td>1.000000</td>\n",
       "    </tr>\n",
       "    <tr>\n",
       "      <th>75%</th>\n",
       "      <td>465733.500000</td>\n",
       "      <td>53.000000</td>\n",
       "      <td>4.000000</td>\n",
       "      <td>4.000000</td>\n",
       "      <td>1.000000</td>\n",
       "    </tr>\n",
       "    <tr>\n",
       "      <th>max</th>\n",
       "      <td>467974.000000</td>\n",
       "      <td>89.000000</td>\n",
       "      <td>14.000000</td>\n",
       "      <td>9.000000</td>\n",
       "      <td>1.000000</td>\n",
       "    </tr>\n",
       "  </tbody>\n",
       "</table>\n",
       "</div>"
      ],
      "text/plain": [
       "                  ID           Age  Work_Experience   Family_Size  \\\n",
       "count   10695.000000  10695.000000      9597.000000  10247.000000   \n",
       "mean   463468.088640     43.511828         2.619777      2.844052   \n",
       "std      2600.966411     16.774158         3.390790      1.536427   \n",
       "min    458982.000000     18.000000         0.000000      1.000000   \n",
       "25%    461220.500000     30.000000         0.000000      2.000000   \n",
       "50%    463451.000000     41.000000         1.000000      3.000000   \n",
       "75%    465733.500000     53.000000         4.000000      4.000000   \n",
       "max    467974.000000     89.000000        14.000000      9.000000   \n",
       "\n",
       "            isTrain  \n",
       "count  10695.000000  \n",
       "mean       0.754371  \n",
       "std        0.430480  \n",
       "min        0.000000  \n",
       "25%        1.000000  \n",
       "50%        1.000000  \n",
       "75%        1.000000  \n",
       "max        1.000000  "
      ]
     },
     "execution_count": 6,
     "metadata": {},
     "output_type": "execute_result"
    }
   ],
   "source": [
    "all.describe()"
   ]
  },
  {
   "cell_type": "code",
   "execution_count": 7,
   "id": "ea521e94",
   "metadata": {
    "scrolled": true
   },
   "outputs": [
    {
     "data": {
      "text/html": [
       "<div>\n",
       "<style scoped>\n",
       "    .dataframe tbody tr th:only-of-type {\n",
       "        vertical-align: middle;\n",
       "    }\n",
       "\n",
       "    .dataframe tbody tr th {\n",
       "        vertical-align: top;\n",
       "    }\n",
       "\n",
       "    .dataframe thead th {\n",
       "        text-align: right;\n",
       "    }\n",
       "</style>\n",
       "<table border=\"1\" class=\"dataframe\">\n",
       "  <thead>\n",
       "    <tr style=\"text-align: right;\">\n",
       "      <th></th>\n",
       "      <th>ID</th>\n",
       "      <th>Gender</th>\n",
       "      <th>Ever_Married</th>\n",
       "      <th>Age</th>\n",
       "      <th>Graduated</th>\n",
       "      <th>Profession</th>\n",
       "      <th>Work_Experience</th>\n",
       "      <th>Spending_Score</th>\n",
       "      <th>Family_Size</th>\n",
       "      <th>Var_1</th>\n",
       "      <th>Segmentation</th>\n",
       "      <th>isTrain</th>\n",
       "    </tr>\n",
       "  </thead>\n",
       "  <tbody>\n",
       "    <tr>\n",
       "      <th>0</th>\n",
       "      <td>462809</td>\n",
       "      <td>Male</td>\n",
       "      <td>No</td>\n",
       "      <td>22</td>\n",
       "      <td>No</td>\n",
       "      <td>Healthcare</td>\n",
       "      <td>1.0</td>\n",
       "      <td>Low</td>\n",
       "      <td>4.0</td>\n",
       "      <td>Cat_4</td>\n",
       "      <td>D</td>\n",
       "      <td>1</td>\n",
       "    </tr>\n",
       "    <tr>\n",
       "      <th>1</th>\n",
       "      <td>462643</td>\n",
       "      <td>Female</td>\n",
       "      <td>Yes</td>\n",
       "      <td>38</td>\n",
       "      <td>Yes</td>\n",
       "      <td>Engineer</td>\n",
       "      <td>NaN</td>\n",
       "      <td>Average</td>\n",
       "      <td>3.0</td>\n",
       "      <td>Cat_4</td>\n",
       "      <td>A</td>\n",
       "      <td>1</td>\n",
       "    </tr>\n",
       "    <tr>\n",
       "      <th>2</th>\n",
       "      <td>466315</td>\n",
       "      <td>Female</td>\n",
       "      <td>Yes</td>\n",
       "      <td>67</td>\n",
       "      <td>Yes</td>\n",
       "      <td>Engineer</td>\n",
       "      <td>1.0</td>\n",
       "      <td>Low</td>\n",
       "      <td>1.0</td>\n",
       "      <td>Cat_6</td>\n",
       "      <td>B</td>\n",
       "      <td>1</td>\n",
       "    </tr>\n",
       "    <tr>\n",
       "      <th>3</th>\n",
       "      <td>461735</td>\n",
       "      <td>Male</td>\n",
       "      <td>Yes</td>\n",
       "      <td>67</td>\n",
       "      <td>Yes</td>\n",
       "      <td>Lawyer</td>\n",
       "      <td>0.0</td>\n",
       "      <td>High</td>\n",
       "      <td>2.0</td>\n",
       "      <td>Cat_6</td>\n",
       "      <td>B</td>\n",
       "      <td>1</td>\n",
       "    </tr>\n",
       "    <tr>\n",
       "      <th>4</th>\n",
       "      <td>462669</td>\n",
       "      <td>Female</td>\n",
       "      <td>Yes</td>\n",
       "      <td>40</td>\n",
       "      <td>Yes</td>\n",
       "      <td>Entertainment</td>\n",
       "      <td>NaN</td>\n",
       "      <td>High</td>\n",
       "      <td>6.0</td>\n",
       "      <td>Cat_6</td>\n",
       "      <td>A</td>\n",
       "      <td>1</td>\n",
       "    </tr>\n",
       "    <tr>\n",
       "      <th>...</th>\n",
       "      <td>...</td>\n",
       "      <td>...</td>\n",
       "      <td>...</td>\n",
       "      <td>...</td>\n",
       "      <td>...</td>\n",
       "      <td>...</td>\n",
       "      <td>...</td>\n",
       "      <td>...</td>\n",
       "      <td>...</td>\n",
       "      <td>...</td>\n",
       "      <td>...</td>\n",
       "      <td>...</td>\n",
       "    </tr>\n",
       "    <tr>\n",
       "      <th>2622</th>\n",
       "      <td>467954</td>\n",
       "      <td>Male</td>\n",
       "      <td>No</td>\n",
       "      <td>29</td>\n",
       "      <td>No</td>\n",
       "      <td>Healthcare</td>\n",
       "      <td>9.0</td>\n",
       "      <td>Low</td>\n",
       "      <td>4.0</td>\n",
       "      <td>Cat_6</td>\n",
       "      <td>NaN</td>\n",
       "      <td>0</td>\n",
       "    </tr>\n",
       "    <tr>\n",
       "      <th>2623</th>\n",
       "      <td>467958</td>\n",
       "      <td>Female</td>\n",
       "      <td>No</td>\n",
       "      <td>35</td>\n",
       "      <td>Yes</td>\n",
       "      <td>Doctor</td>\n",
       "      <td>1.0</td>\n",
       "      <td>Low</td>\n",
       "      <td>1.0</td>\n",
       "      <td>Cat_6</td>\n",
       "      <td>NaN</td>\n",
       "      <td>0</td>\n",
       "    </tr>\n",
       "    <tr>\n",
       "      <th>2624</th>\n",
       "      <td>467960</td>\n",
       "      <td>Female</td>\n",
       "      <td>No</td>\n",
       "      <td>53</td>\n",
       "      <td>Yes</td>\n",
       "      <td>Entertainment</td>\n",
       "      <td>NaN</td>\n",
       "      <td>Low</td>\n",
       "      <td>2.0</td>\n",
       "      <td>Cat_6</td>\n",
       "      <td>NaN</td>\n",
       "      <td>0</td>\n",
       "    </tr>\n",
       "    <tr>\n",
       "      <th>2625</th>\n",
       "      <td>467961</td>\n",
       "      <td>Male</td>\n",
       "      <td>Yes</td>\n",
       "      <td>47</td>\n",
       "      <td>Yes</td>\n",
       "      <td>Executive</td>\n",
       "      <td>1.0</td>\n",
       "      <td>High</td>\n",
       "      <td>5.0</td>\n",
       "      <td>Cat_4</td>\n",
       "      <td>NaN</td>\n",
       "      <td>0</td>\n",
       "    </tr>\n",
       "    <tr>\n",
       "      <th>2626</th>\n",
       "      <td>467968</td>\n",
       "      <td>Female</td>\n",
       "      <td>No</td>\n",
       "      <td>43</td>\n",
       "      <td>Yes</td>\n",
       "      <td>Healthcare</td>\n",
       "      <td>9.0</td>\n",
       "      <td>Low</td>\n",
       "      <td>3.0</td>\n",
       "      <td>Cat_7</td>\n",
       "      <td>NaN</td>\n",
       "      <td>0</td>\n",
       "    </tr>\n",
       "  </tbody>\n",
       "</table>\n",
       "<p>10695 rows × 12 columns</p>\n",
       "</div>"
      ],
      "text/plain": [
       "          ID  Gender Ever_Married  Age Graduated     Profession  \\\n",
       "0     462809    Male           No   22        No     Healthcare   \n",
       "1     462643  Female          Yes   38       Yes       Engineer   \n",
       "2     466315  Female          Yes   67       Yes       Engineer   \n",
       "3     461735    Male          Yes   67       Yes         Lawyer   \n",
       "4     462669  Female          Yes   40       Yes  Entertainment   \n",
       "...      ...     ...          ...  ...       ...            ...   \n",
       "2622  467954    Male           No   29        No     Healthcare   \n",
       "2623  467958  Female           No   35       Yes         Doctor   \n",
       "2624  467960  Female           No   53       Yes  Entertainment   \n",
       "2625  467961    Male          Yes   47       Yes      Executive   \n",
       "2626  467968  Female           No   43       Yes     Healthcare   \n",
       "\n",
       "      Work_Experience Spending_Score  Family_Size  Var_1 Segmentation  isTrain  \n",
       "0                 1.0            Low          4.0  Cat_4            D        1  \n",
       "1                 NaN        Average          3.0  Cat_4            A        1  \n",
       "2                 1.0            Low          1.0  Cat_6            B        1  \n",
       "3                 0.0           High          2.0  Cat_6            B        1  \n",
       "4                 NaN           High          6.0  Cat_6            A        1  \n",
       "...               ...            ...          ...    ...          ...      ...  \n",
       "2622              9.0            Low          4.0  Cat_6          NaN        0  \n",
       "2623              1.0            Low          1.0  Cat_6          NaN        0  \n",
       "2624              NaN            Low          2.0  Cat_6          NaN        0  \n",
       "2625              1.0           High          5.0  Cat_4          NaN        0  \n",
       "2626              9.0            Low          3.0  Cat_7          NaN        0  \n",
       "\n",
       "[10695 rows x 12 columns]"
      ]
     },
     "execution_count": 7,
     "metadata": {},
     "output_type": "execute_result"
    }
   ],
   "source": [
    "#We make our statistical calculations for the dataset with the usage of copied form of our DataFrame to prevent effects which \n",
    "#might change the real datas of the dataset;\n",
    "df_copy=all.copy()\n",
    "df_copy"
   ]
  },
  {
   "cell_type": "code",
   "execution_count": 8,
   "id": "6271c5b3",
   "metadata": {},
   "outputs": [],
   "source": [
    "#We applied 'ffill' method to fill the missing values according to the existent values for 'Work_Experience' and 'Family_Size'\n",
    "#attributes. We didn't fill with 'mean value' for now to not affect the mean value of the attributes on a describe() table \n",
    "#too much.\n",
    "df_copy[['Work_Experience','Family_Size']]=df_copy[['Work_Experience','Family_Size']].fillna(method='ffill')"
   ]
  },
  {
   "cell_type": "code",
   "execution_count": 9,
   "id": "128e84c5",
   "metadata": {},
   "outputs": [
    {
     "data": {
      "text/html": [
       "<div>\n",
       "<style scoped>\n",
       "    .dataframe tbody tr th:only-of-type {\n",
       "        vertical-align: middle;\n",
       "    }\n",
       "\n",
       "    .dataframe tbody tr th {\n",
       "        vertical-align: top;\n",
       "    }\n",
       "\n",
       "    .dataframe thead th {\n",
       "        text-align: right;\n",
       "    }\n",
       "</style>\n",
       "<table border=\"1\" class=\"dataframe\">\n",
       "  <thead>\n",
       "    <tr style=\"text-align: right;\">\n",
       "      <th></th>\n",
       "      <th>ID</th>\n",
       "      <th>Age</th>\n",
       "      <th>Work_Experience</th>\n",
       "      <th>Family_Size</th>\n",
       "      <th>isTrain</th>\n",
       "    </tr>\n",
       "  </thead>\n",
       "  <tbody>\n",
       "    <tr>\n",
       "      <th>count</th>\n",
       "      <td>10695.000000</td>\n",
       "      <td>10695.000000</td>\n",
       "      <td>10695.000000</td>\n",
       "      <td>10695.000000</td>\n",
       "      <td>10695.000000</td>\n",
       "    </tr>\n",
       "    <tr>\n",
       "      <th>mean</th>\n",
       "      <td>463468.088640</td>\n",
       "      <td>43.511828</td>\n",
       "      <td>2.611875</td>\n",
       "      <td>2.843198</td>\n",
       "      <td>0.754371</td>\n",
       "    </tr>\n",
       "    <tr>\n",
       "      <th>std</th>\n",
       "      <td>2600.966411</td>\n",
       "      <td>16.774158</td>\n",
       "      <td>3.386348</td>\n",
       "      <td>1.540430</td>\n",
       "      <td>0.430480</td>\n",
       "    </tr>\n",
       "    <tr>\n",
       "      <th>min</th>\n",
       "      <td>458982.000000</td>\n",
       "      <td>18.000000</td>\n",
       "      <td>0.000000</td>\n",
       "      <td>1.000000</td>\n",
       "      <td>0.000000</td>\n",
       "    </tr>\n",
       "    <tr>\n",
       "      <th>25%</th>\n",
       "      <td>461220.500000</td>\n",
       "      <td>30.000000</td>\n",
       "      <td>0.000000</td>\n",
       "      <td>2.000000</td>\n",
       "      <td>1.000000</td>\n",
       "    </tr>\n",
       "    <tr>\n",
       "      <th>50%</th>\n",
       "      <td>463451.000000</td>\n",
       "      <td>41.000000</td>\n",
       "      <td>1.000000</td>\n",
       "      <td>2.000000</td>\n",
       "      <td>1.000000</td>\n",
       "    </tr>\n",
       "    <tr>\n",
       "      <th>75%</th>\n",
       "      <td>465733.500000</td>\n",
       "      <td>53.000000</td>\n",
       "      <td>4.000000</td>\n",
       "      <td>4.000000</td>\n",
       "      <td>1.000000</td>\n",
       "    </tr>\n",
       "    <tr>\n",
       "      <th>max</th>\n",
       "      <td>467974.000000</td>\n",
       "      <td>89.000000</td>\n",
       "      <td>14.000000</td>\n",
       "      <td>9.000000</td>\n",
       "      <td>1.000000</td>\n",
       "    </tr>\n",
       "  </tbody>\n",
       "</table>\n",
       "</div>"
      ],
      "text/plain": [
       "                  ID           Age  Work_Experience   Family_Size  \\\n",
       "count   10695.000000  10695.000000     10695.000000  10695.000000   \n",
       "mean   463468.088640     43.511828         2.611875      2.843198   \n",
       "std      2600.966411     16.774158         3.386348      1.540430   \n",
       "min    458982.000000     18.000000         0.000000      1.000000   \n",
       "25%    461220.500000     30.000000         0.000000      2.000000   \n",
       "50%    463451.000000     41.000000         1.000000      2.000000   \n",
       "75%    465733.500000     53.000000         4.000000      4.000000   \n",
       "max    467974.000000     89.000000        14.000000      9.000000   \n",
       "\n",
       "            isTrain  \n",
       "count  10695.000000  \n",
       "mean       0.754371  \n",
       "std        0.430480  \n",
       "min        0.000000  \n",
       "25%        1.000000  \n",
       "50%        1.000000  \n",
       "75%        1.000000  \n",
       "max        1.000000  "
      ]
     },
     "execution_count": 9,
     "metadata": {},
     "output_type": "execute_result"
    }
   ],
   "source": [
    "df=df_copy.describe()\n",
    "df"
   ]
  },
  {
   "cell_type": "code",
   "execution_count": 10,
   "id": "c8d1f017",
   "metadata": {},
   "outputs": [
    {
     "data": {
      "text/html": [
       "<div>\n",
       "<style scoped>\n",
       "    .dataframe tbody tr th:only-of-type {\n",
       "        vertical-align: middle;\n",
       "    }\n",
       "\n",
       "    .dataframe tbody tr th {\n",
       "        vertical-align: top;\n",
       "    }\n",
       "\n",
       "    .dataframe thead th {\n",
       "        text-align: right;\n",
       "    }\n",
       "</style>\n",
       "<table border=\"1\" class=\"dataframe\">\n",
       "  <thead>\n",
       "    <tr style=\"text-align: right;\">\n",
       "      <th></th>\n",
       "      <th>ID</th>\n",
       "      <th>Age</th>\n",
       "      <th>Work_Experience</th>\n",
       "      <th>Family_Size</th>\n",
       "      <th>isTrain</th>\n",
       "    </tr>\n",
       "  </thead>\n",
       "  <tbody>\n",
       "    <tr>\n",
       "      <th>count</th>\n",
       "      <td>10695.000000</td>\n",
       "      <td>10695.000000</td>\n",
       "      <td>10695.000000</td>\n",
       "      <td>10695.000000</td>\n",
       "      <td>10695.000000</td>\n",
       "    </tr>\n",
       "    <tr>\n",
       "      <th>mean</th>\n",
       "      <td>463468.088640</td>\n",
       "      <td>43.511828</td>\n",
       "      <td>2.611875</td>\n",
       "      <td>2.843198</td>\n",
       "      <td>0.754371</td>\n",
       "    </tr>\n",
       "    <tr>\n",
       "      <th>std</th>\n",
       "      <td>2600.966411</td>\n",
       "      <td>16.774158</td>\n",
       "      <td>3.386348</td>\n",
       "      <td>1.540430</td>\n",
       "      <td>0.430480</td>\n",
       "    </tr>\n",
       "    <tr>\n",
       "      <th>min</th>\n",
       "      <td>458982.000000</td>\n",
       "      <td>18.000000</td>\n",
       "      <td>0.000000</td>\n",
       "      <td>1.000000</td>\n",
       "      <td>0.000000</td>\n",
       "    </tr>\n",
       "    <tr>\n",
       "      <th>25%</th>\n",
       "      <td>461220.500000</td>\n",
       "      <td>30.000000</td>\n",
       "      <td>0.000000</td>\n",
       "      <td>2.000000</td>\n",
       "      <td>1.000000</td>\n",
       "    </tr>\n",
       "    <tr>\n",
       "      <th>50%</th>\n",
       "      <td>463451.000000</td>\n",
       "      <td>41.000000</td>\n",
       "      <td>1.000000</td>\n",
       "      <td>2.000000</td>\n",
       "      <td>1.000000</td>\n",
       "    </tr>\n",
       "    <tr>\n",
       "      <th>75%</th>\n",
       "      <td>465733.500000</td>\n",
       "      <td>53.000000</td>\n",
       "      <td>4.000000</td>\n",
       "      <td>4.000000</td>\n",
       "      <td>1.000000</td>\n",
       "    </tr>\n",
       "    <tr>\n",
       "      <th>max</th>\n",
       "      <td>467974.000000</td>\n",
       "      <td>89.000000</td>\n",
       "      <td>14.000000</td>\n",
       "      <td>9.000000</td>\n",
       "      <td>1.000000</td>\n",
       "    </tr>\n",
       "    <tr>\n",
       "      <th>range</th>\n",
       "      <td>8992.000000</td>\n",
       "      <td>71.000000</td>\n",
       "      <td>14.000000</td>\n",
       "      <td>8.000000</td>\n",
       "      <td>1.000000</td>\n",
       "    </tr>\n",
       "    <tr>\n",
       "      <th>median</th>\n",
       "      <td>463451.000000</td>\n",
       "      <td>41.000000</td>\n",
       "      <td>1.000000</td>\n",
       "      <td>2.000000</td>\n",
       "      <td>1.000000</td>\n",
       "    </tr>\n",
       "  </tbody>\n",
       "</table>\n",
       "</div>"
      ],
      "text/plain": [
       "                   ID           Age  Work_Experience   Family_Size  \\\n",
       "count    10695.000000  10695.000000     10695.000000  10695.000000   \n",
       "mean    463468.088640     43.511828         2.611875      2.843198   \n",
       "std       2600.966411     16.774158         3.386348      1.540430   \n",
       "min     458982.000000     18.000000         0.000000      1.000000   \n",
       "25%     461220.500000     30.000000         0.000000      2.000000   \n",
       "50%     463451.000000     41.000000         1.000000      2.000000   \n",
       "75%     465733.500000     53.000000         4.000000      4.000000   \n",
       "max     467974.000000     89.000000        14.000000      9.000000   \n",
       "range     8992.000000     71.000000        14.000000      8.000000   \n",
       "median  463451.000000     41.000000         1.000000      2.000000   \n",
       "\n",
       "             isTrain  \n",
       "count   10695.000000  \n",
       "mean        0.754371  \n",
       "std         0.430480  \n",
       "min         0.000000  \n",
       "25%         1.000000  \n",
       "50%         1.000000  \n",
       "75%         1.000000  \n",
       "max         1.000000  \n",
       "range       1.000000  \n",
       "median      1.000000  "
      ]
     },
     "execution_count": 10,
     "metadata": {},
     "output_type": "execute_result"
    }
   ],
   "source": [
    "#Since the describe() method does not include range and median values for the numerical attributes, we add/insert these values\n",
    "#as a row to the describe() table;\n",
    "df.loc[\"range\"]=[np.abs(np.max(df_copy[\"ID\"])-np.min(df_copy[\"ID\"])),\n",
    "                np.abs(np.max(df_copy[\"Age\"])-np.min(df_copy[\"Age\"])),\n",
    "                np.abs(np.max(df_copy[\"Work_Experience\"])-np.min(df_copy[\"Work_Experience\"])),\n",
    "                np.abs(np.max(df_copy[\"Family_Size\"])-np.min(df_copy[\"Family_Size\"])),\n",
    "                np.abs(np.max(df_copy[\"isTrain\"])-np.min(df_copy[\"isTrain\"]))]\n",
    "df.loc[\"median\"]=[np.median(df_copy[\"ID\"]),\n",
    "                  np.median(df_copy[\"Age\"]),\n",
    "                  np.median(df_copy[\"Work_Experience\"]),\n",
    "                  np.median(df_copy[\"Family_Size\"]),\n",
    "                  np.median(df_copy[\"isTrain\"])]\n",
    "df"
   ]
  },
  {
   "cell_type": "code",
   "execution_count": 11,
   "id": "888e7081",
   "metadata": {},
   "outputs": [],
   "source": [
    "#****--------------Appropriate visuals (histogram, box plots...)"
   ]
  },
  {
   "cell_type": "code",
   "execution_count": 12,
   "id": "52705b09",
   "metadata": {},
   "outputs": [
    {
     "data": {
      "text/plain": [
       "<AxesSubplot:xlabel='Age', ylabel='count'>"
      ]
     },
     "execution_count": 12,
     "metadata": {},
     "output_type": "execute_result"
    },
    {
     "data": {
      "image/png": "[encoded data removed]",
      "text/plain": [
       "<Figure size 432x288 with 1 Axes>"
      ]
     },
     "metadata": {
      "needs_background": "light"
     },
     "output_type": "display_data"
    }
   ],
   "source": [
    "#Univariate\n",
    "#A countplot is kind of like a histogram or a bar graph for some categorical area. It simply shows the number of \n",
    "#occurrences of an item based on a certain type of category.\n",
    "sns.countplot(all['Age'])"
   ]
  },
  {
   "cell_type": "code",
   "execution_count": 13,
   "id": "b9930c74",
   "metadata": {},
   "outputs": [
    {
     "data": {
      "text/plain": [
       "<AxesSubplot:xlabel='Gender', ylabel='count'>"
      ]
     },
     "execution_count": 13,
     "metadata": {},
     "output_type": "execute_result"
    },
    {
     "data": {
      "image/png": "[encoded data removed]",
      "text/plain": [
       "<Figure size 432x288 with 1 Axes>"
      ]
     },
     "metadata": {
      "needs_background": "light"
     },
     "output_type": "display_data"
    }
   ],
   "source": [
    "#univariate\n",
    "sns.countplot(all['Gender'])"
   ]
  },
  {
   "cell_type": "code",
   "execution_count": 14,
   "id": "56089bd5",
   "metadata": {},
   "outputs": [
    {
     "data": {
      "text/plain": [
       "<AxesSubplot:xlabel='Ever_Married', ylabel='count'>"
      ]
     },
     "execution_count": 14,
     "metadata": {},
     "output_type": "execute_result"
    },
    {
     "data": {
      "image/png": "[encoded data removed]",
      "text/plain": [
       "<Figure size 432x288 with 1 Axes>"
      ]
     },
     "metadata": {
      "needs_background": "light"
     },
     "output_type": "display_data"
    }
   ],
   "source": [
    "#univariate\n",
    "sns.countplot(all['Ever_Married'])"
   ]
  },
  {
   "cell_type": "code",
   "execution_count": 15,
   "id": "c6888e0f",
   "metadata": {},
   "outputs": [
    {
     "data": {
      "text/plain": [
       "<AxesSubplot:xlabel='Profession', ylabel='count'>"
      ]
     },
     "execution_count": 15,
     "metadata": {},
     "output_type": "execute_result"
    },
    {
     "data": {
      "image/png": "[encoded data removed]",
      "text/plain": [
       "<Figure size 432x288 with 1 Axes>"
      ]
     },
     "metadata": {
      "needs_background": "light"
     },
     "output_type": "display_data"
    }
   ],
   "source": [
    "#univariate\n",
    "sns.countplot(all['Profession'])"
   ]
  },
  {
   "cell_type": "code",
   "execution_count": 16,
   "id": "61318543",
   "metadata": {},
   "outputs": [
    {
     "data": {
      "text/plain": [
       "<AxesSubplot:xlabel='Work_Experience', ylabel='count'>"
      ]
     },
     "execution_count": 16,
     "metadata": {},
     "output_type": "execute_result"
    },
    {
     "data": {
      "image/png": "[encoded data removed]",
      "text/plain": [
       "<Figure size 432x288 with 1 Axes>"
      ]
     },
     "metadata": {
      "needs_background": "light"
     },
     "output_type": "display_data"
    }
   ],
   "source": [
    "#univariate\n",
    "sns.countplot(all['Work_Experience'])"
   ]
  },
  {
   "cell_type": "code",
   "execution_count": 17,
   "id": "221df18d",
   "metadata": {},
   "outputs": [
    {
     "data": {
      "text/plain": [
       "<AxesSubplot:xlabel='Var_1', ylabel='count'>"
      ]
     },
     "execution_count": 17,
     "metadata": {},
     "output_type": "execute_result"
    },
    {
     "data": {
      "image/png": "[encoded data removed]",
      "text/plain": [
       "<Figure size 432x288 with 1 Axes>"
      ]
     },
     "metadata": {
      "needs_background": "light"
     },
     "output_type": "display_data"
    }
   ],
   "source": [
    "#univariate\n",
    "sns.countplot(all['Var_1'])"
   ]
  },
  {
   "cell_type": "code",
   "execution_count": 18,
   "id": "8f4e93fb",
   "metadata": {},
   "outputs": [
    {
     "data": {
      "text/plain": [
       "<AxesSubplot:xlabel='Segmentation', ylabel='count'>"
      ]
     },
     "execution_count": 18,
     "metadata": {},
     "output_type": "execute_result"
    },
    {
     "data": {
      "image/png": "[encoded data removed]",
      "text/plain": [
       "<Figure size 432x288 with 1 Axes>"
      ]
     },
     "metadata": {
      "needs_background": "light"
     },
     "output_type": "display_data"
    }
   ],
   "source": [
    "#univariate\n",
    "sns.countplot(all['Segmentation'])"
   ]
  },
  {
   "cell_type": "code",
   "execution_count": 19,
   "id": "931668ba",
   "metadata": {},
   "outputs": [
    {
     "data": {
      "text/plain": [
       "<AxesSubplot:>"
      ]
     },
     "execution_count": 19,
     "metadata": {},
     "output_type": "execute_result"
    },
    {
     "data": {
      "image/png": "[encoded data removed]",
      "text/plain": [
       "<Figure size 432x288 with 1 Axes>"
      ]
     },
     "metadata": {
      "needs_background": "light"
     },
     "output_type": "display_data"
    }
   ],
   "source": [
    "#BoxPlot;(for univariate)\n",
    "df=all[\"Age\"]\n",
    "df.plot.box()"
   ]
  },
  {
   "cell_type": "code",
   "execution_count": 20,
   "id": "6fd849e3",
   "metadata": {},
   "outputs": [
    {
     "data": {
      "text/plain": [
       "<AxesSubplot:ylabel='Frequency'>"
      ]
     },
     "execution_count": 20,
     "metadata": {},
     "output_type": "execute_result"
    },
    {
     "data": {
      "image/png": "[encoded data removed]",
      "text/plain": [
       "<Figure size 432x288 with 1 Axes>"
      ]
     },
     "metadata": {
      "needs_background": "light"
     },
     "output_type": "display_data"
    }
   ],
   "source": [
    "#Histogram-univariate\n",
    "df=all['Work_Experience']\n",
    "df.plot.hist(bins=12)"
   ]
  },
  {
   "cell_type": "code",
   "execution_count": 21,
   "id": "b20832f1",
   "metadata": {},
   "outputs": [
    {
     "data": {
      "text/plain": [
       "<AxesSubplot:>"
      ]
     },
     "execution_count": 21,
     "metadata": {},
     "output_type": "execute_result"
    },
    {
     "data": {
      "image/png": "[encoded data removed]",
      "text/plain": [
       "<Figure size 432x288 with 1 Axes>"
      ]
     },
     "metadata": {
      "needs_background": "light"
     },
     "output_type": "display_data"
    }
   ],
   "source": [
    "#BoxPlot Visualization Example for more than one attribute;\n",
    "df=all[[\"Age\",\"Work_Experience\",\"Family_Size\"]]\n",
    "df.plot.box()"
   ]
  },
  {
   "cell_type": "code",
   "execution_count": 22,
   "id": "9cdf2c34",
   "metadata": {},
   "outputs": [
    {
     "data": {
      "text/plain": [
       "<AxesSubplot:ylabel='Frequency'>"
      ]
     },
     "execution_count": 22,
     "metadata": {},
     "output_type": "execute_result"
    },
    {
     "data": {
      "image/png": "[encoded data removed]",
      "text/plain": [
       "<Figure size 432x288 with 1 Axes>"
      ]
     },
     "metadata": {
      "needs_background": "light"
     },
     "output_type": "display_data"
    }
   ],
   "source": [
    "#Histogram Visualization Example for more than one attribute;\n",
    "df=all[[\"Age\",\"Work_Experience\",\"Family_Size\"]]\n",
    "df.plot.hist(bins=12)"
   ]
  },
  {
   "cell_type": "code",
   "execution_count": 23,
   "id": "271177b0",
   "metadata": {},
   "outputs": [
    {
     "data": {
      "image/png": "[encoded data removed]",
      "text/plain": [
       "<Figure size 432x288 with 25 Axes>"
      ]
     },
     "metadata": {
      "needs_background": "light"
     },
     "output_type": "display_data"
    }
   ],
   "source": [
    "#Scatter Matrix Visualization Example for more than one attribute;\n",
    "df=all\n",
    "pd.plotting.scatter_matrix(df);"
   ]
  },
  {
   "cell_type": "code",
   "execution_count": 24,
   "id": "1ded883c",
   "metadata": {},
   "outputs": [
    {
     "name": "stdout",
     "output_type": "stream",
     "text": [
      "<class 'pandas.core.frame.DataFrame'>\n",
      "Int64Index: 10695 entries, 0 to 2626\n",
      "Data columns (total 12 columns):\n",
      " #   Column           Non-Null Count  Dtype  \n",
      "---  ------           --------------  -----  \n",
      " 0   ID               10695 non-null  int64  \n",
      " 1   Gender           10695 non-null  object \n",
      " 2   Ever_Married     10505 non-null  object \n",
      " 3   Age              10695 non-null  int64  \n",
      " 4   Graduated        10593 non-null  object \n",
      " 5   Profession       10533 non-null  object \n",
      " 6   Work_Experience  9597 non-null   float64\n",
      " 7   Spending_Score   10695 non-null  object \n",
      " 8   Family_Size      10247 non-null  float64\n",
      " 9   Var_1            10587 non-null  object \n",
      " 10  Segmentation     8068 non-null   object \n",
      " 11  isTrain          10695 non-null  int64  \n",
      "dtypes: float64(2), int64(3), object(7)\n",
      "memory usage: 1.3+ MB\n"
     ]
    }
   ],
   "source": [
    "#************MISSING VALUES--Statistics about the missing values (what is the percentage)\n",
    "all.info()"
   ]
  },
  {
   "cell_type": "code",
   "execution_count": 25,
   "id": "36023e13",
   "metadata": {},
   "outputs": [
    {
     "data": {
      "text/plain": [
       "ID                 10695\n",
       "Gender             10695\n",
       "Ever_Married       10505\n",
       "Age                10695\n",
       "Graduated          10593\n",
       "Profession         10533\n",
       "Work_Experience     9597\n",
       "Spending_Score     10695\n",
       "Family_Size        10247\n",
       "Var_1              10587\n",
       "Segmentation        8068\n",
       "isTrain            10695\n",
       "dtype: int64"
      ]
     },
     "execution_count": 25,
     "metadata": {},
     "output_type": "execute_result"
    }
   ],
   "source": [
    "all.count() #returns non-missing values for each column(it's idea is mathcing with the 'info()'s  but count() returns \n",
    "#the values as Series and it makes the usage of it more preferable)."
   ]
  },
  {
   "cell_type": "code",
   "execution_count": 26,
   "id": "c446c56e",
   "metadata": {},
   "outputs": [
    {
     "data": {
      "text/html": [
       "<div>\n",
       "<style scoped>\n",
       "    .dataframe tbody tr th:only-of-type {\n",
       "        vertical-align: middle;\n",
       "    }\n",
       "\n",
       "    .dataframe tbody tr th {\n",
       "        vertical-align: top;\n",
       "    }\n",
       "\n",
       "    .dataframe thead th {\n",
       "        text-align: right;\n",
       "    }\n",
       "</style>\n",
       "<table border=\"1\" class=\"dataframe\">\n",
       "  <thead>\n",
       "    <tr style=\"text-align: right;\">\n",
       "      <th></th>\n",
       "      <th>ID</th>\n",
       "      <th>Gender</th>\n",
       "      <th>Ever_Married</th>\n",
       "      <th>Age</th>\n",
       "      <th>Graduated</th>\n",
       "      <th>Profession</th>\n",
       "      <th>Work_Experience</th>\n",
       "      <th>Spending_Score</th>\n",
       "      <th>Family_Size</th>\n",
       "      <th>Var_1</th>\n",
       "      <th>Segmentation</th>\n",
       "      <th>isTrain</th>\n",
       "    </tr>\n",
       "  </thead>\n",
       "  <tbody>\n",
       "    <tr>\n",
       "      <th>0</th>\n",
       "      <td>False</td>\n",
       "      <td>False</td>\n",
       "      <td>False</td>\n",
       "      <td>False</td>\n",
       "      <td>False</td>\n",
       "      <td>False</td>\n",
       "      <td>False</td>\n",
       "      <td>False</td>\n",
       "      <td>False</td>\n",
       "      <td>False</td>\n",
       "      <td>False</td>\n",
       "      <td>False</td>\n",
       "    </tr>\n",
       "    <tr>\n",
       "      <th>1</th>\n",
       "      <td>False</td>\n",
       "      <td>False</td>\n",
       "      <td>False</td>\n",
       "      <td>False</td>\n",
       "      <td>False</td>\n",
       "      <td>False</td>\n",
       "      <td>True</td>\n",
       "      <td>False</td>\n",
       "      <td>False</td>\n",
       "      <td>False</td>\n",
       "      <td>False</td>\n",
       "      <td>False</td>\n",
       "    </tr>\n",
       "    <tr>\n",
       "      <th>2</th>\n",
       "      <td>False</td>\n",
       "      <td>False</td>\n",
       "      <td>False</td>\n",
       "      <td>False</td>\n",
       "      <td>False</td>\n",
       "      <td>False</td>\n",
       "      <td>False</td>\n",
       "      <td>False</td>\n",
       "      <td>False</td>\n",
       "      <td>False</td>\n",
       "      <td>False</td>\n",
       "      <td>False</td>\n",
       "    </tr>\n",
       "    <tr>\n",
       "      <th>3</th>\n",
       "      <td>False</td>\n",
       "      <td>False</td>\n",
       "      <td>False</td>\n",
       "      <td>False</td>\n",
       "      <td>False</td>\n",
       "      <td>False</td>\n",
       "      <td>False</td>\n",
       "      <td>False</td>\n",
       "      <td>False</td>\n",
       "      <td>False</td>\n",
       "      <td>False</td>\n",
       "      <td>False</td>\n",
       "    </tr>\n",
       "    <tr>\n",
       "      <th>4</th>\n",
       "      <td>False</td>\n",
       "      <td>False</td>\n",
       "      <td>False</td>\n",
       "      <td>False</td>\n",
       "      <td>False</td>\n",
       "      <td>False</td>\n",
       "      <td>True</td>\n",
       "      <td>False</td>\n",
       "      <td>False</td>\n",
       "      <td>False</td>\n",
       "      <td>False</td>\n",
       "      <td>False</td>\n",
       "    </tr>\n",
       "  </tbody>\n",
       "</table>\n",
       "</div>"
      ],
      "text/plain": [
       "      ID  Gender  Ever_Married    Age  Graduated  Profession  Work_Experience  \\\n",
       "0  False   False         False  False      False       False            False   \n",
       "1  False   False         False  False      False       False             True   \n",
       "2  False   False         False  False      False       False            False   \n",
       "3  False   False         False  False      False       False            False   \n",
       "4  False   False         False  False      False       False             True   \n",
       "\n",
       "   Spending_Score  Family_Size  Var_1  Segmentation  isTrain  \n",
       "0           False        False  False         False    False  \n",
       "1           False        False  False         False    False  \n",
       "2           False        False  False         False    False  \n",
       "3           False        False  False         False    False  \n",
       "4           False        False  False         False    False  "
      ]
     },
     "execution_count": 26,
     "metadata": {},
     "output_type": "execute_result"
    }
   ],
   "source": [
    "#now we're trying to find missing values instead of non-missing values;\n",
    "val_missing=all.isna() #returns the dataset as boolean datatype\n",
    "val_missing.head()"
   ]
  },
  {
   "cell_type": "code",
   "execution_count": 27,
   "id": "b9638aa7",
   "metadata": {},
   "outputs": [
    {
     "data": {
      "text/plain": [
       "ID                    0\n",
       "Gender                0\n",
       "Ever_Married        190\n",
       "Age                   0\n",
       "Graduated           102\n",
       "Profession          162\n",
       "Work_Experience    1098\n",
       "Spending_Score        0\n",
       "Family_Size         448\n",
       "Var_1               108\n",
       "Segmentation       2627\n",
       "isTrain               0\n",
       "dtype: int64"
      ]
     },
     "execution_count": 27,
     "metadata": {},
     "output_type": "execute_result"
    }
   ],
   "source": [
    "#now we're trying to find missing values instead of non-missing values(we found the count of missing  values of each column!);\n",
    "val_num_missing=val_missing.sum() #it returns the number of missing values for each column(via calculating total of 'True' \n",
    "#columns which match with \n",
    "#missing/na value)\n",
    "val_num_missing #Segmentation has 2627 na/missing values since we take 'all' dataset as a combination of test and train datasets\n",
    "#and the test dataset doesnt have 'Segmentation' column."
   ]
  },
  {
   "cell_type": "code",
   "execution_count": 28,
   "id": "c8a81363",
   "metadata": {},
   "outputs": [
    {
     "data": {
      "text/plain": [
       "10695"
      ]
     },
     "execution_count": 28,
     "metadata": {},
     "output_type": "execute_result"
    }
   ],
   "source": [
    "len(all)"
   ]
  },
  {
   "cell_type": "code",
   "execution_count": 29,
   "id": "b37428da",
   "metadata": {},
   "outputs": [
    {
     "data": {
      "text/plain": [
       "ID                  0.00\n",
       "Gender              0.00\n",
       "Ever_Married        1.78\n",
       "Age                 0.00\n",
       "Graduated           0.95\n",
       "Profession          1.51\n",
       "Work_Experience    10.27\n",
       "Spending_Score      0.00\n",
       "Family_Size         4.19\n",
       "Var_1               1.01\n",
       "Segmentation       24.56\n",
       "isTrain             0.00\n",
       "dtype: float64"
      ]
     },
     "execution_count": 29,
     "metadata": {},
     "output_type": "execute_result"
    }
   ],
   "source": [
    "#**Here, we found statistics about the missing values (what is the percentage);\n",
    "#***Mean of missing values for each column;**************\n",
    "#val_num_missing/len(all)\n",
    "#val_missing.mean()\n",
    "all.isna().mean().round(4)*100 #with the usage of round(4), we cut the 6 decimal after point to 4 decimal value and then \n",
    "#with the usage of '*100', we got the value in percentage(e.g.'Ever Married' attribute's 1.78% value is missing!)"
   ]
  },
  {
   "cell_type": "code",
   "execution_count": 30,
   "id": "cffd64f3",
   "metadata": {},
   "outputs": [
    {
     "data": {
      "text/plain": [
       "<AxesSubplot:>"
      ]
     },
     "execution_count": 30,
     "metadata": {},
     "output_type": "execute_result"
    },
    {
     "data": {
      "image/png": "[encoded data removed]",
      "text/plain": [
       "<Figure size 432x288 with 2 Axes>"
      ]
     },
     "metadata": {
      "needs_background": "light"
     },
     "output_type": "display_data"
    }
   ],
   "source": [
    "#Visualization to check for missing values\n",
    "sns.heatmap(all.isna())"
   ]
  },
  {
   "cell_type": "code",
   "execution_count": 31,
   "id": "29593977",
   "metadata": {},
   "outputs": [
    {
     "data": {
      "text/plain": [
       "<AxesSubplot:xlabel='Work_Experience'>"
      ]
     },
     "execution_count": 31,
     "metadata": {},
     "output_type": "execute_result"
    },
    {
     "data": {
      "image/png": "[encoded data removed]",
      "text/plain": [
       "<Figure size 432x288 with 1 Axes>"
      ]
     },
     "metadata": {
      "needs_background": "light"
     },
     "output_type": "display_data"
    }
   ],
   "source": [
    "#-***-------------------OUTLIERS---(how did you identify outliers)\n",
    "# Box Plots to compare statistical datas with visualization;\n",
    "import seaborn as sns\n",
    "sns.boxplot(all['Work_Experience'])"
   ]
  },
  {
   "cell_type": "code",
   "execution_count": 32,
   "id": "b01a8862",
   "metadata": {},
   "outputs": [
    {
     "data": {
      "text/plain": [
       "<AxesSubplot:xlabel='Family_Size'>"
      ]
     },
     "execution_count": 32,
     "metadata": {},
     "output_type": "execute_result"
    },
    {
     "data": {
      "image/png": "[encoded data removed]",
      "text/plain": [
       "<Figure size 432x288 with 1 Axes>"
      ]
     },
     "metadata": {
      "needs_background": "light"
     },
     "output_type": "display_data"
    }
   ],
   "source": [
    "# Box Plots to compare statistical datas with visualization;\n",
    "import seaborn as sns\n",
    "sns.boxplot(all['Family_Size'])"
   ]
  },
  {
   "cell_type": "code",
   "execution_count": 33,
   "id": "92eacd26",
   "metadata": {},
   "outputs": [],
   "source": [
    "#only_nmv = all.where(all['Work_Experience']>10)\n",
    "only_nmv=all.copy()\n",
    "#only_nmv['Work_Experience']"
   ]
  },
  {
   "cell_type": "code",
   "execution_count": 34,
   "id": "a945de2b",
   "metadata": {},
   "outputs": [
    {
     "data": {
      "text/plain": [
       "20      12.0\n",
       "22      13.0\n",
       "42      14.0\n",
       "55      14.0\n",
       "176     11.0\n",
       "        ... \n",
       "2507    14.0\n",
       "2528    14.0\n",
       "2583    14.0\n",
       "2585    12.0\n",
       "2604    14.0\n",
       "Name: Work_Experience, Length: 247, dtype: float64"
      ]
     },
     "execution_count": 34,
     "metadata": {},
     "output_type": "execute_result"
    }
   ],
   "source": [
    "#We checked whether there is an outlier or not for 'Work_Experience' attribute according to the upper maximum(Q3+1.5*IQR) value\n",
    "#from the boxplot visualization of this attribute to compare the count of outliers with the below outlier calculations;\n",
    "only_nmv=all['Work_Experience']\n",
    "only_nmv=only_nmv.dropna()\n",
    "only_nmv=only_nmv.where(only_nmv>10)\n",
    "only_nmv=only_nmv.dropna()\n",
    "only_nmv"
   ]
  },
  {
   "cell_type": "code",
   "execution_count": 35,
   "id": "76f13439",
   "metadata": {},
   "outputs": [
    {
     "data": {
      "text/plain": [
       "26      8.0\n",
       "150     9.0\n",
       "202     8.0\n",
       "292     8.0\n",
       "344     8.0\n",
       "       ... \n",
       "2002    8.0\n",
       "2005    9.0\n",
       "2516    8.0\n",
       "2564    9.0\n",
       "2580    8.0\n",
       "Name: Family_Size, Length: 125, dtype: float64"
      ]
     },
     "execution_count": 35,
     "metadata": {},
     "output_type": "execute_result"
    }
   ],
   "source": [
    "#We checked whether there is an outlier or not for 'Family Size' attribute according to the upper maximum(Q3+1.5*IQR) value\n",
    "#from the boxplot visualization of this attribute to compare the count of outliers with the below outlier calculations;\n",
    "only_nmv=all['Family_Size']\n",
    "only_nmv=only_nmv.dropna()\n",
    "only_nmv=only_nmv.where(only_nmv>7)\n",
    "only_nmv=only_nmv.dropna()\n",
    "only_nmv"
   ]
  },
  {
   "cell_type": "code",
   "execution_count": 36,
   "id": "8a74f23e",
   "metadata": {},
   "outputs": [
    {
     "data": {
      "text/html": [
       "<div>\n",
       "<style scoped>\n",
       "    .dataframe tbody tr th:only-of-type {\n",
       "        vertical-align: middle;\n",
       "    }\n",
       "\n",
       "    .dataframe tbody tr th {\n",
       "        vertical-align: top;\n",
       "    }\n",
       "\n",
       "    .dataframe thead th {\n",
       "        text-align: right;\n",
       "    }\n",
       "</style>\n",
       "<table border=\"1\" class=\"dataframe\">\n",
       "  <thead>\n",
       "    <tr style=\"text-align: right;\">\n",
       "      <th></th>\n",
       "      <th>ID</th>\n",
       "      <th>Age</th>\n",
       "      <th>Work_Experience</th>\n",
       "      <th>Family_Size</th>\n",
       "      <th>isTrain</th>\n",
       "    </tr>\n",
       "  </thead>\n",
       "  <tbody>\n",
       "    <tr>\n",
       "      <th>count</th>\n",
       "      <td>10695.000000</td>\n",
       "      <td>10695.000000</td>\n",
       "      <td>9597.000000</td>\n",
       "      <td>10247.000000</td>\n",
       "      <td>10695.000000</td>\n",
       "    </tr>\n",
       "    <tr>\n",
       "      <th>mean</th>\n",
       "      <td>463468.088640</td>\n",
       "      <td>43.511828</td>\n",
       "      <td>2.619777</td>\n",
       "      <td>2.844052</td>\n",
       "      <td>0.754371</td>\n",
       "    </tr>\n",
       "    <tr>\n",
       "      <th>std</th>\n",
       "      <td>2600.966411</td>\n",
       "      <td>16.774158</td>\n",
       "      <td>3.390790</td>\n",
       "      <td>1.536427</td>\n",
       "      <td>0.430480</td>\n",
       "    </tr>\n",
       "    <tr>\n",
       "      <th>min</th>\n",
       "      <td>458982.000000</td>\n",
       "      <td>18.000000</td>\n",
       "      <td>0.000000</td>\n",
       "      <td>1.000000</td>\n",
       "      <td>0.000000</td>\n",
       "    </tr>\n",
       "    <tr>\n",
       "      <th>25%</th>\n",
       "      <td>461220.500000</td>\n",
       "      <td>30.000000</td>\n",
       "      <td>0.000000</td>\n",
       "      <td>2.000000</td>\n",
       "      <td>1.000000</td>\n",
       "    </tr>\n",
       "    <tr>\n",
       "      <th>50%</th>\n",
       "      <td>463451.000000</td>\n",
       "      <td>41.000000</td>\n",
       "      <td>1.000000</td>\n",
       "      <td>3.000000</td>\n",
       "      <td>1.000000</td>\n",
       "    </tr>\n",
       "    <tr>\n",
       "      <th>75%</th>\n",
       "      <td>465733.500000</td>\n",
       "      <td>53.000000</td>\n",
       "      <td>4.000000</td>\n",
       "      <td>4.000000</td>\n",
       "      <td>1.000000</td>\n",
       "    </tr>\n",
       "    <tr>\n",
       "      <th>max</th>\n",
       "      <td>467974.000000</td>\n",
       "      <td>89.000000</td>\n",
       "      <td>14.000000</td>\n",
       "      <td>9.000000</td>\n",
       "      <td>1.000000</td>\n",
       "    </tr>\n",
       "  </tbody>\n",
       "</table>\n",
       "</div>"
      ],
      "text/plain": [
       "                  ID           Age  Work_Experience   Family_Size  \\\n",
       "count   10695.000000  10695.000000      9597.000000  10247.000000   \n",
       "mean   463468.088640     43.511828         2.619777      2.844052   \n",
       "std      2600.966411     16.774158         3.390790      1.536427   \n",
       "min    458982.000000     18.000000         0.000000      1.000000   \n",
       "25%    461220.500000     30.000000         0.000000      2.000000   \n",
       "50%    463451.000000     41.000000         1.000000      3.000000   \n",
       "75%    465733.500000     53.000000         4.000000      4.000000   \n",
       "max    467974.000000     89.000000        14.000000      9.000000   \n",
       "\n",
       "            isTrain  \n",
       "count  10695.000000  \n",
       "mean       0.754371  \n",
       "std        0.430480  \n",
       "min        0.000000  \n",
       "25%        1.000000  \n",
       "50%        1.000000  \n",
       "75%        1.000000  \n",
       "max        1.000000  "
      ]
     },
     "execution_count": 36,
     "metadata": {},
     "output_type": "execute_result"
    }
   ],
   "source": [
    "all.describe()"
   ]
  },
  {
   "cell_type": "code",
   "execution_count": 37,
   "id": "1c93b113",
   "metadata": {},
   "outputs": [
    {
     "name": "stdout",
     "output_type": "stream",
     "text": [
      "max limit of \"Age\" whisker is 87.5\n",
      "[89 89 88 88 88 89 88 89 88 89 89 89 88 88 88 88 88 88 89 88 89 88 88 88\n",
      " 89 89 88 88 89 89 88 89 89 89 89 89 89 88 89 89 88 89 89 88 89 88 89 89\n",
      " 89 88 88 88 88 89 88 89 88 89 88 88 89 88 89 89 88 89 89 88 88 88 89 88\n",
      " 89 89 88 88 88 88 88 89 89 89 89 88 89 88 89 89 89 88]\n",
      "There are 90 max outliers\n",
      "----------------------------------------------------------------------\n",
      "min limit of \"Age\" whisker is -4.5\n",
      "[]\n",
      "There are 0 min outliers\n"
     ]
    }
   ],
   "source": [
    "# ****Finding outliers with the usage of Quartiles(Q1,Q3) and IQR for the Age attribute;\n",
    "Q1 = np.percentile(all['Age'],25,interpolation = 'midpoint')\n",
    "Q3 = np.percentile(all['Age'], 75,interpolation = 'midpoint')\n",
    "IQR = Q3 - Q1\n",
    "\n",
    "# Above Upper bound(Max Outliers)\n",
    "upper=Q3+1.5*IQR\n",
    "print('max limit of '+'\"Age\" '+'whisker is',upper)\n",
    "ds_max_outliers=all[all['Age']> Q3+1.5*IQR]['Age']\n",
    "print(np.array(ds_max_outliers.values))\n",
    "print('There are '+str(np.array(ds_max_outliers.values).size)+' max outliers')\n",
    "print(\"----------------------------------------------------------------------\")\n",
    "\n",
    "# Below Lower bound(Min Outliers)\n",
    "lower=Q1-1.5*IQR\n",
    "print('min limit of '+'\"Age\" '+'whisker is',lower)\n",
    "ds_min_outliers=all[all['Age']< Q1-1.5*IQR]['Age']\n",
    "print(np.array(ds_min_outliers.values))\n",
    "print('There are '+str(np.array(ds_min_outliers).size)+' min outliers')"
   ]
  },
  {
   "cell_type": "code",
   "execution_count": 38,
   "id": "ae84e863",
   "metadata": {},
   "outputs": [
    {
     "name": "stdout",
     "output_type": "stream",
     "text": [
      "max limit of \"Work_Experience\" whisker is 10.0\n",
      "[12. 13. 14. 14. 11. 11. 13. 14. 12. 13. 14. 12. 14. 14. 11. 13. 12. 13.\n",
      " 14. 12. 14. 12. 11. 13. 11. 11. 12. 11. 11. 12. 14. 14. 11. 12. 14. 12.\n",
      " 12. 13. 14. 12. 11. 11. 12. 11. 14. 13. 11. 12. 14. 12. 13. 12. 13. 14.\n",
      " 14. 13. 11. 13. 13. 13. 11. 11. 12. 14. 12. 14. 14. 12. 14. 12. 14. 11.\n",
      " 11. 11. 14. 14. 13. 13. 14. 11. 11. 11. 14. 11. 12. 14. 12. 11. 13. 11.\n",
      " 12. 12. 11. 11. 12. 12. 13. 13. 14. 13. 11. 14. 13. 12. 14. 12. 11. 14.\n",
      " 14. 12. 11. 14. 12. 12. 13. 12. 13. 13. 12. 11. 13. 14. 13. 14. 11. 11.\n",
      " 13. 13. 14. 13. 13. 12. 11. 12. 11. 12. 13. 13. 14. 12. 12. 12. 14. 13.\n",
      " 12. 13. 13. 11. 12. 11. 14. 14. 13. 11. 12. 11. 11. 13. 14. 13. 13. 14.\n",
      " 12. 11. 11. 11. 11. 14. 11. 11. 14. 12. 11. 12. 11. 13. 13. 12. 11. 11.\n",
      " 13. 13. 13. 12. 13. 12. 14. 13. 14. 11. 11. 13. 13. 13. 11. 11. 13. 11.\n",
      " 12. 14. 14. 12. 11. 13. 11. 12. 11. 14. 12. 12. 14. 14. 14. 14. 12. 11.\n",
      " 12. 12. 13. 11. 11. 13. 14. 13. 14. 14. 13. 12. 14. 13. 14. 14. 14. 12.\n",
      " 13. 14. 11. 11. 14. 11. 12. 14. 14. 14. 14. 12. 14.]\n",
      "There are 247 max outliers\n",
      "----------------------------------------------------------------------\n",
      "min limit of \"Work_Experience\" whisker is -6.0\n",
      "[]\n",
      "There are 0 min outliers\n"
     ]
    }
   ],
   "source": [
    "#******Finding outliers with the usage of Quartiles(Q1,Q3) and IQR for the Work_Experience attribute;\n",
    "#Since the missing values cause mislead/wrong calculation for quartiles,'only_nmv' variable had been created and we made \n",
    "#our transactions on this variable to provide accurate calculations;\n",
    "only_nmv=all['Work_Experience']\n",
    "only_nmv=only_nmv.dropna()\n",
    "\n",
    "Q1 = np.percentile(only_nmv,25,interpolation = 'midpoint')\n",
    "Q3 = np.percentile(only_nmv,75,interpolation = 'midpoint')\n",
    "IQR = Q3 - Q1\n",
    "\n",
    "\n",
    "# Above Upper bound(Max Outliers)\n",
    "upper=Q3+1.5*IQR\n",
    "print('max limit of '+'\"Work_Experience\" '+'whisker is',upper)\n",
    "only_nmv=only_nmv.where(only_nmv > Q3+1.5*IQR)\n",
    "only_nmv=only_nmv.dropna()\n",
    "ds_max_outliers=only_nmv\n",
    "print(np.array(ds_max_outliers.values)) #print(np.array(ds_max_outliers.values,int))\n",
    "print('There are '+str(np.array(ds_max_outliers.values).size)+' max outliers')\n",
    "print(\"----------------------------------------------------------------------\")\n",
    "\n",
    "# Below Lower bound(Min Outliers)\n",
    "lower=Q1-1.5*IQR\n",
    "print('min limit of '+'\"Work_Experience\" '+'whisker is',lower)\n",
    "only_nmv=only_nmv.where(only_nmv < Q1-1.5*IQR)\n",
    "only_nmv=only_nmv.dropna()\n",
    "ds_min_outliers=only_nmv\n",
    "print(np.array(ds_min_outliers.values))\n",
    "print('There are '+str(np.array(ds_min_outliers).size)+' min outliers')"
   ]
  },
  {
   "cell_type": "code",
   "execution_count": 39,
   "id": "137e5ae2",
   "metadata": {},
   "outputs": [
    {
     "name": "stdout",
     "output_type": "stream",
     "text": [
      "max limit of \"Family_Size\" whisker is 7.0\n",
      "[8. 9. 8. 8. 8. 8. 8. 9. 8. 8. 8. 8. 9. 9. 9. 8. 8. 9. 9. 8. 9. 8. 9. 9.\n",
      " 9. 9. 9. 9. 8. 8. 9. 9. 9. 8. 8. 8. 8. 9. 8. 8. 8. 8. 9. 8. 8. 8. 8. 8.\n",
      " 9. 9. 8. 9. 9. 9. 8. 8. 8. 9. 8. 9. 8. 8. 9. 8. 8. 9. 8. 8. 9. 9. 8. 8.\n",
      " 8. 8. 8. 9. 9. 9. 8. 8. 9. 9. 9. 8. 9. 9. 9. 9. 9. 8. 9. 9. 8. 9. 8. 8.\n",
      " 9. 9. 8. 9. 9. 9. 8. 8. 9. 8. 8. 8. 8. 9. 9. 9. 9. 9. 9. 8. 9. 9. 8. 8.\n",
      " 8. 9. 8. 9. 8.]\n",
      "There are 125 max outliers\n",
      "----------------------------------------------------------------------\n",
      "min limit of \"Family_Size\" whisker is -1.0\n",
      "[]\n",
      "There are 0 min outliers\n"
     ]
    }
   ],
   "source": [
    "#******Finding outliers with the usage of Quartiles(Q1,Q3) and IQR for the Family_Size attribute;\n",
    "#Since the missing values cause mislead/wrong calculation for quartiles,'only_nmv2' variable had been created and we made \n",
    "#our transactions on this variable to provide accurate calculations;\n",
    "only_nmv2=all['Family_Size']\n",
    "only_nmv2=only_nmv2.dropna()\n",
    "\n",
    "Q1 = np.percentile(only_nmv2,25,interpolation = 'midpoint')\n",
    "Q3 = np.percentile(only_nmv2,75,interpolation = 'midpoint')\n",
    "IQR = Q3 - Q1\n",
    "\n",
    "\n",
    "# Above Upper bound(Max Outliers)\n",
    "upper=Q3+1.5*IQR\n",
    "print('max limit of '+'\"Family_Size\" '+'whisker is',upper)\n",
    "only_nmv2=only_nmv2.where(only_nmv2 > Q3+1.5*IQR)\n",
    "only_nmv2=only_nmv2.dropna()\n",
    "ds_max_outliers=only_nmv2\n",
    "print(np.array(ds_max_outliers.values)) #print(np.array(ds_max_outliers.values,int))\n",
    "print('There are '+str(np.array(ds_max_outliers.values).size)+' max outliers')\n",
    "print(\"----------------------------------------------------------------------\")\n",
    "\n",
    "# Below Lower bound(Min Outliers)\n",
    "lower=Q1-1.5*IQR\n",
    "print('min limit of '+'\"Family_Size\" '+'whisker is',lower)\n",
    "only_nmv2=only_nmv2.where(only_nmv2 < Q1-1.5*IQR)\n",
    "only_nmv2=only_nmv2.dropna()\n",
    "ds_min_outliers=only_nmv2\n",
    "print(np.array(ds_min_outliers.values))\n",
    "print('There are '+str(np.array(ds_min_outliers).size)+' min outliers')"
   ]
  },
  {
   "cell_type": "code",
   "execution_count": 40,
   "id": "592df86c",
   "metadata": {},
   "outputs": [
    {
     "data": {
      "text/html": [
       "<div>\n",
       "<style scoped>\n",
       "    .dataframe tbody tr th:only-of-type {\n",
       "        vertical-align: middle;\n",
       "    }\n",
       "\n",
       "    .dataframe tbody tr th {\n",
       "        vertical-align: top;\n",
       "    }\n",
       "\n",
       "    .dataframe thead th {\n",
       "        text-align: right;\n",
       "    }\n",
       "</style>\n",
       "<table border=\"1\" class=\"dataframe\">\n",
       "  <thead>\n",
       "    <tr style=\"text-align: right;\">\n",
       "      <th></th>\n",
       "      <th>ID</th>\n",
       "      <th>Age</th>\n",
       "      <th>Work_Experience</th>\n",
       "      <th>Family_Size</th>\n",
       "      <th>isTrain</th>\n",
       "    </tr>\n",
       "  </thead>\n",
       "  <tbody>\n",
       "    <tr>\n",
       "      <th>count</th>\n",
       "      <td>10695.000000</td>\n",
       "      <td>10695.000000</td>\n",
       "      <td>9597.000000</td>\n",
       "      <td>10247.000000</td>\n",
       "      <td>10695.000000</td>\n",
       "    </tr>\n",
       "    <tr>\n",
       "      <th>mean</th>\n",
       "      <td>463468.088640</td>\n",
       "      <td>43.511828</td>\n",
       "      <td>2.619777</td>\n",
       "      <td>2.844052</td>\n",
       "      <td>0.754371</td>\n",
       "    </tr>\n",
       "    <tr>\n",
       "      <th>std</th>\n",
       "      <td>2600.966411</td>\n",
       "      <td>16.774158</td>\n",
       "      <td>3.390790</td>\n",
       "      <td>1.536427</td>\n",
       "      <td>0.430480</td>\n",
       "    </tr>\n",
       "    <tr>\n",
       "      <th>min</th>\n",
       "      <td>458982.000000</td>\n",
       "      <td>18.000000</td>\n",
       "      <td>0.000000</td>\n",
       "      <td>1.000000</td>\n",
       "      <td>0.000000</td>\n",
       "    </tr>\n",
       "    <tr>\n",
       "      <th>25%</th>\n",
       "      <td>461220.500000</td>\n",
       "      <td>30.000000</td>\n",
       "      <td>0.000000</td>\n",
       "      <td>2.000000</td>\n",
       "      <td>1.000000</td>\n",
       "    </tr>\n",
       "    <tr>\n",
       "      <th>50%</th>\n",
       "      <td>463451.000000</td>\n",
       "      <td>41.000000</td>\n",
       "      <td>1.000000</td>\n",
       "      <td>3.000000</td>\n",
       "      <td>1.000000</td>\n",
       "    </tr>\n",
       "    <tr>\n",
       "      <th>75%</th>\n",
       "      <td>465733.500000</td>\n",
       "      <td>53.000000</td>\n",
       "      <td>4.000000</td>\n",
       "      <td>4.000000</td>\n",
       "      <td>1.000000</td>\n",
       "    </tr>\n",
       "    <tr>\n",
       "      <th>max</th>\n",
       "      <td>467974.000000</td>\n",
       "      <td>89.000000</td>\n",
       "      <td>14.000000</td>\n",
       "      <td>9.000000</td>\n",
       "      <td>1.000000</td>\n",
       "    </tr>\n",
       "  </tbody>\n",
       "</table>\n",
       "</div>"
      ],
      "text/plain": [
       "                  ID           Age  Work_Experience   Family_Size  \\\n",
       "count   10695.000000  10695.000000      9597.000000  10247.000000   \n",
       "mean   463468.088640     43.511828         2.619777      2.844052   \n",
       "std      2600.966411     16.774158         3.390790      1.536427   \n",
       "min    458982.000000     18.000000         0.000000      1.000000   \n",
       "25%    461220.500000     30.000000         0.000000      2.000000   \n",
       "50%    463451.000000     41.000000         1.000000      3.000000   \n",
       "75%    465733.500000     53.000000         4.000000      4.000000   \n",
       "max    467974.000000     89.000000        14.000000      9.000000   \n",
       "\n",
       "            isTrain  \n",
       "count  10695.000000  \n",
       "mean       0.754371  \n",
       "std        0.430480  \n",
       "min        0.000000  \n",
       "25%        1.000000  \n",
       "50%        1.000000  \n",
       "75%        1.000000  \n",
       "max        1.000000  "
      ]
     },
     "execution_count": 40,
     "metadata": {},
     "output_type": "execute_result"
    }
   ],
   "source": [
    "all.describe()"
   ]
  },
  {
   "cell_type": "code",
   "execution_count": 48,
   "id": "0862754a",
   "metadata": {},
   "outputs": [],
   "source": [
    "#****--------------Does your data come from separate files? If so, how did you merge them?\n",
    "#Our data does not come from seperate files,for our resource there are two datasets(train and test). In order to make better\n",
    "#and more accurate calculations and statistics deduction for the datas, 'all' DataFrame had been created which includes both \n",
    "#test and train datasets and with the addition of binary 'isTrain' column, we can make seperation between test and train datas\n",
    "#easily."
   ]
  },
  {
   "cell_type": "code",
   "execution_count": 41,
   "id": "e937a681",
   "metadata": {
    "scrolled": true
   },
   "outputs": [
    {
     "name": "stdout",
     "output_type": "stream",
     "text": [
      "<class 'pandas.core.frame.DataFrame'>\n",
      "Int64Index: 10695 entries, 0 to 2626\n",
      "Data columns (total 12 columns):\n",
      " #   Column           Non-Null Count  Dtype  \n",
      "---  ------           --------------  -----  \n",
      " 0   ID               10695 non-null  int64  \n",
      " 1   Gender           10695 non-null  object \n",
      " 2   Ever_Married     10505 non-null  object \n",
      " 3   Age              10695 non-null  int64  \n",
      " 4   Graduated        10593 non-null  object \n",
      " 5   Profession       10533 non-null  object \n",
      " 6   Work_Experience  9597 non-null   float64\n",
      " 7   Spending_Score   10695 non-null  object \n",
      " 8   Family_Size      10247 non-null  float64\n",
      " 9   Var_1            10587 non-null  object \n",
      " 10  Segmentation     8068 non-null   object \n",
      " 11  isTrain          10695 non-null  int64  \n",
      "dtypes: float64(2), int64(3), object(7)\n",
      "memory usage: 1.3+ MB\n"
     ]
    }
   ],
   "source": [
    "all.info()"
   ]
  },
  {
   "cell_type": "code",
   "execution_count": 42,
   "id": "407c35de",
   "metadata": {},
   "outputs": [
    {
     "name": "stdout",
     "output_type": "stream",
     "text": [
      "<class 'pandas.core.frame.DataFrame'>\n",
      "Int64Index: 10695 entries, 0 to 2626\n",
      "Data columns (total 3 columns):\n",
      " #   Column           Non-Null Count  Dtype  \n",
      "---  ------           --------------  -----  \n",
      " 0   Age              10695 non-null  int64  \n",
      " 1   Work_Experience  10695 non-null  float64\n",
      " 2   Family_Size      10695 non-null  float64\n",
      "dtypes: float64(2), int64(1)\n",
      "memory usage: 592.3 KB\n",
      "None\n"
     ]
    }
   ],
   "source": [
    "#***********----------------How did you handle missing values?\n",
    "#To show accurate information for the above parts, we used some techniques to handle with missing values. For example,for the \n",
    "#numeric attributes 'Work_Experience' and 'Family_Size',we drop the missing values with the usage of dropna() on these \n",
    "#attributes and we calculated the outliers of these attibutes. Also,in order to add 'median' and 'range' rows to \n",
    "#all.distribution(), we filled the missing values with the usage of 'ffill' method. We can handle with missing values with the\n",
    "#usage of more techniques as can be seen below;\n",
    "\n",
    "#filling the missing values with the usage of attribute's mean(or median) value(since it is a numerical attribute);\n",
    "updated_df = all[['Age','Work_Experience','Family_Size']]\n",
    "updated_df['Work_Experience']=updated_df['Work_Experience'].fillna(updated_df['Work_Experience'].mean())\n",
    "updated_df['Family_Size']=updated_df['Family_Size'].fillna(updated_df['Family_Size'].mean())\n",
    "print(updated_df.info())\n",
    "\n",
    "#*******For our dataset, deleting the whole column which includes missing values is not a good idea since the non-missing values \n",
    "#existence percentage is higher than the missing-values percentage!!"
   ]
  },
  {
   "cell_type": "code",
   "execution_count": 43,
   "id": "91e2753f",
   "metadata": {},
   "outputs": [
    {
     "data": {
      "text/html": [
       "<div>\n",
       "<style scoped>\n",
       "    .dataframe tbody tr th:only-of-type {\n",
       "        vertical-align: middle;\n",
       "    }\n",
       "\n",
       "    .dataframe tbody tr th {\n",
       "        vertical-align: top;\n",
       "    }\n",
       "\n",
       "    .dataframe thead th {\n",
       "        text-align: right;\n",
       "    }\n",
       "</style>\n",
       "<table border=\"1\" class=\"dataframe\">\n",
       "  <thead>\n",
       "    <tr style=\"text-align: right;\">\n",
       "      <th></th>\n",
       "      <th>ID</th>\n",
       "      <th>Age</th>\n",
       "      <th>Work_Experience</th>\n",
       "      <th>Family_Size</th>\n",
       "      <th>isTrain</th>\n",
       "    </tr>\n",
       "  </thead>\n",
       "  <tbody>\n",
       "    <tr>\n",
       "      <th>count</th>\n",
       "      <td>10695.000000</td>\n",
       "      <td>10695.000000</td>\n",
       "      <td>9597.000000</td>\n",
       "      <td>10247.000000</td>\n",
       "      <td>10695.000000</td>\n",
       "    </tr>\n",
       "    <tr>\n",
       "      <th>mean</th>\n",
       "      <td>463468.088640</td>\n",
       "      <td>43.511828</td>\n",
       "      <td>2.619777</td>\n",
       "      <td>2.844052</td>\n",
       "      <td>0.754371</td>\n",
       "    </tr>\n",
       "    <tr>\n",
       "      <th>std</th>\n",
       "      <td>2600.966411</td>\n",
       "      <td>16.774158</td>\n",
       "      <td>3.390790</td>\n",
       "      <td>1.536427</td>\n",
       "      <td>0.430480</td>\n",
       "    </tr>\n",
       "    <tr>\n",
       "      <th>min</th>\n",
       "      <td>458982.000000</td>\n",
       "      <td>18.000000</td>\n",
       "      <td>0.000000</td>\n",
       "      <td>1.000000</td>\n",
       "      <td>0.000000</td>\n",
       "    </tr>\n",
       "    <tr>\n",
       "      <th>25%</th>\n",
       "      <td>461220.500000</td>\n",
       "      <td>30.000000</td>\n",
       "      <td>0.000000</td>\n",
       "      <td>2.000000</td>\n",
       "      <td>1.000000</td>\n",
       "    </tr>\n",
       "    <tr>\n",
       "      <th>50%</th>\n",
       "      <td>463451.000000</td>\n",
       "      <td>41.000000</td>\n",
       "      <td>1.000000</td>\n",
       "      <td>3.000000</td>\n",
       "      <td>1.000000</td>\n",
       "    </tr>\n",
       "    <tr>\n",
       "      <th>75%</th>\n",
       "      <td>465733.500000</td>\n",
       "      <td>53.000000</td>\n",
       "      <td>4.000000</td>\n",
       "      <td>4.000000</td>\n",
       "      <td>1.000000</td>\n",
       "    </tr>\n",
       "    <tr>\n",
       "      <th>max</th>\n",
       "      <td>467974.000000</td>\n",
       "      <td>89.000000</td>\n",
       "      <td>14.000000</td>\n",
       "      <td>9.000000</td>\n",
       "      <td>1.000000</td>\n",
       "    </tr>\n",
       "  </tbody>\n",
       "</table>\n",
       "</div>"
      ],
      "text/plain": [
       "                  ID           Age  Work_Experience   Family_Size  \\\n",
       "count   10695.000000  10695.000000      9597.000000  10247.000000   \n",
       "mean   463468.088640     43.511828         2.619777      2.844052   \n",
       "std      2600.966411     16.774158         3.390790      1.536427   \n",
       "min    458982.000000     18.000000         0.000000      1.000000   \n",
       "25%    461220.500000     30.000000         0.000000      2.000000   \n",
       "50%    463451.000000     41.000000         1.000000      3.000000   \n",
       "75%    465733.500000     53.000000         4.000000      4.000000   \n",
       "max    467974.000000     89.000000        14.000000      9.000000   \n",
       "\n",
       "            isTrain  \n",
       "count  10695.000000  \n",
       "mean       0.754371  \n",
       "std        0.430480  \n",
       "min        0.000000  \n",
       "25%        1.000000  \n",
       "50%        1.000000  \n",
       "75%        1.000000  \n",
       "max        1.000000  "
      ]
     },
     "execution_count": 43,
     "metadata": {},
     "output_type": "execute_result"
    }
   ],
   "source": [
    "all.describe()"
   ]
  },
  {
   "cell_type": "code",
   "execution_count": 44,
   "id": "28be5c5f",
   "metadata": {
    "scrolled": false
   },
   "outputs": [
    {
     "data": {
      "text/html": [
       "<div>\n",
       "<style scoped>\n",
       "    .dataframe tbody tr th:only-of-type {\n",
       "        vertical-align: middle;\n",
       "    }\n",
       "\n",
       "    .dataframe tbody tr th {\n",
       "        vertical-align: top;\n",
       "    }\n",
       "\n",
       "    .dataframe thead th {\n",
       "        text-align: right;\n",
       "    }\n",
       "</style>\n",
       "<table border=\"1\" class=\"dataframe\">\n",
       "  <thead>\n",
       "    <tr style=\"text-align: right;\">\n",
       "      <th></th>\n",
       "      <th>ID</th>\n",
       "      <th>Gender</th>\n",
       "      <th>Ever_Married</th>\n",
       "      <th>Age</th>\n",
       "      <th>Graduated</th>\n",
       "      <th>Profession</th>\n",
       "      <th>Work_Experience</th>\n",
       "      <th>Spending_Score</th>\n",
       "      <th>Family_Size</th>\n",
       "      <th>Var_1</th>\n",
       "      <th>Segmentation</th>\n",
       "      <th>isTrain</th>\n",
       "      <th>zscore(Age)</th>\n",
       "      <th>zscore(W_E)</th>\n",
       "      <th>zscore(F_S)</th>\n",
       "    </tr>\n",
       "  </thead>\n",
       "  <tbody>\n",
       "    <tr>\n",
       "      <th>0</th>\n",
       "      <td>462809</td>\n",
       "      <td>Male</td>\n",
       "      <td>No</td>\n",
       "      <td>22</td>\n",
       "      <td>No</td>\n",
       "      <td>Healthcare</td>\n",
       "      <td>1.000000</td>\n",
       "      <td>Low</td>\n",
       "      <td>4.0</td>\n",
       "      <td>Cat_4</td>\n",
       "      <td>D</td>\n",
       "      <td>1</td>\n",
       "      <td>-1.282439</td>\n",
       "      <td>-5.042889e-01</td>\n",
       "      <td>0.768633</td>\n",
       "    </tr>\n",
       "    <tr>\n",
       "      <th>1</th>\n",
       "      <td>462643</td>\n",
       "      <td>Female</td>\n",
       "      <td>Yes</td>\n",
       "      <td>38</td>\n",
       "      <td>Yes</td>\n",
       "      <td>Engineer</td>\n",
       "      <td>2.619777</td>\n",
       "      <td>Average</td>\n",
       "      <td>3.0</td>\n",
       "      <td>Cat_4</td>\n",
       "      <td>A</td>\n",
       "      <td>1</td>\n",
       "      <td>-0.328590</td>\n",
       "      <td>9.954670e-15</td>\n",
       "      <td>0.103696</td>\n",
       "    </tr>\n",
       "    <tr>\n",
       "      <th>2</th>\n",
       "      <td>466315</td>\n",
       "      <td>Female</td>\n",
       "      <td>Yes</td>\n",
       "      <td>67</td>\n",
       "      <td>Yes</td>\n",
       "      <td>Engineer</td>\n",
       "      <td>1.000000</td>\n",
       "      <td>Low</td>\n",
       "      <td>1.0</td>\n",
       "      <td>Cat_6</td>\n",
       "      <td>B</td>\n",
       "      <td>1</td>\n",
       "      <td>1.400259</td>\n",
       "      <td>-5.042889e-01</td>\n",
       "      <td>-1.226180</td>\n",
       "    </tr>\n",
       "    <tr>\n",
       "      <th>3</th>\n",
       "      <td>461735</td>\n",
       "      <td>Male</td>\n",
       "      <td>Yes</td>\n",
       "      <td>67</td>\n",
       "      <td>Yes</td>\n",
       "      <td>Lawyer</td>\n",
       "      <td>0.000000</td>\n",
       "      <td>High</td>\n",
       "      <td>2.0</td>\n",
       "      <td>Cat_6</td>\n",
       "      <td>B</td>\n",
       "      <td>1</td>\n",
       "      <td>1.400259</td>\n",
       "      <td>-8.156211e-01</td>\n",
       "      <td>-0.561242</td>\n",
       "    </tr>\n",
       "    <tr>\n",
       "      <th>4</th>\n",
       "      <td>462669</td>\n",
       "      <td>Female</td>\n",
       "      <td>Yes</td>\n",
       "      <td>40</td>\n",
       "      <td>Yes</td>\n",
       "      <td>Entertainment</td>\n",
       "      <td>2.619777</td>\n",
       "      <td>High</td>\n",
       "      <td>6.0</td>\n",
       "      <td>Cat_6</td>\n",
       "      <td>A</td>\n",
       "      <td>1</td>\n",
       "      <td>-0.209359</td>\n",
       "      <td>9.954670e-15</td>\n",
       "      <td>2.098509</td>\n",
       "    </tr>\n",
       "  </tbody>\n",
       "</table>\n",
       "</div>"
      ],
      "text/plain": [
       "       ID  Gender Ever_Married  Age Graduated     Profession  Work_Experience  \\\n",
       "0  462809    Male           No   22        No     Healthcare         1.000000   \n",
       "1  462643  Female          Yes   38       Yes       Engineer         2.619777   \n",
       "2  466315  Female          Yes   67       Yes       Engineer         1.000000   \n",
       "3  461735    Male          Yes   67       Yes         Lawyer         0.000000   \n",
       "4  462669  Female          Yes   40       Yes  Entertainment         2.619777   \n",
       "\n",
       "  Spending_Score  Family_Size  Var_1 Segmentation  isTrain  zscore(Age)  \\\n",
       "0            Low          4.0  Cat_4            D        1    -1.282439   \n",
       "1        Average          3.0  Cat_4            A        1    -0.328590   \n",
       "2            Low          1.0  Cat_6            B        1     1.400259   \n",
       "3           High          2.0  Cat_6            B        1     1.400259   \n",
       "4           High          6.0  Cat_6            A        1    -0.209359   \n",
       "\n",
       "    zscore(W_E)  zscore(F_S)  \n",
       "0 -5.042889e-01     0.768633  \n",
       "1  9.954670e-15     0.103696  \n",
       "2 -5.042889e-01    -1.226180  \n",
       "3 -8.156211e-01    -0.561242  \n",
       "4  9.954670e-15     2.098509  "
      ]
     },
     "execution_count": 44,
     "metadata": {},
     "output_type": "execute_result"
    }
   ],
   "source": [
    "#-----***How did you handle outliers?\n",
    "#Below Z Score Transformation(to handle with outliers) is showd.This technique is used to provide standard normal distribution\n",
    "#(mean=0,std=1). However, we used StandardScaler from sklearn.preprocessing for the Z-score normalization and Min-Max \n",
    "#Normalization (for Scaling)before the Modeling part in the further steps.\n",
    "\n",
    "df=all.copy()\n",
    "df['zscore(Age)']=(df['Age']-df['Age'].mean())/df['Age'].std()\n",
    "\n",
    "#Filling the missing values with columns' mean for Work_Experience and Family_Size before applying Z-Score Transformation;\n",
    "df['Work_Experience']=df['Work_Experience'].fillna(value=df['Work_Experience'].mean())\n",
    "df['zscore(W_E)']=(df['Work_Experience']-df['Work_Experience'].mean())/df['Work_Experience'].std()\n",
    "\n",
    "df['Family_Size']=df['Family_Size'].fillna(value=df['Family_Size'].mean())\n",
    "df['zscore(F_S)']=(df['Family_Size']-df['Family_Size'].mean())/df['Family_Size'].std()\n",
    "df.head()"
   ]
  },
  {
   "cell_type": "code",
   "execution_count": null,
   "id": "5791e111",
   "metadata": {},
   "outputs": [],
   "source": [
    "#***-------The  relationship  between  each  pair  of  the  variables  is properly visualized (BIVARIATE GRAPHS)--------------"
   ]
  },
  {
   "cell_type": "code",
   "execution_count": 54,
   "id": "a3c8b9f5",
   "metadata": {},
   "outputs": [],
   "source": [
    "#***As can be seen below we can see the relationship between attributes as bivariate graphs even tough they are used as \n",
    "#univariate graphs generally such as 'countplot',distplot(with the usage of 'hue' etc)."
   ]
  },
  {
   "cell_type": "code",
   "execution_count": 45,
   "id": "2f5e8d0f",
   "metadata": {},
   "outputs": [
    {
     "data": {
      "text/plain": [
       "<seaborn.axisgrid.FacetGrid at 0x20c530e2730>"
      ]
     },
     "execution_count": 45,
     "metadata": {},
     "output_type": "execute_result"
    },
    {
     "data": {
      "image/png": "[encoded data removed]",
      "text/plain": [
       "<Figure size 360x360 with 1 Axes>"
      ]
     },
     "metadata": {
      "needs_background": "light"
     },
     "output_type": "display_data"
    }
   ],
   "source": [
    "#Bivariate Analysis\n",
    "#Boxplot with considering Age values according to the Segmentation values;\n",
    "sns.catplot(x=\"Segmentation\", y=\"Age\", kind=\"box\", data=all[[\"Segmentation\",\"Age\"]])"
   ]
  },
  {
   "cell_type": "code",
   "execution_count": 46,
   "id": "88e597fb",
   "metadata": {},
   "outputs": [
    {
     "data": {
      "text/plain": [
       "<AxesSubplot:>"
      ]
     },
     "execution_count": 46,
     "metadata": {},
     "output_type": "execute_result"
    },
    {
     "data": {
      "image/png": "[encoded data removed]",
      "text/plain": [
       "<Figure size 432x288 with 2 Axes>"
      ]
     },
     "metadata": {
      "needs_background": "light"
     },
     "output_type": "display_data"
    }
   ],
   "source": [
    "#**Visualization for correlation between attributes;\n",
    "sns.heatmap(all.corr(),annot=True)"
   ]
  },
  {
   "cell_type": "code",
   "execution_count": 47,
   "id": "dde34592",
   "metadata": {},
   "outputs": [
    {
     "data": {
      "text/plain": [
       "<AxesSubplot:xlabel='Spending_Score', ylabel='count'>"
      ]
     },
     "execution_count": 47,
     "metadata": {},
     "output_type": "execute_result"
    },
    {
     "data": {
      "image/png": "[encoded data removed]",
      "text/plain": [
       "<Figure size 432x288 with 1 Axes>"
      ]
     },
     "metadata": {
      "needs_background": "light"
     },
     "output_type": "display_data"
    }
   ],
   "source": [
    "#Spending_Score-Segmentation relation;(for their frequencies)\n",
    "sns.countplot(all['Spending_Score'],hue=all['Segmentation'])"
   ]
  },
  {
   "cell_type": "code",
   "execution_count": 48,
   "id": "707fdd01",
   "metadata": {},
   "outputs": [
    {
     "data": {
      "text/plain": [
       "<AxesSubplot:xlabel='Gender', ylabel='count'>"
      ]
     },
     "execution_count": 48,
     "metadata": {},
     "output_type": "execute_result"
    },
    {
     "data": {
      "image/png": "[encoded data removed]",
      "text/plain": [
       "<Figure size 432x288 with 1 Axes>"
      ]
     },
     "metadata": {
      "needs_background": "light"
     },
     "output_type": "display_data"
    }
   ],
   "source": [
    "#Gender-Segmentation relation;(for their frequencies)\n",
    "sns.countplot(all['Gender'],hue=all['Segmentation'])"
   ]
  },
  {
   "cell_type": "code",
   "execution_count": 49,
   "id": "96e9d2b2",
   "metadata": {},
   "outputs": [
    {
     "data": {
      "text/plain": [
       "<matplotlib.legend.Legend at 0x20c570c6520>"
      ]
     },
     "execution_count": 49,
     "metadata": {},
     "output_type": "execute_result"
    },
    {
     "data": {
      "image/png": "[encoded data removed]",
      "text/plain": [
       "<Figure size 432x288 with 1 Axes>"
      ]
     },
     "metadata": {},
     "output_type": "display_data"
    }
   ],
   "source": [
    "#Age-Segmentation relation;(for their densities)\n",
    "sns.set_style('whitegrid')\n",
    "sns.distplot(all[all['Segmentation']=='A']['Age'],bins=30,color='blue')\n",
    "sns.distplot(all[all['Segmentation']=='B']['Age'],bins=30,color='red')\n",
    "sns.distplot(all[all['Segmentation']=='C']['Age'],bins=30,color='green')\n",
    "sns.distplot(all[all['Segmentation']=='D']['Age'],bins=30,color='black')\n",
    "plt.legend(labels=['Seg=A', 'Seg=B', 'Seg=C','Seg=D'])"
   ]
  },
  {
   "cell_type": "code",
   "execution_count": 50,
   "id": "b0f4973d",
   "metadata": {},
   "outputs": [
    {
     "data": {
      "text/plain": [
       "<AxesSubplot:xlabel='Spending_Score', ylabel='count'>"
      ]
     },
     "execution_count": 50,
     "metadata": {},
     "output_type": "execute_result"
    },
    {
     "data": {
      "image/png": "[encoded data removed]",
      "text/plain": [
       "<Figure size 432x288 with 1 Axes>"
      ]
     },
     "metadata": {},
     "output_type": "display_data"
    }
   ],
   "source": [
    "#Spending_Score-Family_Size relation(for their frequencies);\n",
    "sns.countplot(all['Spending_Score'],hue=all['Family_Size'])"
   ]
  },
  {
   "cell_type": "code",
   "execution_count": 51,
   "id": "7dd0799a",
   "metadata": {},
   "outputs": [
    {
     "data": {
      "text/plain": [
       "<AxesSubplot:xlabel='Var_1', ylabel='count'>"
      ]
     },
     "execution_count": 51,
     "metadata": {},
     "output_type": "execute_result"
    },
    {
     "data": {
      "image/png": "[encoded data removed]",
      "text/plain": [
       "<Figure size 432x288 with 1 Axes>"
      ]
     },
     "metadata": {},
     "output_type": "display_data"
    }
   ],
   "source": [
    "#Var_1-Segmentation relation(for their frequencies);\n",
    "sns.countplot(all['Var_1'],hue=all['Segmentation'])"
   ]
  },
  {
   "cell_type": "code",
   "execution_count": 52,
   "id": "ac390b0c",
   "metadata": {},
   "outputs": [
    {
     "data": {
      "text/plain": [
       "<AxesSubplot:xlabel='Ever_Married', ylabel='count'>"
      ]
     },
     "execution_count": 52,
     "metadata": {},
     "output_type": "execute_result"
    },
    {
     "data": {
      "image/png": "[encoded data removed]",
      "text/plain": [
       "<Figure size 432x288 with 1 Axes>"
      ]
     },
     "metadata": {},
     "output_type": "display_data"
    }
   ],
   "source": [
    "#Ever_Married-Family_Size relation(for their frequencies);\n",
    "sns.countplot(all['Ever_Married'],hue=all['Family_Size'])"
   ]
  },
  {
   "cell_type": "code",
   "execution_count": 53,
   "id": "6c82cd15",
   "metadata": {},
   "outputs": [
    {
     "data": {
      "image/png": "[encoded data removed]",
      "text/plain": [
       "<Figure size 432x288 with 1 Axes>"
      ]
     },
     "metadata": {},
     "output_type": "display_data"
    }
   ],
   "source": [
    "#Between Numerical Attributes(Age-Work_Experience)\n",
    "import matplotlib.pyplot as plt\n",
    "x = all['Age'].values\n",
    "y = all['Work_Experience'].values \n",
    "plt.scatter(x, y)\n",
    "plt.show()"
   ]
  },
  {
   "cell_type": "code",
   "execution_count": 54,
   "id": "9a8d91d1",
   "metadata": {},
   "outputs": [
    {
     "data": {
      "image/png": "[encoded data removed]",
      "text/plain": [
       "<Figure size 432x288 with 1 Axes>"
      ]
     },
     "metadata": {},
     "output_type": "display_data"
    }
   ],
   "source": [
    "#Between Numerical Attributes(Age-Family_Size)\n",
    "x = all['Age'].values\n",
    "y = all['Family_Size'].values\n",
    "plt.scatter(x, y)\n",
    "plt.show()"
   ]
  },
  {
   "cell_type": "code",
   "execution_count": 55,
   "id": "c79d18e0",
   "metadata": {},
   "outputs": [
    {
     "data": {
      "text/plain": [
       "<BarContainer object of 12 artists>"
      ]
     },
     "execution_count": 55,
     "metadata": {},
     "output_type": "execute_result"
    },
    {
     "data": {
      "image/png": "[encoded data removed]",
      "text/plain": [
       "<Figure size 1152x648 with 1 Axes>"
      ]
     },
     "metadata": {},
     "output_type": "display_data"
    }
   ],
   "source": [
    "#Horizontal bar plot-to show relationship between categorical and numerical attributes;(for first 12 values)\n",
    "#Categorical-Numerical(Profession,Age)\n",
    "import pandas as pd\n",
    "from matplotlib import pyplot as plt\n",
    "data = all.copy()\n",
    "df = pd.DataFrame(data)\n",
    "profession = df['Profession'].head(12)\n",
    "age = df['Age'].head(12)\n",
    "# Figure Size\n",
    "fig, ax = plt.subplots(figsize =(16, 9))\n",
    "# Horizontal Bar Plot\n",
    "ax.barh(profession, age)"
   ]
  },
  {
   "cell_type": "code",
   "execution_count": 56,
   "id": "499cb599",
   "metadata": {},
   "outputs": [
    {
     "data": {
      "text/plain": [
       "<BarContainer object of 12 artists>"
      ]
     },
     "execution_count": 56,
     "metadata": {},
     "output_type": "execute_result"
    },
    {
     "data": {
      "image/png": "[encoded data removed]",
      "text/plain": [
       "<Figure size 1152x648 with 1 Axes>"
      ]
     },
     "metadata": {},
     "output_type": "display_data"
    }
   ],
   "source": [
    "#Horizontal bar plot-to show relationship between categorical and numerical attributes;(for first 12 values)\n",
    "#Categorical-Numerical(Var_1,Family_Size)\n",
    "import pandas as pd\n",
    "from matplotlib import pyplot as plt\n",
    "data = all.copy()\n",
    "df = pd.DataFrame(data)\n",
    "var_1 = df['Var_1'].head(12)\n",
    "fs = df['Family_Size'].head(12)\n",
    "# Figure Size\n",
    "fig, ax = plt.subplots(figsize =(16, 9))\n",
    "# Horizontal Bar Plot\n",
    "ax.barh(var_1,fs)"
   ]
  },
  {
   "cell_type": "code",
   "execution_count": 57,
   "id": "b0ae0328",
   "metadata": {},
   "outputs": [
    {
     "data": {
      "text/plain": [
       "<BarContainer object of 12 artists>"
      ]
     },
     "execution_count": 57,
     "metadata": {},
     "output_type": "execute_result"
    },
    {
     "data": {
      "image/png": "[encoded data removed]",
      "text/plain": [
       "<Figure size 1152x648 with 1 Axes>"
      ]
     },
     "metadata": {},
     "output_type": "display_data"
    }
   ],
   "source": [
    "#Horizontal bar plot-to show relationship between categorical and numerical attributes;(for first 12 values)\n",
    "#Categorical-Categorical(Var_1,Segmentation)\n",
    "import pandas as pd\n",
    "from matplotlib import pyplot as plt\n",
    "data = all.copy()\n",
    "df = pd.DataFrame(data)\n",
    "profession = df['Var_1'].head(12)\n",
    "age = df['Segmentation'].head(12)\n",
    "# Figure Size\n",
    "fig, ax = plt.subplots(figsize =(16, 9))\n",
    "# Horizontal Bar Plot\n",
    "ax.barh(profession, age)"
   ]
  },
  {
   "cell_type": "code",
   "execution_count": 58,
   "id": "fe3d224c",
   "metadata": {},
   "outputs": [
    {
     "data": {
      "text/plain": [
       "<BarContainer object of 12 artists>"
      ]
     },
     "execution_count": 58,
     "metadata": {},
     "output_type": "execute_result"
    },
    {
     "data": {
      "image/png": "[encoded data removed]",
      "text/plain": [
       "<Figure size 1152x648 with 1 Axes>"
      ]
     },
     "metadata": {},
     "output_type": "display_data"
    }
   ],
   "source": [
    "#Horizontal bar plot-to show relationship between categorical and numerical attributes;(for first 12 values)\n",
    "#Numerical-Numerical(Age,Work_Experience)\n",
    "import pandas as pd\n",
    "from matplotlib import pyplot as plt\n",
    "data = all.copy()\n",
    "df = pd.DataFrame(data)\n",
    "profession = df['Age'].head(12)\n",
    "age = df['Work_Experience'].head(12)\n",
    "# Figure Size\n",
    "fig, ax = plt.subplots(figsize =(16, 9))\n",
    "# Horizontal Bar Plot\n",
    "ax.barh(profession, age)"
   ]
  },
  {
   "cell_type": "code",
   "execution_count": 59,
   "id": "46e64380",
   "metadata": {},
   "outputs": [
    {
     "data": {
      "image/png": "[encoded data removed]",
      "text/plain": [
       "<Figure size 432x288 with 1 Axes>"
      ]
     },
     "metadata": {},
     "output_type": "display_data"
    }
   ],
   "source": [
    "#Categorical-Numerical(Spending_Score-Age)\n",
    "df=all.copy()\n",
    "sns.violinplot('Spending_Score', 'Age', data=df);"
   ]
  },
  {
   "cell_type": "code",
   "execution_count": 60,
   "id": "605c5f89",
   "metadata": {},
   "outputs": [
    {
     "data": {
      "text/plain": [
       "<AxesSubplot:xlabel='Work_Experience', ylabel='Age'>"
      ]
     },
     "execution_count": 60,
     "metadata": {},
     "output_type": "execute_result"
    },
    {
     "data": {
      "image/png": "[encoded data removed]",
      "text/plain": [
       "<Figure size 432x288 with 2 Axes>"
      ]
     },
     "metadata": {},
     "output_type": "display_data"
    }
   ],
   "source": [
    "#Numerical-Numerical(Work_Experience-Age)\n",
    "all.plot.hexbin(x='Work_Experience', y='Age', gridsize=15)"
   ]
  },
  {
   "cell_type": "code",
   "execution_count": 61,
   "id": "b48a1706",
   "metadata": {},
   "outputs": [
    {
     "data": {
      "text/plain": [
       "<AxesSubplot:xlabel='Segmentation'>"
      ]
     },
     "execution_count": 61,
     "metadata": {},
     "output_type": "execute_result"
    },
    {
     "data": {
      "image/png": "[encoded data removed]",
      "text/plain": [
       "<Figure size 432x288 with 1 Axes>"
      ]
     },
     "metadata": {},
     "output_type": "display_data"
    }
   ],
   "source": [
    "#The relationship between 'Segmentation' and each of the numeric columns(as bivariate) can be seen below;\n",
    "df_generation = all.groupby('Segmentation').mean()[['Work_Experience', 'Age', 'Family_Size']]\n",
    "df_generation.plot.line()"
   ]
  },
  {
   "cell_type": "code",
   "execution_count": null,
   "id": "7f897aa2",
   "metadata": {},
   "outputs": [],
   "source": [
    "#****----The relationship between each of the variables and the response variables is visualized (choose the best visualization \n",
    "#technique);\n",
    "\n",
    "#According to the investigation on the visualization techniques(applied plots) and the response variables(dependent variables)\n",
    "#on these visuals,the best visualization technique can be considered as 'barplot' for our dataset since the relationship between \n",
    "#explanatory and response variables can be understood most clearly and effectively among the other visualization techniques.\n",
    "#Also, since 'barplot' lets us to see relationship between most type of datas such as categorical-numerical,\n",
    "#categorical-categorical,numerical-numerical, this technique is very useful to see accurate data relationship and possibility\n",
    "#to comment on them. Moreover, the other visualization methods like Histogram,is more used to show continuous(numerical) \n",
    "#datas. However,since we have categorical attributes too, the usage of 'barplot' can be evaluated as a better choice."
   ]
  },
  {
   "cell_type": "code",
   "execution_count": null,
   "id": "ad384f42",
   "metadata": {},
   "outputs": [],
   "source": [
    "#***------Give the statistical analysis for each of the relationships that have been visualized in part IV;"
   ]
  },
  {
   "cell_type": "code",
   "execution_count": 62,
   "id": "afec2e23",
   "metadata": {},
   "outputs": [
    {
     "name": "stdout",
     "output_type": "stream",
     "text": [
      "(-0.1781591681803591, 5.4937511256493204e-77)\n",
      "The P-Value of the Pearson's r-Hypothesis Testing is: 5.4937511256493204e-77\n",
      "The null hypothesis can be rejected and the alternative hypothesis can be considered which claims that there is a relationship between attributes. \n"
     ]
    }
   ],
   "source": [
    "#With the usage of 'pearsonr library',we can comment about the relationship between two numeric attributes(Age-Work_Experience)\n",
    "#attributes on defined H0(null) and HA(Alternative) hypotheses via found P-value;\n",
    "df=all.copy()\n",
    "df['Work_Experience']=df['Work_Experience'].fillna(value=df['Work_Experience'].mean())\n",
    "\n",
    "# !pip install scipy.stats\n",
    "from scipy.stats import pearsonr\n",
    "results=pearsonr(df['Age'], df['Work_Experience'])\n",
    "print(results)\n",
    "#First output gives the correlation coefficient,second output gives the p-value(significance)\n",
    "\n",
    "# P-Value is the Probability of H0 being True\n",
    "# H0: The variables are not correlated with each other. \n",
    "# HA: There is a relationship between 'Age' and 'Work_Experience' columns.\n",
    "# If P-Value>0.05 then only we Accept the assumption(H0)\n",
    "\n",
    "print('The P-Value of the '+ \"Pearson's r-Hypothesis Testing is:\",results[1])\n",
    "\n",
    "if results[1] <= 0.05:\n",
    "    print('The null hypothesis can be rejected and the alternative hypothesis can be considered which claims that there is a ' \n",
    "          +'relationship between attributes. ')\n",
    "else:\n",
    "    print('The null hypothesis cannot be rejected. Thus,there is no relationship between attributes!')"
   ]
  },
  {
   "cell_type": "code",
   "execution_count": 63,
   "id": "75c60daa",
   "metadata": {},
   "outputs": [
    {
     "name": "stdout",
     "output_type": "stream",
     "text": [
      "(-0.27462623942711595, 2.3521201184876644e-184)\n",
      "The P-Value of the Pearson's r-Hypothesis Testing is: 2.3521201184876644e-184\n",
      "The null hypothesis can be rejected and the alternative hypothesis can be considered which claims that there is a relationship between attributes. \n"
     ]
    }
   ],
   "source": [
    "#Numeric-numeric attributes relationship;(Age-Family_Size)\n",
    "df=all.copy()\n",
    "df['Family_Size']=df['Family_Size'].fillna(value=df['Family_Size'].mean())\n",
    "\n",
    "# !pip install scipy.stats\n",
    "from scipy.stats import pearsonr\n",
    "results=pearsonr(df['Age'], df['Family_Size'])\n",
    "print(results)\n",
    "#First output gives the correlation coefficient,second output gives the p-value(significance)\n",
    "\n",
    "# P-Value is the Probability of H0 being True\n",
    "# H0: The variables are not correlated with each other. \n",
    "# HA: There is a relationship between 'Age' and 'Family_Size' columns.\n",
    "# If P-Value>0.05 then only we Accept the assumption(H0)\n",
    "\n",
    "print('The P-Value of the '+ \"Pearson's r-Hypothesis Testing is:\",results[1])\n",
    "\n",
    "if results[1] <= 0.05:\n",
    "    print('The null hypothesis can be rejected and the alternative hypothesis can be considered which claims that there is a ' \n",
    "          +'relationship between attributes. ')\n",
    "else:\n",
    "    print('The null hypothesis cannot be rejected. Thus,there is no relationship between attributes!')"
   ]
  },
  {
   "cell_type": "code",
   "execution_count": 64,
   "id": "cee822b1",
   "metadata": {},
   "outputs": [
    {
     "data": {
      "text/plain": [
       "<AxesSubplot:>"
      ]
     },
     "execution_count": 64,
     "metadata": {},
     "output_type": "execute_result"
    },
    {
     "data": {
      "image/png": "[encoded data removed]",
      "text/plain": [
       "<Figure size 432x288 with 2 Axes>"
      ]
     },
     "metadata": {},
     "output_type": "display_data"
    }
   ],
   "source": [
    "#Visualization for correlation between numeric attributes with the usage of 'corr()' on heatmap which provides to see the \n",
    "#correlation coefficient between numerical attributes.\n",
    "sns.heatmap(all[['Age','Work_Experience','Family_Size']].corr(),annot=True)"
   ]
  },
  {
   "cell_type": "code",
   "execution_count": 42,
   "id": "decf5558",
   "metadata": {},
   "outputs": [],
   "source": [
    "#The correlation coefficient between Age and Work_Experience is '-0.19' which means there is a negative correlation between \n",
    "#these attributes.Thus,we can say that if one of the attributes' values is increasing, the other's decreasing.\n",
    "\n",
    "#The correlation coefficient between Age and Family_Size is '-0.28' which means there is a negative correlation between these \n",
    "#attributes.Thus,we can say that if one of the attributes' values is increasing, the other's decreasing. Also, the correlation \n",
    "#between Age and Family_Size is stronger than the correlation/relationship between Age and Work_Experience.(according to the\n",
    "#closure to '-1' since both of them are negative)"
   ]
  },
  {
   "cell_type": "code",
   "execution_count": 65,
   "id": "a278deb3",
   "metadata": {},
   "outputs": [
    {
     "name": "stdout",
     "output_type": "stream",
     "text": [
      "Gender        Female  Male\n",
      "Segmentation              \n",
      "A                909  1063\n",
      "B                861   997\n",
      "C                922  1048\n",
      "D                959  1309\n",
      "The P-Value of the ChiSq Test is: 0.009618143763412601\n",
      "The null hypothesis can be rejected and the alternative hypothesis can be considered which claims that there is a relationship between attributes. \n"
     ]
    }
   ],
   "source": [
    "#With the usage of chi2 test,we can comment about the relationship between two categorical attributes on defined H0(null) \n",
    "#and HA(Alternative) hypotheses via found P-value;(Segmentation-Gender)\n",
    "\n",
    "# Cross tabulation between Segmentation and Gender;\n",
    "CrosstabResult=pd.crosstab(index=all[all['isTrain']==1]['Segmentation'],columns=all[all['isTrain']==1]['Gender'])\n",
    "print(CrosstabResult)\n",
    "\n",
    "# importing the required function\n",
    "from scipy.stats import chi2_contingency\n",
    "\n",
    "# Performing Chi-sq test\n",
    "ChiSqResult = chi2_contingency(CrosstabResult)\n",
    "\n",
    "# P-Value is the Probability of H0 being True\n",
    "# H0: The variables are not correlated with each other. \n",
    "# This is the H0 used in the Chi-square test.\n",
    "# HA: There is a relationship between 'Gender' and 'Segmentation' columns.\n",
    "# If P-Value>0.05 then only we Accept the assumption(H0)\n",
    "\n",
    "print('The P-Value of the ChiSq Test is:', ChiSqResult[1])\n",
    "if ChiSqResult[1] <= 0.05:\n",
    "    print('The null hypothesis can be rejected and the alternative hypothesis can be considered which claims that there is a ' \n",
    "          +'relationship between attributes. ')\n",
    "else:\n",
    "    print('The null hypothesis cannot be rejected. Thus,there is no relationship between attributes!')"
   ]
  },
  {
   "cell_type": "code",
   "execution_count": 66,
   "id": "e8f11ef0",
   "metadata": {},
   "outputs": [
    {
     "name": "stdout",
     "output_type": "stream",
     "text": [
      "Var_1         Cat_1  Cat_2  Cat_3  Cat_4  Cat_5  Cat_6  Cat_7\n",
      "Segmentation                                                 \n",
      "A                31     83    223    333     19   1213     51\n",
      "B                26    106    186    232     20   1232     43\n",
      "C                26     99    154    109     18   1496     47\n",
      "D                50    134    259    415     28   1297     62\n",
      "The P-Value of the ChiSq Test is: 1.646068148998022e-41\n",
      "The null hypothesis can be rejected and the alternative hypothesis can be considered which claims that there is a relationship between attributes. \n"
     ]
    }
   ],
   "source": [
    "#With the usage of chi2 test,we can comment about the relationship between two categorical attributes on defined H0(null) \n",
    "#and HA(Alternative) hypotheses via found P-value;(Segmentation-Var_1)\n",
    "\n",
    "# Cross tabulation between Segmentation and Var_1;\n",
    "CrosstabResult=pd.crosstab(index=all[all['isTrain']==1]['Segmentation'],columns=all[all['isTrain']==1]['Var_1'])\n",
    "print(CrosstabResult)\n",
    "\n",
    "from scipy.stats import chi2_contingency\n",
    "\n",
    "# Performing Chi-sq test\n",
    "ChiSqResult = chi2_contingency(CrosstabResult)\n",
    "\n",
    "# P-Value is the Probability of H0 being True\n",
    "# H0: The variables are not correlated with each other. \n",
    "# This is the H0 used in the Chi-square test.\n",
    "# HA: There is a relationship between 'Var_1' and 'Segmentation' columns.\n",
    "# If P-Value>0.05 then only we Accept the assumption(H0)\n",
    "\n",
    "print('The P-Value of the ChiSq Test is:', ChiSqResult[1])\n",
    "if ChiSqResult[1] <= 0.05:\n",
    "    print('The null hypothesis can be rejected and the alternative hypothesis can be considered which claims that there is a ' \n",
    "          +'relationship between attributes. ')\n",
    "else:\n",
    "    print('The null hypothesis cannot be rejected. Thus,there is no relationship between attributes!')"
   ]
  },
  {
   "cell_type": "code",
   "execution_count": 67,
   "id": "5cca3fc6",
   "metadata": {},
   "outputs": [
    {
     "name": "stdout",
     "output_type": "stream",
     "text": [
      "Work_Experience  0.0   1.0   2.0   3.0   4.0   5.0   6.0   7.0   8.0   9.0   \\\n",
      "Age                                                                           \n",
      "18                 41    30     7     7     3     3     6     5     5     3   \n",
      "19                 44    35     5     3     4     2     3     6     7     7   \n",
      "20                 32    43     8     4     8     3     1     4     6     1   \n",
      "21                 35    42     2     3     2     2     2     5     4     6   \n",
      "22                 50    36     7     5     2     2     3     1     9     9   \n",
      "..                ...   ...   ...   ...   ...   ...   ...   ...   ...   ...   \n",
      "85                  9     8     0     0     1     0     0     0     0     0   \n",
      "86                 13     9     1     0     0     0     0     0     1     1   \n",
      "87                 12     9     0     1     0     0     0     0     0     1   \n",
      "88                 15    13     0     0     0     0     0     1     0     0   \n",
      "89                 12    13     2     3     0     0     1     0     0     0   \n",
      "\n",
      "Work_Experience  10.0  11.0  12.0  13.0  14.0  \n",
      "Age                                            \n",
      "18                  1     1     1     1     1  \n",
      "19                  1     0     0     2     0  \n",
      "20                  0     0     0     1     0  \n",
      "21                  0     0     0     1     0  \n",
      "22                  1     1     0     0     0  \n",
      "..                ...   ...   ...   ...   ...  \n",
      "85                  0     0     0     0     0  \n",
      "86                  0     0     0     1     0  \n",
      "87                  0     0     0     0     0  \n",
      "88                  0     0     0     0     0  \n",
      "89                  0     0     0     1     0  \n",
      "\n",
      "[67 rows x 15 columns]\n",
      "The P-Value of the ChiSq Test is: 7.703680705544919e-15\n",
      "The null hypothesis can be rejected and the alternative hypothesis can be considered which claims that there is a relationship between attributes.\n"
     ]
    }
   ],
   "source": [
    "#With the usage of chi2 test,we can comment about the relationship between two categorical attributes on defined H0(null) \n",
    "#and HA(Alternative) hypotheses via found P-value;(Segmentation-Spending_Score)\n",
    "\n",
    "# Cross tabulation between Segmentation and Spending_Score;\n",
    "CrosstabResult=pd.crosstab(index=all[all['isTrain']==1]['Age'],columns=all[all['isTrain']==1]['Work_Experience'])\n",
    "print(CrosstabResult)\n",
    "\n",
    "# importing the required function\n",
    "from scipy.stats import chi2_contingency\n",
    "\n",
    "# Performing Chi-sq test\n",
    "ChiSqResult = chi2_contingency(CrosstabResult)\n",
    "\n",
    "# P-Value is the Probability of H0 being True\n",
    "# H0: The variables are not correlated with each other. \n",
    "# This is the H0 used in the Chi-square test.\n",
    "# HA: There is a relationship between 'Spending_Score' and 'Segmentation' columns.\n",
    "# If P-Value>0.05 then only we Accept the assumption(H0)\n",
    "\n",
    "print('The P-Value of the ChiSq Test is:', ChiSqResult[1])\n",
    "if ChiSqResult[1] <= 0.05:\n",
    "    print('The null hypothesis can be rejected and the alternative hypothesis can be considered which claims that there is a ' \n",
    "          +'relationship between attributes.')\n",
    "else:\n",
    "    print('The null hypothesis cannot be rejected. Thus,there is no relationship between attributes!')"
   ]
  },
  {
   "cell_type": "code",
   "execution_count": 68,
   "id": "5d5840a4",
   "metadata": {},
   "outputs": [
    {
     "name": "stdout",
     "output_type": "stream",
     "text": [
      "p-value for significance is:  3.690428126601172e-287\n",
      "The null hypothesis can be rejected and the alternative hypothesis can be considered which claims that there is a relationship between attributes.\n"
     ]
    }
   ],
   "source": [
    "#With the usage of analysis of variance or ANOVA,we can comment about the relationship between 'one categorical and \n",
    "#one numerical' attribute on defined H0(null) and HA(Alternative) hypotheses via found P-value;(Age-Spending_Score);\n",
    "from scipy import stats\n",
    "\n",
    "voter_age = all['Age']\n",
    "voter_frame = pd.DataFrame({\"spending_score\":all['Spending_Score'],\"age\":voter_age})\n",
    "groups = voter_frame.groupby(\"spending_score\").groups\n",
    "\n",
    "# Extract individual groups\n",
    "low= voter_age[groups[\"Low\"]]\n",
    "average = voter_age[groups[\"Average\"]]\n",
    "high = voter_age[groups[\"High\"]]\n",
    "\n",
    "# Perform the ANOVA\n",
    "results=stats.f_oneway(low,average,high)\n",
    "#print(results)\n",
    "print(\"p-value for significance is: \", results[1])\n",
    "if results[1] <= 0.05:\n",
    "     print('The null hypothesis can be rejected and the alternative hypothesis can be considered which claims that there is a ' \n",
    "          +'relationship between attributes.')\n",
    "else:\n",
    "    print('The null hypothesis cannot be rejected. Thus,there is no relationship between attributes!')"
   ]
  },
  {
   "cell_type": "code",
   "execution_count": 69,
   "id": "9ed9f756",
   "metadata": {},
   "outputs": [
    {
     "name": "stdout",
     "output_type": "stream",
     "text": [
      "p-value for significance is:  5.81397261632053e-70\n",
      "The null hypothesis can be rejected and the alternative hypothesis can be considered which claims that there is a relationship between attributes.\n"
     ]
    }
   ],
   "source": [
    "#With the usage of analysis of variance or ANOVA,we can comment about the relationship between one categorical and one numerical attribute on defined\n",
    "#H0(null) and HA(Alternative) hypotheses via found P-value;(Var_1-Family_Size);\n",
    "from scipy import stats\n",
    "df=all.copy()\n",
    "df['Family_Size']=df['Family_Size'].fillna(value=df['Family_Size'].mean())\n",
    "\n",
    "voter_fs = df['Family_Size']\n",
    "voter_frame = pd.DataFrame({\"var_1\":df['Var_1'],\"fs\":voter_fs})\n",
    "groups = voter_frame.groupby(\"var_1\").groups\n",
    "\n",
    "# Etract individual groups\n",
    "cat_1= voter_fs[groups[\"Cat_1\"]]\n",
    "cat_2 = voter_fs[groups[\"Cat_2\"]]\n",
    "cat_3 = voter_fs[groups[\"Cat_3\"]]\n",
    "cat_4 = voter_fs[groups[\"Cat_4\"]]\n",
    "cat_5 = voter_fs[groups[\"Cat_5\"]]\n",
    "cat_6 = voter_fs[groups[\"Cat_6\"]]\n",
    "cat_7 = voter_fs[groups[\"Cat_7\"]]\n",
    "\n",
    "# Perform the ANOVA\n",
    "results=stats.f_oneway(cat_1,cat_2,cat_3,cat_4,cat_5,cat_6,cat_7)\n",
    "#print(results)\n",
    "print(\"p-value for significance is: \", results[1])\n",
    "if results[1] <= 0.05:\n",
    "     print('The null hypothesis can be rejected and the alternative hypothesis can be considered which claims that there is a ' \n",
    "          +'relationship between attributes.')\n",
    "else:\n",
    "    print('The null hypothesis cannot be rejected. Thus,there is no relationship between attributes!')"
   ]
  },
  {
   "cell_type": "code",
   "execution_count": 70,
   "id": "0ddf285d",
   "metadata": {},
   "outputs": [
    {
     "name": "stdout",
     "output_type": "stream",
     "text": [
      "p-value for significance is:  0.0\n",
      "The null hypothesis can be rejected and the alternative hypothesis can be considered which claims that there is a relationship between attributes.\n"
     ]
    }
   ],
   "source": [
    "#With the usage of analysis of variance or ANOVA,we can comment about the relationship between one categorical and one numerical attribute on defined\n",
    "#H0(null) and HA(Alternative) hypotheses via found P-value;(Profession-Age);\n",
    "from scipy import stats\n",
    "df=all.copy()\n",
    "\n",
    "voter_age = df['Age']\n",
    "voter_frame = pd.DataFrame({\"prof\":df['Profession'],\"age\":voter_age})\n",
    "groups = voter_frame.groupby(\"prof\").groups\n",
    "\n",
    "# Etract individual groups\n",
    "hc= voter_age[groups[\"Healthcare\"]]\n",
    "eng = voter_age[groups[\"Engineer\"]]\n",
    "law = voter_age[groups[\"Lawyer\"]]\n",
    "entertainment = voter_age[groups[\"Entertainment\"]]\n",
    "executive= voter_age[groups[\"Executive\"]]\n",
    "doctor= voter_age[groups[\"Doctor\"]]\n",
    "hm = voter_age[groups[\"Homemaker\"]]\n",
    "marketing = voter_age[groups[\"Marketing\"]]\n",
    "\n",
    "# Perform the ANOVA\n",
    "results=stats.f_oneway(hc,eng,law,entertainment,executive,doctor,hm,marketing)\n",
    "#print(results)\n",
    "print(\"p-value for significance is: \", results[1])\n",
    "if results[1] <= 0.05:\n",
    "     print('The null hypothesis can be rejected and the alternative hypothesis can be considered which claims that there is a ' \n",
    "          +'relationship between attributes.')\n",
    "else:\n",
    "    print('The null hypothesis cannot be rejected. Thus,there is no relationship between attributes!')"
   ]
  },
  {
   "cell_type": "code",
   "execution_count": 71,
   "id": "01f68a1c",
   "metadata": {},
   "outputs": [
    {
     "name": "stdout",
     "output_type": "stream",
     "text": [
      "Ttest_indResult(statistic=-8.1400989793277, pvalue=4.4167070531753836e-16)\n",
      "The null hypothesis can be rejected and the alternative hypothesis can be considered which claims that there is a relationship between attributes.\n"
     ]
    }
   ],
   "source": [
    "#With the usage of T-Test,we can comment about the relationship between one binary and one numerical attribute on defined \n",
    "#H0(null) and HA(Alternative) hypotheses via found P-value;(Ever_Married-Family_Size);\n",
    "#Ever_Married-Family_Size\n",
    "import scipy.stats as stats\n",
    "df=all.copy()\n",
    "isMarried = df['Ever_Married']\n",
    "sizeOfFamily = df['Family_Size']\n",
    "\n",
    "myCategory1 = isMarried =='Yes'\n",
    "myCategory2 = isMarried =='No'\n",
    "#myCategory1.head()\n",
    "\n",
    "myCategoryScores1 = sizeOfFamily[myCategory1].dropna()\n",
    "myCategoryScores2 = sizeOfFamily[myCategory2].dropna()\n",
    "\n",
    "from scipy.stats import ttest_ind\n",
    "results=ttest_ind(myCategoryScores1, myCategoryScores2) #equal_var=True-perform a standard independent 2 sample test that assumes equal \n",
    "#population variances\n",
    "\n",
    "#ttest_ind(myCategoryScores1, myCategoryScores2, equal_var=False) #perform Welch’s t-test, which does not assume equal\n",
    "#population variance\n",
    "print(results)\n",
    "\n",
    "if results[1] <= 0.05:\n",
    "     print('The null hypothesis can be rejected and the alternative hypothesis can be considered which claims that there is a ' \n",
    "          +'relationship between attributes.')\n",
    "else:\n",
    "    print('The null hypothesis cannot be rejected. Thus,there is no relationship between attributes!')"
   ]
  },
  {
   "cell_type": "code",
   "execution_count": 72,
   "id": "d9fa2837",
   "metadata": {},
   "outputs": [
    {
     "name": "stdout",
     "output_type": "stream",
     "text": [
      "p-value for significance is:  1.1949532523374127e-23\n",
      "The null hypothesis can be rejected and the alternative hypothesis can be considered which claims that there is a relationship between attributes.\n"
     ]
    }
   ],
   "source": [
    "#With the usage of analysis of variance or ANOVA,we can comment about the relationship between one categorical and one numerical attribute on defined\n",
    "#H0(null) and HA(Alternative) hypotheses via found P-value;(Family_Size-Spending_Score);\n",
    "from scipy import stats\n",
    "df=all.copy()\n",
    "df['Family_Size']=df['Family_Size'].fillna(value=df['Family_Size'].mean())\n",
    "\n",
    "voter_fs = df['Family_Size']\n",
    "voter_frame = pd.DataFrame({\"spending_score\":df['Spending_Score'],\"fs\":voter_fs})\n",
    "groups = voter_frame.groupby(\"spending_score\").groups\n",
    "\n",
    "# Etract individual groups\n",
    "low= voter_fs[groups[\"Low\"]]\n",
    "average = voter_fs[groups[\"Average\"]]\n",
    "high = voter_fs[groups[\"High\"]]\n",
    "\n",
    "# Perform the ANOVA\n",
    "results=stats.f_oneway(low,average,high)\n",
    "#print(results)\n",
    "print(\"p-value for significance is: \", results[1])\n",
    "if results[1] <= 0.05:\n",
    "     print('The null hypothesis can be rejected and the alternative hypothesis can be considered which claims that there is a ' \n",
    "          +'relationship between attributes.')\n",
    "else:\n",
    "    print('The null hypothesis cannot be rejected. Thus,there is no relationship between attributes!')"
   ]
  },
  {
   "cell_type": "code",
   "execution_count": 73,
   "id": "6355f0f1",
   "metadata": {},
   "outputs": [
    {
     "name": "stdout",
     "output_type": "stream",
     "text": [
      "p-value for significance is:  5.476997316504499e-205\n",
      "The null hypothesis can be rejected and the alternative hypothesis can be considered which claims that there is a relationship between attributes.\n"
     ]
    }
   ],
   "source": [
    "#With the usage of analysis of variance or ANOVA,we can comment about the relationship between one categorical and one numerical attribute on defined\n",
    "#H0(null) and HA(Alternative) hypotheses via found P-value;(Age-Segmentation);\n",
    "from scipy import stats\n",
    "\n",
    "voter_age = all['Age']\n",
    "voter_frame = pd.DataFrame({\"segmentation\":all['Segmentation'],\"age\":voter_age})\n",
    "groups = voter_frame.groupby(\"segmentation\").groups\n",
    "\n",
    "# Etract individual groups\n",
    "A= voter_age[groups[\"A\"]]\n",
    "B = voter_age[groups[\"B\"]]\n",
    "C = voter_age[groups[\"C\"]]\n",
    "D = voter_age[groups[\"D\"]]\n",
    "\n",
    "# Perform the ANOVA\n",
    "results=stats.f_oneway(A,B,C,D)\n",
    "#print(results)\n",
    "print(\"p-value for significance is: \", results[1])\n",
    "if results[1] <= 0.05:\n",
    "     print('The null hypothesis can be rejected and the alternative hypothesis can be considered which claims that there is a ' \n",
    "          +'relationship between attributes.')\n",
    "else:\n",
    "    print('The null hypothesis cannot be rejected. Thus,there is no relationship between attributes!')"
   ]
  },
  {
   "cell_type": "code",
   "execution_count": null,
   "id": "28a6835a",
   "metadata": {},
   "outputs": [],
   "source": [
    "#**-----------------Pre-Modeling Statistical Transactions For LGBMClassifier/'Gradient-boosted decision trees'\n",
    "#(filling (handling) missing values,handling outliers(normalization),get_dummies() usage,etc.)"
   ]
  },
  {
   "cell_type": "code",
   "execution_count": 74,
   "id": "80b649a5",
   "metadata": {},
   "outputs": [],
   "source": [
    "# We applied all of the transactions to provide a better environment for modeling with the usage of \n",
    "# df which is equal to the all.copy(). Under favour of that, the actual dataset is not \n",
    "# changing and we can apply our transactions on the same dataset values.\n",
    "df = all.copy()"
   ]
  },
  {
   "cell_type": "code",
   "execution_count": 75,
   "id": "6be7e96a",
   "metadata": {},
   "outputs": [
    {
     "data": {
      "text/html": [
       "<div>\n",
       "<style scoped>\n",
       "    .dataframe tbody tr th:only-of-type {\n",
       "        vertical-align: middle;\n",
       "    }\n",
       "\n",
       "    .dataframe tbody tr th {\n",
       "        vertical-align: top;\n",
       "    }\n",
       "\n",
       "    .dataframe thead th {\n",
       "        text-align: right;\n",
       "    }\n",
       "</style>\n",
       "<table border=\"1\" class=\"dataframe\">\n",
       "  <thead>\n",
       "    <tr style=\"text-align: right;\">\n",
       "      <th></th>\n",
       "      <th>ID</th>\n",
       "      <th>Gender</th>\n",
       "      <th>Ever_Married</th>\n",
       "      <th>Age</th>\n",
       "      <th>Graduated</th>\n",
       "      <th>Profession</th>\n",
       "      <th>Work_Experience</th>\n",
       "      <th>Spending_Score</th>\n",
       "      <th>Family_Size</th>\n",
       "      <th>Var_1</th>\n",
       "      <th>Segmentation</th>\n",
       "      <th>isTrain</th>\n",
       "    </tr>\n",
       "  </thead>\n",
       "  <tbody>\n",
       "    <tr>\n",
       "      <th>0</th>\n",
       "      <td>462809</td>\n",
       "      <td>Male</td>\n",
       "      <td>No</td>\n",
       "      <td>-1.282499</td>\n",
       "      <td>No</td>\n",
       "      <td>Healthcare</td>\n",
       "      <td>-0.504312</td>\n",
       "      <td>Low</td>\n",
       "      <td>0.768669</td>\n",
       "      <td>Cat_4</td>\n",
       "      <td>D</td>\n",
       "      <td>1</td>\n",
       "    </tr>\n",
       "    <tr>\n",
       "      <th>1</th>\n",
       "      <td>462643</td>\n",
       "      <td>Female</td>\n",
       "      <td>Yes</td>\n",
       "      <td>-0.328606</td>\n",
       "      <td>Yes</td>\n",
       "      <td>Engineer</td>\n",
       "      <td>0.000000</td>\n",
       "      <td>Average</td>\n",
       "      <td>0.103701</td>\n",
       "      <td>Cat_4</td>\n",
       "      <td>A</td>\n",
       "      <td>1</td>\n",
       "    </tr>\n",
       "    <tr>\n",
       "      <th>2</th>\n",
       "      <td>466315</td>\n",
       "      <td>Female</td>\n",
       "      <td>Yes</td>\n",
       "      <td>1.400325</td>\n",
       "      <td>Yes</td>\n",
       "      <td>Engineer</td>\n",
       "      <td>-0.504312</td>\n",
       "      <td>Low</td>\n",
       "      <td>-1.226237</td>\n",
       "      <td>Cat_6</td>\n",
       "      <td>B</td>\n",
       "      <td>1</td>\n",
       "    </tr>\n",
       "    <tr>\n",
       "      <th>3</th>\n",
       "      <td>461735</td>\n",
       "      <td>Male</td>\n",
       "      <td>Yes</td>\n",
       "      <td>1.400325</td>\n",
       "      <td>Yes</td>\n",
       "      <td>Lawyer</td>\n",
       "      <td>-0.815659</td>\n",
       "      <td>High</td>\n",
       "      <td>-0.561268</td>\n",
       "      <td>Cat_6</td>\n",
       "      <td>B</td>\n",
       "      <td>1</td>\n",
       "    </tr>\n",
       "    <tr>\n",
       "      <th>4</th>\n",
       "      <td>462669</td>\n",
       "      <td>Female</td>\n",
       "      <td>Yes</td>\n",
       "      <td>-0.209369</td>\n",
       "      <td>Yes</td>\n",
       "      <td>Entertainment</td>\n",
       "      <td>0.000000</td>\n",
       "      <td>High</td>\n",
       "      <td>2.098607</td>\n",
       "      <td>Cat_6</td>\n",
       "      <td>A</td>\n",
       "      <td>1</td>\n",
       "    </tr>\n",
       "  </tbody>\n",
       "</table>\n",
       "</div>"
      ],
      "text/plain": [
       "       ID  Gender Ever_Married       Age Graduated     Profession  \\\n",
       "0  462809    Male           No -1.282499        No     Healthcare   \n",
       "1  462643  Female          Yes -0.328606       Yes       Engineer   \n",
       "2  466315  Female          Yes  1.400325       Yes       Engineer   \n",
       "3  461735    Male          Yes  1.400325       Yes         Lawyer   \n",
       "4  462669  Female          Yes -0.209369       Yes  Entertainment   \n",
       "\n",
       "   Work_Experience Spending_Score  Family_Size  Var_1 Segmentation  isTrain  \n",
       "0        -0.504312            Low     0.768669  Cat_4            D        1  \n",
       "1         0.000000        Average     0.103701  Cat_4            A        1  \n",
       "2        -0.504312            Low    -1.226237  Cat_6            B        1  \n",
       "3        -0.815659           High    -0.561268  Cat_6            B        1  \n",
       "4         0.000000           High     2.098607  Cat_6            A        1  "
      ]
     },
     "execution_count": 75,
     "metadata": {},
     "output_type": "execute_result"
    }
   ],
   "source": [
    "#We applied Z-Score Normalization with the usage of StandardScaler() and it provides to handle with outiers of numerical \n",
    "#attributes as can be seen below;\n",
    "\n",
    "from sklearn.preprocessing import StandardScaler\n",
    "trf = StandardScaler()\n",
    "df['Work_Experience']=df['Work_Experience'].fillna(value=df['Work_Experience'].mean())\n",
    "df['Family_Size']=df['Family_Size'].fillna(value=df['Family_Size'].mean())\n",
    "df[['Age','Work_Experience','Family_Size']] = trf.fit_transform(df[['Age','Work_Experience','Family_Size']])\n",
    "df.head()"
   ]
  },
  {
   "cell_type": "code",
   "execution_count": 76,
   "id": "66000cb9",
   "metadata": {},
   "outputs": [],
   "source": [
    "# With the usage of drop_first we get the values as in binary according to the comparison with first level\n",
    "df=pd.get_dummies(df,prefix='Gender',columns=['Gender'],drop_first=True)"
   ]
  },
  {
   "cell_type": "code",
   "execution_count": 77,
   "id": "f8439319",
   "metadata": {},
   "outputs": [],
   "source": [
    "# We filled the missing values with the value('YES') which occupies more area(have more values) and we use 'get_dummies()' to \n",
    "#show the specific columns(categorical columns generally) via  comparing the values with the first level among the columns \n",
    "#values;\n",
    "df['Ever_Married']=df['Ever_Married'].fillna('Yes')\n",
    "df=pd.get_dummies(df,prefix='Married',columns=['Ever_Married'],drop_first=True) "
   ]
  },
  {
   "cell_type": "code",
   "execution_count": 78,
   "id": "20a62b20",
   "metadata": {},
   "outputs": [],
   "source": [
    "df['Graduated']=df['Graduated'].fillna('Yes')\n",
    "df=pd.get_dummies(df,prefix='Graduated',columns=['Graduated'],drop_first=True)"
   ]
  },
  {
   "cell_type": "code",
   "execution_count": 79,
   "id": "24456917",
   "metadata": {},
   "outputs": [],
   "source": [
    "df['Profession'].fillna('Unknown',inplace=True)\n",
    "df['Profession']=df['Profession'].astype('str')"
   ]
  },
  {
   "cell_type": "code",
   "execution_count": 80,
   "id": "eddc6655",
   "metadata": {},
   "outputs": [],
   "source": [
    "#--'LabelEncoder' can be used to normalize labels,it can also be used to transform non-numerical labels to numerical labels;\n",
    "# We provide normalization with the usage of 'transformation' for the 'Profession' column according to the alphabetical order, \n",
    "#in order to make transactions more accurately.\n",
    "# We applied 'transformation' for the nominal/categorical attributes to provide normalization for them;\n",
    "\n",
    "from sklearn import preprocessing\n",
    "le = preprocessing.LabelEncoder()\n",
    "df['Profession_en']=le.fit_transform(df['Profession'])"
   ]
  },
  {
   "cell_type": "code",
   "execution_count": 81,
   "id": "e13f286b",
   "metadata": {},
   "outputs": [],
   "source": [
    "df.drop('Profession',axis=1,inplace=True)"
   ]
  },
  {
   "cell_type": "code",
   "execution_count": 313,
   "id": "05e7ad42",
   "metadata": {},
   "outputs": [],
   "source": [
    "#df['Work_Experience'].fillna(df['Work_Experience'].mean(),inplace=True)\n",
    "#df['Family_Size'].fillna(round(df['Family_Size'].mean()),inplace=True)"
   ]
  },
  {
   "cell_type": "code",
   "execution_count": 82,
   "id": "b24d6451",
   "metadata": {},
   "outputs": [],
   "source": [
    "# We assigned the values to the ordinal attribute's values in order to provide transformation for ordinal attribute;\n",
    "df.loc[df['Spending_Score']=='Low','Spending_Score']=1\n",
    "df.loc[df['Spending_Score']=='Average','Spending_Score']=2\n",
    "df.loc[df['Spending_Score']=='High','Spending_Score']=3\n",
    "df['Spending_Score']=df['Spending_Score'].astype('int')"
   ]
  },
  {
   "cell_type": "code",
   "execution_count": 83,
   "id": "6b63c679",
   "metadata": {},
   "outputs": [],
   "source": [
    "#Var_1\n",
    "df['Var_1'].fillna('Cat_6',inplace=True)\n",
    "df['Var_1']=df['Var_1'].apply(lambda x:x[-1])\n",
    "df['Var_1']=df['Var_1'].astype('int')"
   ]
  },
  {
   "cell_type": "code",
   "execution_count": 84,
   "id": "0e14ac96",
   "metadata": {},
   "outputs": [
    {
     "name": "stdout",
     "output_type": "stream",
     "text": [
      "['Age', 'Work_Experience', 'Spending_Score', 'Family_Size', 'Var_1', 'Gender_Male', 'Married_Yes', 'Graduated_Yes', 'Profession_en']\n"
     ]
    }
   ],
   "source": [
    "feature_cols = df.columns.tolist()\n",
    "feature_cols.remove('ID')\n",
    "feature_cols.remove('Segmentation')\n",
    "feature_cols.remove('isTrain')\n",
    "label_col = 'Segmentation'\n",
    "print(feature_cols)"
   ]
  },
  {
   "cell_type": "code",
   "execution_count": 85,
   "id": "8fcdb911",
   "metadata": {},
   "outputs": [
    {
     "data": {
      "text/html": [
       "<div>\n",
       "<style scoped>\n",
       "    .dataframe tbody tr th:only-of-type {\n",
       "        vertical-align: middle;\n",
       "    }\n",
       "\n",
       "    .dataframe tbody tr th {\n",
       "        vertical-align: top;\n",
       "    }\n",
       "\n",
       "    .dataframe thead th {\n",
       "        text-align: right;\n",
       "    }\n",
       "</style>\n",
       "<table border=\"1\" class=\"dataframe\">\n",
       "  <thead>\n",
       "    <tr style=\"text-align: right;\">\n",
       "      <th></th>\n",
       "      <th>ID</th>\n",
       "      <th>Age</th>\n",
       "      <th>Work_Experience</th>\n",
       "      <th>Spending_Score</th>\n",
       "      <th>Family_Size</th>\n",
       "      <th>Var_1</th>\n",
       "      <th>Segmentation</th>\n",
       "      <th>isTrain</th>\n",
       "      <th>Gender_Male</th>\n",
       "      <th>Married_Yes</th>\n",
       "      <th>Graduated_Yes</th>\n",
       "      <th>Profession_en</th>\n",
       "    </tr>\n",
       "  </thead>\n",
       "  <tbody>\n",
       "    <tr>\n",
       "      <th>0</th>\n",
       "      <td>462809</td>\n",
       "      <td>-1.282499</td>\n",
       "      <td>-0.504312</td>\n",
       "      <td>1</td>\n",
       "      <td>0.768669</td>\n",
       "      <td>4</td>\n",
       "      <td>D</td>\n",
       "      <td>1</td>\n",
       "      <td>1</td>\n",
       "      <td>0</td>\n",
       "      <td>0</td>\n",
       "      <td>5</td>\n",
       "    </tr>\n",
       "    <tr>\n",
       "      <th>1</th>\n",
       "      <td>462643</td>\n",
       "      <td>-0.328606</td>\n",
       "      <td>0.000000</td>\n",
       "      <td>2</td>\n",
       "      <td>0.103701</td>\n",
       "      <td>4</td>\n",
       "      <td>A</td>\n",
       "      <td>1</td>\n",
       "      <td>0</td>\n",
       "      <td>1</td>\n",
       "      <td>1</td>\n",
       "      <td>2</td>\n",
       "    </tr>\n",
       "    <tr>\n",
       "      <th>2</th>\n",
       "      <td>466315</td>\n",
       "      <td>1.400325</td>\n",
       "      <td>-0.504312</td>\n",
       "      <td>1</td>\n",
       "      <td>-1.226237</td>\n",
       "      <td>6</td>\n",
       "      <td>B</td>\n",
       "      <td>1</td>\n",
       "      <td>0</td>\n",
       "      <td>1</td>\n",
       "      <td>1</td>\n",
       "      <td>2</td>\n",
       "    </tr>\n",
       "    <tr>\n",
       "      <th>3</th>\n",
       "      <td>461735</td>\n",
       "      <td>1.400325</td>\n",
       "      <td>-0.815659</td>\n",
       "      <td>3</td>\n",
       "      <td>-0.561268</td>\n",
       "      <td>6</td>\n",
       "      <td>B</td>\n",
       "      <td>1</td>\n",
       "      <td>1</td>\n",
       "      <td>1</td>\n",
       "      <td>1</td>\n",
       "      <td>7</td>\n",
       "    </tr>\n",
       "    <tr>\n",
       "      <th>4</th>\n",
       "      <td>462669</td>\n",
       "      <td>-0.209369</td>\n",
       "      <td>0.000000</td>\n",
       "      <td>3</td>\n",
       "      <td>2.098607</td>\n",
       "      <td>6</td>\n",
       "      <td>A</td>\n",
       "      <td>1</td>\n",
       "      <td>0</td>\n",
       "      <td>1</td>\n",
       "      <td>1</td>\n",
       "      <td>3</td>\n",
       "    </tr>\n",
       "  </tbody>\n",
       "</table>\n",
       "</div>"
      ],
      "text/plain": [
       "       ID       Age  Work_Experience  Spending_Score  Family_Size  Var_1  \\\n",
       "0  462809 -1.282499        -0.504312               1     0.768669      4   \n",
       "1  462643 -0.328606         0.000000               2     0.103701      4   \n",
       "2  466315  1.400325        -0.504312               1    -1.226237      6   \n",
       "3  461735  1.400325        -0.815659               3    -0.561268      6   \n",
       "4  462669 -0.209369         0.000000               3     2.098607      6   \n",
       "\n",
       "  Segmentation  isTrain  Gender_Male  Married_Yes  Graduated_Yes  \\\n",
       "0            D        1            1            0              0   \n",
       "1            A        1            0            1              1   \n",
       "2            B        1            0            1              1   \n",
       "3            B        1            1            1              1   \n",
       "4            A        1            0            1              1   \n",
       "\n",
       "   Profession_en  \n",
       "0              5  \n",
       "1              2  \n",
       "2              2  \n",
       "3              7  \n",
       "4              3  "
      ]
     },
     "execution_count": 85,
     "metadata": {},
     "output_type": "execute_result"
    }
   ],
   "source": [
    "df.head(5)"
   ]
  },
  {
   "cell_type": "code",
   "execution_count": 86,
   "id": "4a07a0fb",
   "metadata": {},
   "outputs": [
    {
     "name": "stdout",
     "output_type": "stream",
     "text": [
      "Requirement already satisfied: lightgbm in c:\\users\\hasan\\anaconda3\\lib\\site-packages (3.3.1)\n",
      "Requirement already satisfied: scipy in c:\\users\\hasan\\anaconda3\\lib\\site-packages (from lightgbm) (1.6.2)\n",
      "Requirement already satisfied: numpy in c:\\users\\hasan\\anaconda3\\lib\\site-packages (from lightgbm) (1.20.1)\n",
      "Requirement already satisfied: scikit-learn!=0.22.0 in c:\\users\\hasan\\anaconda3\\lib\\site-packages (from lightgbm) (0.24.1)\n",
      "Requirement already satisfied: wheel in c:\\users\\hasan\\anaconda3\\lib\\site-packages (from lightgbm) (0.36.2)\n",
      "Requirement already satisfied: threadpoolctl>=2.0.0 in c:\\users\\hasan\\anaconda3\\lib\\site-packages (from scikit-learn!=0.22.0->lightgbm) (2.1.0)\n",
      "Requirement already satisfied: joblib>=0.11 in c:\\users\\hasan\\anaconda3\\lib\\site-packages (from scikit-learn!=0.22.0->lightgbm) (1.0.1)\n"
     ]
    }
   ],
   "source": [
    "#-----------------MODELING-MODEL BUILDING/LGBMClassifier/'Gradient-boosted decision trees'------------------------------------\n",
    "#!pip install lightgbm"
   ]
  },
  {
   "cell_type": "code",
   "execution_count": 87,
   "id": "89de05fb",
   "metadata": {},
   "outputs": [],
   "source": [
    "#Train & Test Split-Split datasets into random train and test subsets.\n",
    "from sklearn.model_selection import train_test_split\n",
    "df_train, df_eval = train_test_split(df[df['isTrain']==1], test_size=0.20, random_state=101,\n",
    "shuffle=True, stratify=df[df['isTrain']==1][label_col])"
   ]
  },
  {
   "cell_type": "code",
   "execution_count": 88,
   "id": "77b26510",
   "metadata": {},
   "outputs": [],
   "source": [
    "# We used transformation to normalize the Segmentation column;\n",
    "le = preprocessing.LabelEncoder()\n",
    "df_train['Segmentation']=le.fit_transform(df_train['Segmentation'])\n",
    "df_eval['Segmentation']=le.fit_transform(df_eval['Segmentation'])"
   ]
  },
  {
   "cell_type": "code",
   "execution_count": 89,
   "id": "3a682711",
   "metadata": {},
   "outputs": [],
   "source": [
    "import lightgbm as lgb\n",
    "from sklearn import preprocessing\n",
    "from sklearn.metrics import mean_squared_log_error, mean_squared_error\n",
    "from sklearn.model_selection import train_test_split\n",
    "from sklearn.metrics import roc_auc_score\n",
    "from sklearn.metrics import accuracy_score\n",
    "from sklearn.metrics import log_loss\n",
    "from sklearn.metrics import classification_report\n",
    "from collections import Counter\n",
    "from sklearn.metrics import roc_curve\n",
    "from sklearn.metrics import auc\n",
    "from sklearn.metrics import precision_recall_curve\n",
    "from sklearn.metrics import precision_score\n",
    "from sklearn.metrics import recall_score\n",
    "from sklearn.metrics import f1_score"
   ]
  },
  {
   "cell_type": "code",
   "execution_count": 335,
   "id": "1e22c556",
   "metadata": {},
   "outputs": [],
   "source": [
    "#*****----------Which type of ML method have you used?\n",
    "#We used 'Multi-class Classification' Machine Learning Method to find the aimed solution on datasets."
   ]
  },
  {
   "cell_type": "code",
   "execution_count": 336,
   "id": "1bc9736b",
   "metadata": {},
   "outputs": [],
   "source": [
    "#********---Which evaluation metric did you choose to evaluate your model? (mean squared error/accuracy/precision/recall...)\n",
    "#For 'LGBMClassifier'/'Gradient-boosted decision trees' we used multi_error,logloss(by default),accuracy_score evaluation\n",
    "#metrics.For 'RandomForestClassifier',the accuracy_score evaluation,classification_report,confusion_matrix evaluation metrics\n",
    "# and 'cross validation' technique (to compare the algorithms) had been used."
   ]
  },
  {
   "cell_type": "code",
   "execution_count": 90,
   "id": "2673b9e7",
   "metadata": {},
   "outputs": [
    {
     "name": "stdout",
     "output_type": "stream",
     "text": [
      "Tuned hyperparameter k: {'min_child_samples': 400, 'num_leaves': 31, 'reg_alpha': 0.5, 'reg_lambda': 0.1}\n"
     ]
    }
   ],
   "source": [
    "#Parameter Selection/Choosing 1-For LGBMClassifier(GridSearchCV)\n",
    "\n",
    "#****For each of those algorithm, how did you choose appropriate parameters?\n",
    "#*Before parameter choosing/selection, we tried to use several parameters on both LGBMClassifier and RandomForestClassifier.\n",
    "#For example, we used the value 1.7 for the reg_lambda instead of 0.1 before. However, since we obtained better results with\n",
    "#the usage of optimized/best parameter values with the usage of Parameter Choosing/Selection, we applied this values to get\n",
    "#better accuracy,precision,etc. by means of evaluation metrics for performance;\n",
    "\n",
    "from sklearn.model_selection import train_test_split\n",
    "import lightgbm as lgb\n",
    "\n",
    "#Grid Search Cross Validation with hyperparameters;\n",
    "from sklearn.model_selection import GridSearchCV \n",
    "\n",
    "clf = lgb.LGBMClassifier(random_state=42)\n",
    "param_grid = {'num_leaves': [31, 127],\n",
    "              'reg_alpha': [0.1, 0.5],\n",
    "              'reg_lambda': [0.1, 0.5],\n",
    "              'min_child_samples': [30, 50, 100, 300, 400]}\n",
    "\n",
    "clf_cv = GridSearchCV(clf, param_grid, cv=5) # GridSearchCV\n",
    "clf_cv.fit(df_train[feature_cols],df_train[label_col])# Fit\n",
    "\n",
    "# Print hyperparameter\n",
    "print(\"Tuned hyperparameter k: {}\".format(clf_cv.best_params_)) \n",
    "#print(\"Best score: {}\".format(clf_cv.best_score_))"
   ]
  },
  {
   "cell_type": "code",
   "execution_count": 91,
   "id": "50d7effe",
   "metadata": {},
   "outputs": [],
   "source": [
    "#Some of the values are given according to the found best parameter values above with the usage of GridSearchCV for \n",
    "#LGBMClassifier;\n",
    "params = {}\n",
    "params['learning_rate'] = 0.04 #controls emphasis on fixing errors from previous iteration.\n",
    "params['max_depth'] = 18 \n",
    "params['num_leaves'] = 31\n",
    "params['n_estimators'] = 3000  #sets number of small decision trees to use (weak learners) in the ensemble.\n",
    "params['objective'] = 'multiclass' #Specify the custom objective function to be used-‘multiclass’ for LGBMClassifier\n",
    "params['boosting_type'] = 'gbdt' #‘gbdt’(traditional \"Gradient Boosting Decision Tree\")!\n",
    "params['subsample'] = 0.7 #Subsample ratio of the training instance.\n",
    "params['random_state'] = 42 #random number seed which provides same number generation each running time\n",
    "params['colsample_bytree']=0.7 #Subsample ratio of columns when constructing each tree.\n",
    "params['min_child_samples'] = 400\n",
    "params['reg_alpha'] = 0.5 #L1 regularization term on weights.\n",
    "params['reg_lambda'] = 0.1 #L2 regularization term on weights."
   ]
  },
  {
   "cell_type": "code",
   "execution_count": 92,
   "id": "6d7e0046",
   "metadata": {},
   "outputs": [
    {
     "data": {
      "text/html": [
       "<div>\n",
       "<style scoped>\n",
       "    .dataframe tbody tr th:only-of-type {\n",
       "        vertical-align: middle;\n",
       "    }\n",
       "\n",
       "    .dataframe tbody tr th {\n",
       "        vertical-align: top;\n",
       "    }\n",
       "\n",
       "    .dataframe thead th {\n",
       "        text-align: right;\n",
       "    }\n",
       "</style>\n",
       "<table border=\"1\" class=\"dataframe\">\n",
       "  <thead>\n",
       "    <tr style=\"text-align: right;\">\n",
       "      <th></th>\n",
       "      <th>cols</th>\n",
       "      <th>fea_imp</th>\n",
       "    </tr>\n",
       "  </thead>\n",
       "  <tbody>\n",
       "    <tr>\n",
       "      <th>0</th>\n",
       "      <td>Age</td>\n",
       "      <td>3858</td>\n",
       "    </tr>\n",
       "    <tr>\n",
       "      <th>1</th>\n",
       "      <td>Work_Experience</td>\n",
       "      <td>1879</td>\n",
       "    </tr>\n",
       "    <tr>\n",
       "      <th>8</th>\n",
       "      <td>Profession_en</td>\n",
       "      <td>1769</td>\n",
       "    </tr>\n",
       "    <tr>\n",
       "      <th>3</th>\n",
       "      <td>Family_Size</td>\n",
       "      <td>1410</td>\n",
       "    </tr>\n",
       "    <tr>\n",
       "      <th>4</th>\n",
       "      <td>Var_1</td>\n",
       "      <td>1052</td>\n",
       "    </tr>\n",
       "    <tr>\n",
       "      <th>2</th>\n",
       "      <td>Spending_Score</td>\n",
       "      <td>630</td>\n",
       "    </tr>\n",
       "    <tr>\n",
       "      <th>5</th>\n",
       "      <td>Gender_Male</td>\n",
       "      <td>615</td>\n",
       "    </tr>\n",
       "    <tr>\n",
       "      <th>7</th>\n",
       "      <td>Graduated_Yes</td>\n",
       "      <td>473</td>\n",
       "    </tr>\n",
       "    <tr>\n",
       "      <th>6</th>\n",
       "      <td>Married_Yes</td>\n",
       "      <td>314</td>\n",
       "    </tr>\n",
       "  </tbody>\n",
       "</table>\n",
       "</div>"
      ],
      "text/plain": [
       "              cols  fea_imp\n",
       "0              Age     3858\n",
       "1  Work_Experience     1879\n",
       "8    Profession_en     1769\n",
       "3      Family_Size     1410\n",
       "4            Var_1     1052\n",
       "2   Spending_Score      630\n",
       "5      Gender_Male      615\n",
       "7    Graduated_Yes      473\n",
       "6      Married_Yes      314"
      ]
     },
     "execution_count": 92,
     "metadata": {},
     "output_type": "execute_result"
    }
   ],
   "source": [
    "#FEATURE SELECTION 1-(Feature importance for LGBMClassifier);\n",
    "#LightGBM model fit\n",
    "\n",
    "#We applied feature selection for the LGBMClassifier according to the 'importance' criteria,which is bigger than zero and we \n",
    "#decided to use all features except ID,Segmentation(since ID is identifier and Segmentation is label/target) and isTrain\n",
    "#for our final model to apply transactions with the usage of LGBMClassifier according to the importance of features we found.\n",
    "#With the application of selected features, we get better accuracy for the LGBMClassifier usage since feature selection provides\n",
    "#more efficent model.Thus,we can say that Feature Selection affected the performance change for LGBMClassifier.\n",
    "\n",
    "gbm = lgb.LGBMClassifier(random_state=42)\n",
    "gbm.fit(df_train[feature_cols],df_train[label_col])\n",
    "gbm.booster_.feature_importance()\n",
    "\n",
    "# importance of each attribute\n",
    "fea_imp_ = pd.DataFrame({'cols':df_train[feature_cols].columns, 'fea_imp':gbm.feature_importances_})\n",
    "fea_imp_.loc[fea_imp_.fea_imp > 0].sort_values(by=['fea_imp'], ascending = False)"
   ]
  },
  {
   "cell_type": "code",
   "execution_count": 93,
   "id": "221281fc",
   "metadata": {},
   "outputs": [
    {
     "name": "stdout",
     "output_type": "stream",
     "text": [
      "['Age', 'Work_Experience', 'Spending_Score', 'Family_Size', 'Var_1', 'Gender_Male', 'Married_Yes', 'Graduated_Yes', 'Profession_en']\n"
     ]
    }
   ],
   "source": [
    "feature_cols = df_train.columns.tolist()\n",
    "feature_cols.remove('ID')\n",
    "feature_cols.remove('Segmentation')\n",
    "feature_cols.remove('isTrain')\n",
    "label_col = 'Segmentation'\n",
    "print(feature_cols)"
   ]
  },
  {
   "cell_type": "code",
   "execution_count": 94,
   "id": "12f2c862",
   "metadata": {},
   "outputs": [],
   "source": [
    "cat_cols=['Spending_Score','Family_Size','Var_1','Gender_Male','Married_Yes','Graduated_Yes','Profession_en']"
   ]
  },
  {
   "cell_type": "code",
   "execution_count": null,
   "id": "3c4b89c3",
   "metadata": {},
   "outputs": [],
   "source": [
    "#df_train[feature_cols]=x_train,df_train[label_col]=y_train,df_eval[feature_col]=x_test,df_eval[label_col]=y_test"
   ]
  },
  {
   "cell_type": "code",
   "execution_count": 95,
   "id": "8c312234",
   "metadata": {},
   "outputs": [
    {
     "name": "stdout",
     "output_type": "stream",
     "text": [
      "[1]\tvalid_0's multi_error: 0.718934\tvalid_0's multi_logloss: 1.366\tvalid_1's multi_error: 0.718711\tvalid_1's multi_logloss: 1.36602\n",
      "[2]\tvalid_0's multi_error: 0.643477\tvalid_0's multi_logloss: 1.34844\tvalid_1's multi_error: 0.641884\tvalid_1's multi_logloss: 1.34878\n",
      "[3]\tvalid_0's multi_error: 0.58212\tvalid_0's multi_logloss: 1.33125\tvalid_1's multi_error: 0.578067\tvalid_1's multi_logloss: 1.33222\n",
      "[4]\tvalid_0's multi_error: 0.531298\tvalid_0's multi_logloss: 1.31477\tvalid_1's multi_error: 0.534077\tvalid_1's multi_logloss: 1.31597\n",
      "[5]\tvalid_0's multi_error: 0.524636\tvalid_0's multi_logloss: 1.30249\tvalid_1's multi_error: 0.524164\tvalid_1's multi_logloss: 1.30406\n",
      "[6]\tvalid_0's multi_error: 0.498915\tvalid_0's multi_logloss: 1.28882\tvalid_1's multi_error: 0.504957\tvalid_1's multi_logloss: 1.29058\n",
      "[7]\tvalid_0's multi_error: 0.487914\tvalid_0's multi_logloss: 1.27638\tvalid_1's multi_error: 0.482652\tvalid_1's multi_logloss: 1.27881\n",
      "[8]\tvalid_0's multi_error: 0.48559\tvalid_0's multi_logloss: 1.26463\tvalid_1's multi_error: 0.488848\tvalid_1's multi_logloss: 1.26769\n",
      "[9]\tvalid_0's multi_error: 0.480787\tvalid_0's multi_logloss: 1.25422\tvalid_1's multi_error: 0.478315\tvalid_1's multi_logloss: 1.25838\n",
      "[10]\tvalid_0's multi_error: 0.477378\tvalid_0's multi_logloss: 1.24423\tvalid_1's multi_error: 0.478315\tvalid_1's multi_logloss: 1.24877\n",
      "[11]\tvalid_0's multi_error: 0.479703\tvalid_0's multi_logloss: 1.23554\tvalid_1's multi_error: 0.483891\tvalid_1's multi_logloss: 1.24042\n",
      "[12]\tvalid_0's multi_error: 0.477533\tvalid_0's multi_logloss: 1.22638\tvalid_1's multi_error: 0.483271\tvalid_1's multi_logloss: 1.23149\n",
      "[13]\tvalid_0's multi_error: 0.47335\tvalid_0's multi_logloss: 1.21786\tvalid_1's multi_error: 0.473978\tvalid_1's multi_logloss: 1.22316\n",
      "[14]\tvalid_0's multi_error: 0.47211\tvalid_0's multi_logloss: 1.20907\tvalid_1's multi_error: 0.474597\tvalid_1's multi_logloss: 1.21471\n",
      "[15]\tvalid_0's multi_error: 0.469941\tvalid_0's multi_logloss: 1.20125\tvalid_1's multi_error: 0.475217\tvalid_1's multi_logloss: 1.20756\n",
      "[16]\tvalid_0's multi_error: 0.469011\tvalid_0's multi_logloss: 1.19438\tvalid_1's multi_error: 0.475836\tvalid_1's multi_logloss: 1.2012\n",
      "[17]\tvalid_0's multi_error: 0.466377\tvalid_0's multi_logloss: 1.18676\tvalid_1's multi_error: 0.471499\tvalid_1's multi_logloss: 1.19424\n",
      "[18]\tvalid_0's multi_error: 0.466532\tvalid_0's multi_logloss: 1.1804\tvalid_1's multi_error: 0.473358\tvalid_1's multi_logloss: 1.18846\n",
      "[19]\tvalid_0's multi_error: 0.465603\tvalid_0's multi_logloss: 1.17498\tvalid_1's multi_error: 0.473978\tvalid_1's multi_logloss: 1.18385\n",
      "[20]\tvalid_0's multi_error: 0.464828\tvalid_0's multi_logloss: 1.16901\tvalid_1's multi_error: 0.472739\tvalid_1's multi_logloss: 1.17802\n",
      "[21]\tvalid_0's multi_error: 0.464828\tvalid_0's multi_logloss: 1.16402\tvalid_1's multi_error: 0.473358\tvalid_1's multi_logloss: 1.17348\n",
      "[22]\tvalid_0's multi_error: 0.464828\tvalid_0's multi_logloss: 1.15897\tvalid_1's multi_error: 0.471499\tvalid_1's multi_logloss: 1.16869\n",
      "[23]\tvalid_0's multi_error: 0.464208\tvalid_0's multi_logloss: 1.15433\tvalid_1's multi_error: 0.47026\tvalid_1's multi_logloss: 1.1644\n",
      "[24]\tvalid_0's multi_error: 0.464828\tvalid_0's multi_logloss: 1.15042\tvalid_1's multi_error: 0.469641\tvalid_1's multi_logloss: 1.16078\n",
      "[25]\tvalid_0's multi_error: 0.463743\tvalid_0's multi_logloss: 1.14581\tvalid_1's multi_error: 0.472119\tvalid_1's multi_logloss: 1.15673\n",
      "[26]\tvalid_0's multi_error: 0.462969\tvalid_0's multi_logloss: 1.14191\tvalid_1's multi_error: 0.47026\tvalid_1's multi_logloss: 1.15312\n",
      "[27]\tvalid_0's multi_error: 0.463898\tvalid_0's multi_logloss: 1.13782\tvalid_1's multi_error: 0.47088\tvalid_1's multi_logloss: 1.14922\n",
      "[28]\tvalid_0's multi_error: 0.462194\tvalid_0's multi_logloss: 1.13391\tvalid_1's multi_error: 0.47088\tvalid_1's multi_logloss: 1.14576\n",
      "[29]\tvalid_0's multi_error: 0.462039\tvalid_0's multi_logloss: 1.12996\tvalid_1's multi_error: 0.469641\tvalid_1's multi_logloss: 1.14219\n",
      "[30]\tvalid_0's multi_error: 0.462969\tvalid_0's multi_logloss: 1.12615\tvalid_1's multi_error: 0.468401\tvalid_1's multi_logloss: 1.13876\n",
      "[31]\tvalid_0's multi_error: 0.462194\tvalid_0's multi_logloss: 1.12215\tvalid_1's multi_error: 0.467162\tvalid_1's multi_logloss: 1.13521\n",
      "[32]\tvalid_0's multi_error: 0.45987\tvalid_0's multi_logloss: 1.11883\tvalid_1's multi_error: 0.466543\tvalid_1's multi_logloss: 1.1324\n",
      "[33]\tvalid_0's multi_error: 0.458785\tvalid_0's multi_logloss: 1.11539\tvalid_1's multi_error: 0.468401\tvalid_1's multi_logloss: 1.12937\n",
      "[34]\tvalid_0's multi_error: 0.456926\tvalid_0's multi_logloss: 1.11249\tvalid_1's multi_error: 0.47026\tvalid_1's multi_logloss: 1.12691\n",
      "[35]\tvalid_0's multi_error: 0.457391\tvalid_0's multi_logloss: 1.10985\tvalid_1's multi_error: 0.471499\tvalid_1's multi_logloss: 1.12474\n",
      "[36]\tvalid_0's multi_error: 0.455531\tvalid_0's multi_logloss: 1.10709\tvalid_1's multi_error: 0.47026\tvalid_1's multi_logloss: 1.1225\n",
      "[37]\tvalid_0's multi_error: 0.455222\tvalid_0's multi_logloss: 1.10448\tvalid_1's multi_error: 0.471499\tvalid_1's multi_logloss: 1.12015\n",
      "[38]\tvalid_0's multi_error: 0.454447\tvalid_0's multi_logloss: 1.10172\tvalid_1's multi_error: 0.471499\tvalid_1's multi_logloss: 1.11778\n",
      "[39]\tvalid_0's multi_error: 0.455222\tvalid_0's multi_logloss: 1.09937\tvalid_1's multi_error: 0.468401\tvalid_1's multi_logloss: 1.11575\n",
      "[40]\tvalid_0's multi_error: 0.454447\tvalid_0's multi_logloss: 1.09682\tvalid_1's multi_error: 0.467782\tvalid_1's multi_logloss: 1.11355\n",
      "[41]\tvalid_0's multi_error: 0.453207\tvalid_0's multi_logloss: 1.09426\tvalid_1's multi_error: 0.469021\tvalid_1's multi_logloss: 1.11153\n",
      "[42]\tvalid_0's multi_error: 0.453672\tvalid_0's multi_logloss: 1.09195\tvalid_1's multi_error: 0.469641\tvalid_1's multi_logloss: 1.1097\n",
      "[43]\tvalid_0's multi_error: 0.452588\tvalid_0's multi_logloss: 1.09002\tvalid_1's multi_error: 0.469641\tvalid_1's multi_logloss: 1.10797\n",
      "[44]\tvalid_0's multi_error: 0.451658\tvalid_0's multi_logloss: 1.08785\tvalid_1's multi_error: 0.469021\tvalid_1's multi_logloss: 1.10629\n",
      "[45]\tvalid_0's multi_error: 0.450883\tvalid_0's multi_logloss: 1.086\tvalid_1's multi_error: 0.467782\tvalid_1's multi_logloss: 1.10499\n",
      "[46]\tvalid_0's multi_error: 0.452123\tvalid_0's multi_logloss: 1.08443\tvalid_1's multi_error: 0.467162\tvalid_1's multi_logloss: 1.10382\n",
      "[47]\tvalid_0's multi_error: 0.452588\tvalid_0's multi_logloss: 1.08275\tvalid_1's multi_error: 0.467162\tvalid_1's multi_logloss: 1.10256\n",
      "[48]\tvalid_0's multi_error: 0.451348\tvalid_0's multi_logloss: 1.08118\tvalid_1's multi_error: 0.467162\tvalid_1's multi_logloss: 1.10138\n",
      "[49]\tvalid_0's multi_error: 0.450573\tvalid_0's multi_logloss: 1.07942\tvalid_1's multi_error: 0.467162\tvalid_1's multi_logloss: 1.09993\n",
      "[50]\tvalid_0's multi_error: 0.449489\tvalid_0's multi_logloss: 1.0777\tvalid_1's multi_error: 0.469021\tvalid_1's multi_logloss: 1.09858\n",
      "[51]\tvalid_0's multi_error: 0.449489\tvalid_0's multi_logloss: 1.07613\tvalid_1's multi_error: 0.469021\tvalid_1's multi_logloss: 1.09753\n",
      "[52]\tvalid_0's multi_error: 0.449179\tvalid_0's multi_logloss: 1.07474\tvalid_1's multi_error: 0.47026\tvalid_1's multi_logloss: 1.09636\n",
      "[53]\tvalid_0's multi_error: 0.449024\tvalid_0's multi_logloss: 1.07319\tvalid_1's multi_error: 0.469641\tvalid_1's multi_logloss: 1.09519\n",
      "[54]\tvalid_0's multi_error: 0.449179\tvalid_0's multi_logloss: 1.0717\tvalid_1's multi_error: 0.469021\tvalid_1's multi_logloss: 1.09419\n",
      "[55]\tvalid_0's multi_error: 0.448094\tvalid_0's multi_logloss: 1.07025\tvalid_1's multi_error: 0.47026\tvalid_1's multi_logloss: 1.09309\n",
      "[56]\tvalid_0's multi_error: 0.447784\tvalid_0's multi_logloss: 1.06912\tvalid_1's multi_error: 0.47026\tvalid_1's multi_logloss: 1.0923\n",
      "[57]\tvalid_0's multi_error: 0.447784\tvalid_0's multi_logloss: 1.06752\tvalid_1's multi_error: 0.467162\tvalid_1's multi_logloss: 1.09114\n",
      "[58]\tvalid_0's multi_error: 0.447319\tvalid_0's multi_logloss: 1.06622\tvalid_1's multi_error: 0.467782\tvalid_1's multi_logloss: 1.09012\n",
      "[59]\tvalid_0's multi_error: 0.446545\tvalid_0's multi_logloss: 1.0651\tvalid_1's multi_error: 0.465304\tvalid_1's multi_logloss: 1.08939\n",
      "[60]\tvalid_0's multi_error: 0.446235\tvalid_0's multi_logloss: 1.06409\tvalid_1's multi_error: 0.465304\tvalid_1's multi_logloss: 1.08878\n",
      "[61]\tvalid_0's multi_error: 0.44639\tvalid_0's multi_logloss: 1.06282\tvalid_1's multi_error: 0.463445\tvalid_1's multi_logloss: 1.08787\n",
      "[62]\tvalid_0's multi_error: 0.447319\tvalid_0's multi_logloss: 1.06171\tvalid_1's multi_error: 0.465923\tvalid_1's multi_logloss: 1.08706\n",
      "[63]\tvalid_0's multi_error: 0.447629\tvalid_0's multi_logloss: 1.06032\tvalid_1's multi_error: 0.467162\tvalid_1's multi_logloss: 1.08607\n",
      "[64]\tvalid_0's multi_error: 0.44701\tvalid_0's multi_logloss: 1.05926\tvalid_1's multi_error: 0.462206\tvalid_1's multi_logloss: 1.08528\n",
      "[65]\tvalid_0's multi_error: 0.447165\tvalid_0's multi_logloss: 1.05808\tvalid_1's multi_error: 0.463445\tvalid_1's multi_logloss: 1.08438\n",
      "[66]\tvalid_0's multi_error: 0.446235\tvalid_0's multi_logloss: 1.05717\tvalid_1's multi_error: 0.465923\tvalid_1's multi_logloss: 1.08388\n",
      "[67]\tvalid_0's multi_error: 0.44608\tvalid_0's multi_logloss: 1.0561\tvalid_1's multi_error: 0.464064\tvalid_1's multi_logloss: 1.08337\n",
      "[68]\tvalid_0's multi_error: 0.446545\tvalid_0's multi_logloss: 1.0551\tvalid_1's multi_error: 0.463445\tvalid_1's multi_logloss: 1.08282\n",
      "[69]\tvalid_0's multi_error: 0.446545\tvalid_0's multi_logloss: 1.05423\tvalid_1's multi_error: 0.462206\tvalid_1's multi_logloss: 1.08222\n",
      "[70]\tvalid_0's multi_error: 0.44639\tvalid_0's multi_logloss: 1.05329\tvalid_1's multi_error: 0.462206\tvalid_1's multi_logloss: 1.0816\n",
      "[71]\tvalid_0's multi_error: 0.44577\tvalid_0's multi_logloss: 1.05219\tvalid_1's multi_error: 0.461586\tvalid_1's multi_logloss: 1.08091\n",
      "[72]\tvalid_0's multi_error: 0.444531\tvalid_0's multi_logloss: 1.05141\tvalid_1's multi_error: 0.462206\tvalid_1's multi_logloss: 1.08062\n",
      "[73]\tvalid_0's multi_error: 0.444531\tvalid_0's multi_logloss: 1.05041\tvalid_1's multi_error: 0.462825\tvalid_1's multi_logloss: 1.08001\n",
      "[74]\tvalid_0's multi_error: 0.444221\tvalid_0's multi_logloss: 1.04964\tvalid_1's multi_error: 0.460967\tvalid_1's multi_logloss: 1.07961\n",
      "[75]\tvalid_0's multi_error: 0.443911\tvalid_0's multi_logloss: 1.04885\tvalid_1's multi_error: 0.462206\tvalid_1's multi_logloss: 1.07917\n",
      "[76]\tvalid_0's multi_error: 0.443911\tvalid_0's multi_logloss: 1.04815\tvalid_1's multi_error: 0.462825\tvalid_1's multi_logloss: 1.0787\n",
      "[77]\tvalid_0's multi_error: 0.443291\tvalid_0's multi_logloss: 1.04729\tvalid_1's multi_error: 0.460347\tvalid_1's multi_logloss: 1.07835\n",
      "[78]\tvalid_0's multi_error: 0.442671\tvalid_0's multi_logloss: 1.04646\tvalid_1's multi_error: 0.461586\tvalid_1's multi_logloss: 1.07789\n",
      "[79]\tvalid_0's multi_error: 0.442361\tvalid_0's multi_logloss: 1.04565\tvalid_1's multi_error: 0.458488\tvalid_1's multi_logloss: 1.07759\n",
      "[80]\tvalid_0's multi_error: 0.442051\tvalid_0's multi_logloss: 1.04482\tvalid_1's multi_error: 0.458488\tvalid_1's multi_logloss: 1.07727\n",
      "[81]\tvalid_0's multi_error: 0.440037\tvalid_0's multi_logloss: 1.044\tvalid_1's multi_error: 0.459727\tvalid_1's multi_logloss: 1.07695\n",
      "[82]\tvalid_0's multi_error: 0.440502\tvalid_0's multi_logloss: 1.04325\tvalid_1's multi_error: 0.461586\tvalid_1's multi_logloss: 1.07669\n",
      "[83]\tvalid_0's multi_error: 0.440657\tvalid_0's multi_logloss: 1.04256\tvalid_1's multi_error: 0.459727\tvalid_1's multi_logloss: 1.07643\n",
      "[84]\tvalid_0's multi_error: 0.440347\tvalid_0's multi_logloss: 1.04187\tvalid_1's multi_error: 0.460967\tvalid_1's multi_logloss: 1.0761\n"
     ]
    },
    {
     "name": "stdout",
     "output_type": "stream",
     "text": [
      "[85]\tvalid_0's multi_error: 0.439262\tvalid_0's multi_logloss: 1.04116\tvalid_1's multi_error: 0.462825\tvalid_1's multi_logloss: 1.07584\n",
      "[86]\tvalid_0's multi_error: 0.439882\tvalid_0's multi_logloss: 1.04051\tvalid_1's multi_error: 0.460347\tvalid_1's multi_logloss: 1.07548\n",
      "[87]\tvalid_0's multi_error: 0.439417\tvalid_0's multi_logloss: 1.03975\tvalid_1's multi_error: 0.460347\tvalid_1's multi_logloss: 1.0751\n",
      "[88]\tvalid_0's multi_error: 0.439727\tvalid_0's multi_logloss: 1.03913\tvalid_1's multi_error: 0.461586\tvalid_1's multi_logloss: 1.0749\n",
      "[89]\tvalid_0's multi_error: 0.440502\tvalid_0's multi_logloss: 1.03862\tvalid_1's multi_error: 0.462825\tvalid_1's multi_logloss: 1.07468\n",
      "[90]\tvalid_0's multi_error: 0.439572\tvalid_0's multi_logloss: 1.03794\tvalid_1's multi_error: 0.464684\tvalid_1's multi_logloss: 1.07441\n",
      "[91]\tvalid_0's multi_error: 0.437868\tvalid_0's multi_logloss: 1.03736\tvalid_1's multi_error: 0.464064\tvalid_1's multi_logloss: 1.07431\n",
      "[92]\tvalid_0's multi_error: 0.438178\tvalid_0's multi_logloss: 1.03671\tvalid_1's multi_error: 0.462206\tvalid_1's multi_logloss: 1.07395\n",
      "[93]\tvalid_0's multi_error: 0.438798\tvalid_0's multi_logloss: 1.03617\tvalid_1's multi_error: 0.462825\tvalid_1's multi_logloss: 1.0736\n",
      "[94]\tvalid_0's multi_error: 0.438798\tvalid_0's multi_logloss: 1.03554\tvalid_1's multi_error: 0.462825\tvalid_1's multi_logloss: 1.07343\n",
      "[95]\tvalid_0's multi_error: 0.438798\tvalid_0's multi_logloss: 1.03512\tvalid_1's multi_error: 0.460967\tvalid_1's multi_logloss: 1.07331\n",
      "[96]\tvalid_0's multi_error: 0.438333\tvalid_0's multi_logloss: 1.0345\tvalid_1's multi_error: 0.459727\tvalid_1's multi_logloss: 1.0732\n",
      "[97]\tvalid_0's multi_error: 0.437248\tvalid_0's multi_logloss: 1.03377\tvalid_1's multi_error: 0.460347\tvalid_1's multi_logloss: 1.07312\n",
      "[98]\tvalid_0's multi_error: 0.438023\tvalid_0's multi_logloss: 1.03316\tvalid_1's multi_error: 0.459727\tvalid_1's multi_logloss: 1.07304\n",
      "[99]\tvalid_0's multi_error: 0.438333\tvalid_0's multi_logloss: 1.03269\tvalid_1's multi_error: 0.460347\tvalid_1's multi_logloss: 1.07298\n",
      "[100]\tvalid_0's multi_error: 0.438798\tvalid_0's multi_logloss: 1.03223\tvalid_1's multi_error: 0.458488\tvalid_1's multi_logloss: 1.07289\n",
      "[101]\tvalid_0's multi_error: 0.438488\tvalid_0's multi_logloss: 1.03171\tvalid_1's multi_error: 0.457869\tvalid_1's multi_logloss: 1.07279\n",
      "[102]\tvalid_0's multi_error: 0.437868\tvalid_0's multi_logloss: 1.03123\tvalid_1's multi_error: 0.459727\tvalid_1's multi_logloss: 1.07274\n",
      "[103]\tvalid_0's multi_error: 0.437558\tvalid_0's multi_logloss: 1.03067\tvalid_1's multi_error: 0.457869\tvalid_1's multi_logloss: 1.07258\n",
      "[104]\tvalid_0's multi_error: 0.437558\tvalid_0's multi_logloss: 1.03022\tvalid_1's multi_error: 0.457249\tvalid_1's multi_logloss: 1.07249\n",
      "[105]\tvalid_0's multi_error: 0.436628\tvalid_0's multi_logloss: 1.02976\tvalid_1's multi_error: 0.457869\tvalid_1's multi_logloss: 1.07239\n",
      "[106]\tvalid_0's multi_error: 0.436319\tvalid_0's multi_logloss: 1.02923\tvalid_1's multi_error: 0.457869\tvalid_1's multi_logloss: 1.07233\n",
      "[107]\tvalid_0's multi_error: 0.436938\tvalid_0's multi_logloss: 1.02884\tvalid_1's multi_error: 0.457249\tvalid_1's multi_logloss: 1.0721\n",
      "[108]\tvalid_0's multi_error: 0.436628\tvalid_0's multi_logloss: 1.02828\tvalid_1's multi_error: 0.459108\tvalid_1's multi_logloss: 1.07194\n",
      "[109]\tvalid_0's multi_error: 0.436009\tvalid_0's multi_logloss: 1.02782\tvalid_1's multi_error: 0.459108\tvalid_1's multi_logloss: 1.07175\n",
      "[110]\tvalid_0's multi_error: 0.436783\tvalid_0's multi_logloss: 1.02743\tvalid_1's multi_error: 0.462825\tvalid_1's multi_logloss: 1.07165\n",
      "[111]\tvalid_0's multi_error: 0.435854\tvalid_0's multi_logloss: 1.02694\tvalid_1's multi_error: 0.460967\tvalid_1's multi_logloss: 1.07145\n",
      "[112]\tvalid_0's multi_error: 0.435234\tvalid_0's multi_logloss: 1.02638\tvalid_1's multi_error: 0.460967\tvalid_1's multi_logloss: 1.07117\n",
      "[113]\tvalid_0's multi_error: 0.435079\tvalid_0's multi_logloss: 1.02583\tvalid_1's multi_error: 0.460967\tvalid_1's multi_logloss: 1.07113\n",
      "[114]\tvalid_0's multi_error: 0.434924\tvalid_0's multi_logloss: 1.02539\tvalid_1's multi_error: 0.462206\tvalid_1's multi_logloss: 1.07115\n",
      "[115]\tvalid_0's multi_error: 0.434614\tvalid_0's multi_logloss: 1.02485\tvalid_1's multi_error: 0.459727\tvalid_1's multi_logloss: 1.07099\n",
      "[116]\tvalid_0's multi_error: 0.433065\tvalid_0's multi_logloss: 1.02449\tvalid_1's multi_error: 0.459727\tvalid_1's multi_logloss: 1.07079\n",
      "[117]\tvalid_0's multi_error: 0.433994\tvalid_0's multi_logloss: 1.02407\tvalid_1's multi_error: 0.458488\tvalid_1's multi_logloss: 1.07071\n",
      "[118]\tvalid_0's multi_error: 0.433839\tvalid_0's multi_logloss: 1.02367\tvalid_1's multi_error: 0.458488\tvalid_1's multi_logloss: 1.07059\n",
      "[119]\tvalid_0's multi_error: 0.434149\tvalid_0's multi_logloss: 1.02307\tvalid_1's multi_error: 0.457249\tvalid_1's multi_logloss: 1.07037\n",
      "[120]\tvalid_0's multi_error: 0.433065\tvalid_0's multi_logloss: 1.02262\tvalid_1's multi_error: 0.456629\tvalid_1's multi_logloss: 1.07023\n",
      "[121]\tvalid_0's multi_error: 0.43291\tvalid_0's multi_logloss: 1.02218\tvalid_1's multi_error: 0.456629\tvalid_1's multi_logloss: 1.07004\n",
      "[122]\tvalid_0's multi_error: 0.433685\tvalid_0's multi_logloss: 1.02191\tvalid_1's multi_error: 0.457249\tvalid_1's multi_logloss: 1.07\n",
      "[123]\tvalid_0's multi_error: 0.433685\tvalid_0's multi_logloss: 1.0215\tvalid_1's multi_error: 0.457869\tvalid_1's multi_logloss: 1.07002\n",
      "[124]\tvalid_0's multi_error: 0.433839\tvalid_0's multi_logloss: 1.02111\tvalid_1's multi_error: 0.457869\tvalid_1's multi_logloss: 1.06997\n",
      "[125]\tvalid_0's multi_error: 0.43353\tvalid_0's multi_logloss: 1.02072\tvalid_1's multi_error: 0.457869\tvalid_1's multi_logloss: 1.06996\n",
      "[126]\tvalid_0's multi_error: 0.433375\tvalid_0's multi_logloss: 1.02034\tvalid_1's multi_error: 0.458488\tvalid_1's multi_logloss: 1.06983\n",
      "[127]\tvalid_0's multi_error: 0.432135\tvalid_0's multi_logloss: 1.01997\tvalid_1's multi_error: 0.458488\tvalid_1's multi_logloss: 1.06976\n",
      "[128]\tvalid_0's multi_error: 0.43322\tvalid_0's multi_logloss: 1.01956\tvalid_1's multi_error: 0.457869\tvalid_1's multi_logloss: 1.06975\n",
      "[129]\tvalid_0's multi_error: 0.432445\tvalid_0's multi_logloss: 1.01926\tvalid_1's multi_error: 0.457869\tvalid_1's multi_logloss: 1.06963\n",
      "[130]\tvalid_0's multi_error: 0.433375\tvalid_0's multi_logloss: 1.01885\tvalid_1's multi_error: 0.458488\tvalid_1's multi_logloss: 1.06959\n",
      "[131]\tvalid_0's multi_error: 0.4326\tvalid_0's multi_logloss: 1.01842\tvalid_1's multi_error: 0.458488\tvalid_1's multi_logloss: 1.0695\n",
      "[132]\tvalid_0's multi_error: 0.432755\tvalid_0's multi_logloss: 1.018\tvalid_1's multi_error: 0.458488\tvalid_1's multi_logloss: 1.06947\n",
      "[133]\tvalid_0's multi_error: 0.4326\tvalid_0's multi_logloss: 1.01773\tvalid_1's multi_error: 0.458488\tvalid_1's multi_logloss: 1.06935\n",
      "[134]\tvalid_0's multi_error: 0.431825\tvalid_0's multi_logloss: 1.01731\tvalid_1's multi_error: 0.458488\tvalid_1's multi_logloss: 1.06921\n",
      "[135]\tvalid_0's multi_error: 0.43229\tvalid_0's multi_logloss: 1.017\tvalid_1's multi_error: 0.458488\tvalid_1's multi_logloss: 1.06917\n",
      "[136]\tvalid_0's multi_error: 0.43229\tvalid_0's multi_logloss: 1.01661\tvalid_1's multi_error: 0.457869\tvalid_1's multi_logloss: 1.06908\n",
      "[137]\tvalid_0's multi_error: 0.43136\tvalid_0's multi_logloss: 1.01629\tvalid_1's multi_error: 0.457249\tvalid_1's multi_logloss: 1.06906\n",
      "[138]\tvalid_0's multi_error: 0.43136\tvalid_0's multi_logloss: 1.01602\tvalid_1's multi_error: 0.456629\tvalid_1's multi_logloss: 1.06902\n",
      "[139]\tvalid_0's multi_error: 0.431051\tvalid_0's multi_logloss: 1.01573\tvalid_1's multi_error: 0.457869\tvalid_1's multi_logloss: 1.06898\n",
      "[140]\tvalid_0's multi_error: 0.430431\tvalid_0's multi_logloss: 1.01538\tvalid_1's multi_error: 0.459108\tvalid_1's multi_logloss: 1.0691\n",
      "[141]\tvalid_0's multi_error: 0.430896\tvalid_0's multi_logloss: 1.01503\tvalid_1's multi_error: 0.458488\tvalid_1's multi_logloss: 1.069\n",
      "[142]\tvalid_0's multi_error: 0.430121\tvalid_0's multi_logloss: 1.0146\tvalid_1's multi_error: 0.460347\tvalid_1's multi_logloss: 1.06882\n",
      "[143]\tvalid_0's multi_error: 0.429811\tvalid_0's multi_logloss: 1.01422\tvalid_1's multi_error: 0.461586\tvalid_1's multi_logloss: 1.06882\n",
      "[144]\tvalid_0's multi_error: 0.429811\tvalid_0's multi_logloss: 1.01378\tvalid_1's multi_error: 0.462206\tvalid_1's multi_logloss: 1.06868\n",
      "[145]\tvalid_0's multi_error: 0.429501\tvalid_0's multi_logloss: 1.01354\tvalid_1's multi_error: 0.460967\tvalid_1's multi_logloss: 1.0686\n",
      "[146]\tvalid_0's multi_error: 0.429966\tvalid_0's multi_logloss: 1.01312\tvalid_1's multi_error: 0.461586\tvalid_1's multi_logloss: 1.06848\n",
      "[147]\tvalid_0's multi_error: 0.429656\tvalid_0's multi_logloss: 1.01278\tvalid_1's multi_error: 0.460967\tvalid_1's multi_logloss: 1.06839\n",
      "[148]\tvalid_0's multi_error: 0.429346\tvalid_0's multi_logloss: 1.01241\tvalid_1's multi_error: 0.462825\tvalid_1's multi_logloss: 1.06832\n",
      "[149]\tvalid_0's multi_error: 0.428726\tvalid_0's multi_logloss: 1.01213\tvalid_1's multi_error: 0.462206\tvalid_1's multi_logloss: 1.06832\n",
      "[150]\tvalid_0's multi_error: 0.427952\tvalid_0's multi_logloss: 1.01178\tvalid_1's multi_error: 0.461586\tvalid_1's multi_logloss: 1.06827\n",
      "[151]\tvalid_0's multi_error: 0.427487\tvalid_0's multi_logloss: 1.01143\tvalid_1's multi_error: 0.459727\tvalid_1's multi_logloss: 1.06808\n",
      "[152]\tvalid_0's multi_error: 0.427487\tvalid_0's multi_logloss: 1.01102\tvalid_1's multi_error: 0.460347\tvalid_1's multi_logloss: 1.06797\n",
      "[153]\tvalid_0's multi_error: 0.427797\tvalid_0's multi_logloss: 1.0108\tvalid_1's multi_error: 0.461586\tvalid_1's multi_logloss: 1.06799\n",
      "[154]\tvalid_0's multi_error: 0.427487\tvalid_0's multi_logloss: 1.01043\tvalid_1's multi_error: 0.460967\tvalid_1's multi_logloss: 1.06797\n",
      "[155]\tvalid_0's multi_error: 0.426867\tvalid_0's multi_logloss: 1.01011\tvalid_1's multi_error: 0.460967\tvalid_1's multi_logloss: 1.06796\n",
      "[156]\tvalid_0's multi_error: 0.428571\tvalid_0's multi_logloss: 1.00982\tvalid_1's multi_error: 0.461586\tvalid_1's multi_logloss: 1.06801\n",
      "[157]\tvalid_0's multi_error: 0.427642\tvalid_0's multi_logloss: 1.00944\tvalid_1's multi_error: 0.461586\tvalid_1's multi_logloss: 1.06816\n",
      "[158]\tvalid_0's multi_error: 0.427487\tvalid_0's multi_logloss: 1.0092\tvalid_1's multi_error: 0.463445\tvalid_1's multi_logloss: 1.06821\n",
      "[159]\tvalid_0's multi_error: 0.427177\tvalid_0's multi_logloss: 1.0089\tvalid_1's multi_error: 0.464064\tvalid_1's multi_logloss: 1.06815\n",
      "[160]\tvalid_0's multi_error: 0.427642\tvalid_0's multi_logloss: 1.00853\tvalid_1's multi_error: 0.462825\tvalid_1's multi_logloss: 1.0682\n",
      "[161]\tvalid_0's multi_error: 0.427487\tvalid_0's multi_logloss: 1.00825\tvalid_1's multi_error: 0.462825\tvalid_1's multi_logloss: 1.06826\n",
      "[162]\tvalid_0's multi_error: 0.427797\tvalid_0's multi_logloss: 1.00801\tvalid_1's multi_error: 0.462206\tvalid_1's multi_logloss: 1.06818\n",
      "[163]\tvalid_0's multi_error: 0.427332\tvalid_0's multi_logloss: 1.00768\tvalid_1's multi_error: 0.461586\tvalid_1's multi_logloss: 1.06819\n"
     ]
    },
    {
     "name": "stdout",
     "output_type": "stream",
     "text": [
      "[164]\tvalid_0's multi_error: 0.427952\tvalid_0's multi_logloss: 1.00741\tvalid_1's multi_error: 0.461586\tvalid_1's multi_logloss: 1.06813\n",
      "[165]\tvalid_0's multi_error: 0.427797\tvalid_0's multi_logloss: 1.00707\tvalid_1's multi_error: 0.460347\tvalid_1's multi_logloss: 1.06811\n",
      "[166]\tvalid_0's multi_error: 0.427022\tvalid_0's multi_logloss: 1.00674\tvalid_1's multi_error: 0.461586\tvalid_1's multi_logloss: 1.0681\n",
      "[167]\tvalid_0's multi_error: 0.426867\tvalid_0's multi_logloss: 1.0065\tvalid_1's multi_error: 0.462206\tvalid_1's multi_logloss: 1.06814\n",
      "[168]\tvalid_0's multi_error: 0.427022\tvalid_0's multi_logloss: 1.00625\tvalid_1's multi_error: 0.462206\tvalid_1's multi_logloss: 1.06814\n",
      "[169]\tvalid_0's multi_error: 0.427177\tvalid_0's multi_logloss: 1.00603\tvalid_1's multi_error: 0.462206\tvalid_1's multi_logloss: 1.06805\n",
      "[170]\tvalid_0's multi_error: 0.426712\tvalid_0's multi_logloss: 1.00574\tvalid_1's multi_error: 0.461586\tvalid_1's multi_logloss: 1.06812\n",
      "[171]\tvalid_0's multi_error: 0.425782\tvalid_0's multi_logloss: 1.00545\tvalid_1's multi_error: 0.462206\tvalid_1's multi_logloss: 1.06807\n",
      "[172]\tvalid_0's multi_error: 0.426867\tvalid_0's multi_logloss: 1.0052\tvalid_1's multi_error: 0.461586\tvalid_1's multi_logloss: 1.06803\n",
      "[173]\tvalid_0's multi_error: 0.426557\tvalid_0's multi_logloss: 1.00488\tvalid_1's multi_error: 0.461586\tvalid_1's multi_logloss: 1.06808\n",
      "[174]\tvalid_0's multi_error: 0.426557\tvalid_0's multi_logloss: 1.0046\tvalid_1's multi_error: 0.461586\tvalid_1's multi_logloss: 1.0681\n",
      "[175]\tvalid_0's multi_error: 0.425628\tvalid_0's multi_logloss: 1.00428\tvalid_1's multi_error: 0.460347\tvalid_1's multi_logloss: 1.06803\n",
      "[176]\tvalid_0's multi_error: 0.425628\tvalid_0's multi_logloss: 1.00403\tvalid_1's multi_error: 0.459727\tvalid_1's multi_logloss: 1.06796\n",
      "[177]\tvalid_0's multi_error: 0.425318\tvalid_0's multi_logloss: 1.00367\tvalid_1's multi_error: 0.459727\tvalid_1's multi_logloss: 1.06789\n",
      "[178]\tvalid_0's multi_error: 0.425008\tvalid_0's multi_logloss: 1.00337\tvalid_1's multi_error: 0.459727\tvalid_1's multi_logloss: 1.06787\n",
      "[179]\tvalid_0's multi_error: 0.424698\tvalid_0's multi_logloss: 1.0031\tvalid_1's multi_error: 0.460347\tvalid_1's multi_logloss: 1.06784\n",
      "[180]\tvalid_0's multi_error: 0.424853\tvalid_0's multi_logloss: 1.00288\tvalid_1's multi_error: 0.459727\tvalid_1's multi_logloss: 1.06779\n",
      "[181]\tvalid_0's multi_error: 0.424078\tvalid_0's multi_logloss: 1.00263\tvalid_1's multi_error: 0.460347\tvalid_1's multi_logloss: 1.06791\n",
      "[182]\tvalid_0's multi_error: 0.424233\tvalid_0's multi_logloss: 1.00244\tvalid_1's multi_error: 0.460347\tvalid_1's multi_logloss: 1.06794\n",
      "[183]\tvalid_0's multi_error: 0.424698\tvalid_0's multi_logloss: 1.00209\tvalid_1's multi_error: 0.460347\tvalid_1's multi_logloss: 1.06811\n",
      "[184]\tvalid_0's multi_error: 0.424853\tvalid_0's multi_logloss: 1.00185\tvalid_1's multi_error: 0.459727\tvalid_1's multi_logloss: 1.06815\n",
      "[185]\tvalid_0's multi_error: 0.424698\tvalid_0's multi_logloss: 1.00163\tvalid_1's multi_error: 0.460347\tvalid_1's multi_logloss: 1.0681\n",
      "[186]\tvalid_0's multi_error: 0.423458\tvalid_0's multi_logloss: 1.00129\tvalid_1's multi_error: 0.459727\tvalid_1's multi_logloss: 1.0679\n",
      "[187]\tvalid_0's multi_error: 0.424078\tvalid_0's multi_logloss: 1.00111\tvalid_1's multi_error: 0.459727\tvalid_1's multi_logloss: 1.06792\n",
      "[188]\tvalid_0's multi_error: 0.423303\tvalid_0's multi_logloss: 1.00076\tvalid_1's multi_error: 0.460967\tvalid_1's multi_logloss: 1.06773\n",
      "[189]\tvalid_0's multi_error: 0.422993\tvalid_0's multi_logloss: 1.00055\tvalid_1's multi_error: 0.459727\tvalid_1's multi_logloss: 1.06769\n",
      "[190]\tvalid_0's multi_error: 0.423303\tvalid_0's multi_logloss: 1.00032\tvalid_1's multi_error: 0.460347\tvalid_1's multi_logloss: 1.06764\n",
      "[191]\tvalid_0's multi_error: 0.423613\tvalid_0's multi_logloss: 1.00011\tvalid_1's multi_error: 0.459108\tvalid_1's multi_logloss: 1.06756\n",
      "[192]\tvalid_0's multi_error: 0.423768\tvalid_0's multi_logloss: 0.999832\tvalid_1's multi_error: 0.459727\tvalid_1's multi_logloss: 1.06748\n",
      "[193]\tvalid_0's multi_error: 0.423768\tvalid_0's multi_logloss: 0.999627\tvalid_1's multi_error: 0.460967\tvalid_1's multi_logloss: 1.06752\n",
      "[194]\tvalid_0's multi_error: 0.423768\tvalid_0's multi_logloss: 0.999379\tvalid_1's multi_error: 0.461586\tvalid_1's multi_logloss: 1.06738\n",
      "[195]\tvalid_0's multi_error: 0.423768\tvalid_0's multi_logloss: 0.999201\tvalid_1's multi_error: 0.461586\tvalid_1's multi_logloss: 1.06737\n",
      "[196]\tvalid_0's multi_error: 0.423303\tvalid_0's multi_logloss: 0.99895\tvalid_1's multi_error: 0.459727\tvalid_1's multi_logloss: 1.06733\n",
      "[197]\tvalid_0's multi_error: 0.422839\tvalid_0's multi_logloss: 0.998739\tvalid_1's multi_error: 0.460967\tvalid_1's multi_logloss: 1.06729\n",
      "[198]\tvalid_0's multi_error: 0.423458\tvalid_0's multi_logloss: 0.998466\tvalid_1's multi_error: 0.461586\tvalid_1's multi_logloss: 1.06726\n",
      "[199]\tvalid_0's multi_error: 0.423303\tvalid_0's multi_logloss: 0.998195\tvalid_1's multi_error: 0.460347\tvalid_1's multi_logloss: 1.06717\n",
      "[200]\tvalid_0's multi_error: 0.423613\tvalid_0's multi_logloss: 0.997932\tvalid_1's multi_error: 0.462206\tvalid_1's multi_logloss: 1.06706\n",
      "[201]\tvalid_0's multi_error: 0.423148\tvalid_0's multi_logloss: 0.997731\tvalid_1's multi_error: 0.462206\tvalid_1's multi_logloss: 1.06707\n",
      "[202]\tvalid_0's multi_error: 0.422839\tvalid_0's multi_logloss: 0.997501\tvalid_1's multi_error: 0.461586\tvalid_1's multi_logloss: 1.06712\n",
      "[203]\tvalid_0's multi_error: 0.422529\tvalid_0's multi_logloss: 0.997255\tvalid_1's multi_error: 0.462206\tvalid_1's multi_logloss: 1.06714\n",
      "[204]\tvalid_0's multi_error: 0.422993\tvalid_0's multi_logloss: 0.99703\tvalid_1's multi_error: 0.462206\tvalid_1's multi_logloss: 1.06718\n",
      "[205]\tvalid_0's multi_error: 0.423923\tvalid_0's multi_logloss: 0.996788\tvalid_1's multi_error: 0.462206\tvalid_1's multi_logloss: 1.06712\n",
      "[206]\tvalid_0's multi_error: 0.423148\tvalid_0's multi_logloss: 0.996552\tvalid_1's multi_error: 0.462206\tvalid_1's multi_logloss: 1.06716\n",
      "[207]\tvalid_0's multi_error: 0.423768\tvalid_0's multi_logloss: 0.996319\tvalid_1's multi_error: 0.460967\tvalid_1's multi_logloss: 1.06707\n",
      "[208]\tvalid_0's multi_error: 0.423923\tvalid_0's multi_logloss: 0.996121\tvalid_1's multi_error: 0.461586\tvalid_1's multi_logloss: 1.06704\n",
      "[209]\tvalid_0's multi_error: 0.423458\tvalid_0's multi_logloss: 0.995832\tvalid_1's multi_error: 0.462825\tvalid_1's multi_logloss: 1.06688\n",
      "[210]\tvalid_0's multi_error: 0.424078\tvalid_0's multi_logloss: 0.995599\tvalid_1's multi_error: 0.464064\tvalid_1's multi_logloss: 1.06692\n",
      "[211]\tvalid_0's multi_error: 0.424388\tvalid_0's multi_logloss: 0.995411\tvalid_1's multi_error: 0.462825\tvalid_1's multi_logloss: 1.06691\n",
      "[212]\tvalid_0's multi_error: 0.423458\tvalid_0's multi_logloss: 0.995112\tvalid_1's multi_error: 0.465304\tvalid_1's multi_logloss: 1.06689\n",
      "[213]\tvalid_0's multi_error: 0.423923\tvalid_0's multi_logloss: 0.994954\tvalid_1's multi_error: 0.464064\tvalid_1's multi_logloss: 1.06688\n",
      "[214]\tvalid_0's multi_error: 0.424078\tvalid_0's multi_logloss: 0.994722\tvalid_1's multi_error: 0.463445\tvalid_1's multi_logloss: 1.06677\n",
      "[215]\tvalid_0's multi_error: 0.424233\tvalid_0's multi_logloss: 0.994497\tvalid_1's multi_error: 0.464684\tvalid_1's multi_logloss: 1.06681\n",
      "[216]\tvalid_0's multi_error: 0.424543\tvalid_0's multi_logloss: 0.994257\tvalid_1's multi_error: 0.463445\tvalid_1's multi_logloss: 1.0667\n",
      "[217]\tvalid_0's multi_error: 0.425008\tvalid_0's multi_logloss: 0.994045\tvalid_1's multi_error: 0.464064\tvalid_1's multi_logloss: 1.06669\n",
      "[218]\tvalid_0's multi_error: 0.424853\tvalid_0's multi_logloss: 0.99384\tvalid_1's multi_error: 0.464064\tvalid_1's multi_logloss: 1.06665\n",
      "[219]\tvalid_0's multi_error: 0.424543\tvalid_0's multi_logloss: 0.993665\tvalid_1's multi_error: 0.465923\tvalid_1's multi_logloss: 1.06656\n",
      "[220]\tvalid_0's multi_error: 0.424543\tvalid_0's multi_logloss: 0.993478\tvalid_1's multi_error: 0.465923\tvalid_1's multi_logloss: 1.0666\n",
      "Early stopping,best iteration is:\n",
      "[120] defaultdict(<class 'collections.OrderedDict'>, {'valid_0': OrderedDict([('multi_error', 0.43306476603656646), ('multi_logloss', 1.0226168541072664)]), 'valid_1': OrderedDict([('multi_error', 0.4566294919454771), ('multi_logloss', 1.0702265850344546)])})\n",
      "Eval ACC: 0.5433705080545229\n",
      "              precision    recall  f1-score   support\n",
      "\n",
      "           0       0.47      0.51      0.49       394\n",
      "           1       0.47      0.32      0.38       372\n",
      "           2       0.57      0.58      0.58       394\n",
      "           3       0.62      0.72      0.67       454\n",
      "\n",
      "    accuracy                           0.54      1614\n",
      "   macro avg       0.53      0.53      0.53      1614\n",
      "weighted avg       0.54      0.54      0.54      1614\n",
      "\n"
     ]
    }
   ],
   "source": [
    "#**Which algorithms did you use? (You need to compare at least two algorithms); \n",
    "#Comparison was applied with the usage of cross-validation at the bottom of this file(on further steps).We used 'LGBMClassifier'\n",
    "#and 'RandomForestClassifier' for the ML algorithms.\n",
    "\n",
    "clf = lgb.LGBMClassifier(**params)\n",
    "clf.fit(df_train[feature_cols], df_train[label_col], early_stopping_rounds=100, eval_set=[(df_train[feature_cols], \n",
    "df_train[label_col]), (df_eval[feature_cols], df_eval[label_col])], eval_metric='multi_error', verbose=True, \n",
    "categorical_feature=cat_cols)\n",
    "\n",
    "print('Early stopping,best iteration is:')\n",
    "print('['+ str(clf.best_iteration_)+']'+' '+str(clf.best_score_))\n",
    "\n",
    "eval_score = accuracy_score(df_eval[label_col], clf.predict(df_eval[feature_cols]))\n",
    "creport = classification_report(df_eval[label_col], clf.predict(df_eval[feature_cols]))\n",
    "print('Eval ACC: {}'.format(eval_score))\n",
    "print(creport) #To show that LGBM classifier gives better results than RandomForestClassifier for the other evaluation metrics\n",
    "#too,as accuracy_score with the usage of classification report!"
   ]
  },
  {
   "cell_type": "code",
   "execution_count": null,
   "id": "ff492380",
   "metadata": {},
   "outputs": [],
   "source": [
    "#****Pre-Process to find the corresponding labels for unseen datas in the following steps with the usage of \n",
    "#'LGBMClassifier'/'Gradient-boosted decision trees';"
   ]
  },
  {
   "cell_type": "code",
   "execution_count": 96,
   "id": "16c73bb5",
   "metadata": {},
   "outputs": [],
   "source": [
    "test=df[df['isTrain']==0]\n",
    "train=df[df['isTrain']==1]"
   ]
  },
  {
   "cell_type": "code",
   "execution_count": 97,
   "id": "1d2232ec",
   "metadata": {},
   "outputs": [],
   "source": [
    "#We used train data for the overlapping IDs since there is a huge overlap between train and datasets;(left join)\n",
    "#it will merge the overlapped test datas and train datas as a pair of ID,Segmentation with filled values but if the test value\n",
    "#is not overlapping with the train value, then the 'Segmentation' column/attribute will be NaN;\n",
    "sub=pd.merge(left=test['ID'],right=train[['ID','Segmentation']],how='left',on='ID')"
   ]
  },
  {
   "cell_type": "code",
   "execution_count": 98,
   "id": "2356f8a1",
   "metadata": {},
   "outputs": [],
   "source": [
    "#We found the unseen/new test values which were not overlap with train datas and unique;\n",
    "actual_test=(test[test['ID'].isin(train['ID'])==False])"
   ]
  },
  {
   "cell_type": "code",
   "execution_count": 99,
   "id": "d3d7b38f",
   "metadata": {},
   "outputs": [],
   "source": [
    "#We applied the prediction with the usage of 'LGBMClassifier' algorithm since it is reliable according to the found accuracy\n",
    "#value on train dataset at the earlier steps;\n",
    "pred=clf.predict(actual_test[feature_cols])\n",
    "#pred(it returns the 'Segmentation'(label) as integer since we applied normalization for this attribute before)"
   ]
  },
  {
   "cell_type": "code",
   "execution_count": 100,
   "id": "816191c5",
   "metadata": {},
   "outputs": [],
   "source": [
    "#we take the initial values of 'Segmentation' (as 'A','B','C','D') with the usage of inverse_transform since it was normalized\n",
    "#as integer at the earlier steps;\n",
    "pred=le.inverse_transform(pred)\n",
    "actual_test['Segmentation']=pred #we add 'Segmentation' column to actual_test(unseen values) with it's actual values."
   ]
  },
  {
   "cell_type": "code",
   "execution_count": 101,
   "id": "f995f525",
   "metadata": {},
   "outputs": [],
   "source": [
    "#Since the test values also filled when the actual_test datas are filled,the merge of test and train datasets(sub) will not have\n",
    "#NaN Segmentation value anymore;\n",
    "l=actual_test[['ID','Segmentation']] #unseen datas/had NaN Segmentation values\n",
    "r=sub[sub['Segmentation'].isnull()==False] #(seen datas before)/had not NaN Segmentation values\n",
    "fr=[l,r]\n",
    "sub=pd.concat(fr)"
   ]
  },
  {
   "cell_type": "code",
   "execution_count": 102,
   "id": "797e90bb",
   "metadata": {},
   "outputs": [
    {
     "name": "stdout",
     "output_type": "stream",
     "text": [
      "          ID Segmentation\n",
      "6     459005            A\n",
      "19    459045            C\n",
      "32    459090            A\n",
      "38    459116            C\n",
      "43    459121            C\n",
      "...      ...          ...\n",
      "2620  467949            D\n",
      "2621  467950            D\n",
      "2622  467954            D\n",
      "2623  467958            A\n",
      "2625  467961            B\n",
      "\n",
      "[2627 rows x 2 columns]\n"
     ]
    }
   ],
   "source": [
    "# We calculated the actual(unseen/unique) test values above and since there is no remaining NaN values for 'Segmentation' column \n",
    "#anymore for 'test' dataset, the whole 'test' dataset can be shown as below with the assigned 'Segmentation' values (Exported as\n",
    "# '.csv' Excel file);\n",
    "sub[['ID','Segmentation']].to_csv('final.csv',index = False)\n",
    "print(sub)"
   ]
  },
  {
   "cell_type": "code",
   "execution_count": 227,
   "id": "d69c1c4b",
   "metadata": {},
   "outputs": [],
   "source": [
    "#-----------------------------Second Algorithm (RandomForestClassifier)-------------------"
   ]
  },
  {
   "cell_type": "code",
   "execution_count": 104,
   "id": "a2a280c7",
   "metadata": {},
   "outputs": [
    {
     "data": {
      "text/html": [
       "<div>\n",
       "<style scoped>\n",
       "    .dataframe tbody tr th:only-of-type {\n",
       "        vertical-align: middle;\n",
       "    }\n",
       "\n",
       "    .dataframe tbody tr th {\n",
       "        vertical-align: top;\n",
       "    }\n",
       "\n",
       "    .dataframe thead th {\n",
       "        text-align: right;\n",
       "    }\n",
       "</style>\n",
       "<table border=\"1\" class=\"dataframe\">\n",
       "  <thead>\n",
       "    <tr style=\"text-align: right;\">\n",
       "      <th></th>\n",
       "      <th>ID</th>\n",
       "      <th>Age</th>\n",
       "      <th>Work_Experience</th>\n",
       "      <th>Family_Size</th>\n",
       "      <th>Segmentation</th>\n",
       "      <th>Gender_Female</th>\n",
       "      <th>Gender_Male</th>\n",
       "      <th>Ever_Married_No</th>\n",
       "      <th>Ever_Married_Yes</th>\n",
       "      <th>Graduated_No</th>\n",
       "      <th>...</th>\n",
       "      <th>Spending_Score_Average</th>\n",
       "      <th>Spending_Score_High</th>\n",
       "      <th>Spending_Score_Low</th>\n",
       "      <th>Var_1_Cat_1</th>\n",
       "      <th>Var_1_Cat_2</th>\n",
       "      <th>Var_1_Cat_3</th>\n",
       "      <th>Var_1_Cat_4</th>\n",
       "      <th>Var_1_Cat_5</th>\n",
       "      <th>Var_1_Cat_6</th>\n",
       "      <th>Var_1_Cat_7</th>\n",
       "    </tr>\n",
       "  </thead>\n",
       "  <tbody>\n",
       "    <tr>\n",
       "      <th>0</th>\n",
       "      <td>462809</td>\n",
       "      <td>0.056338</td>\n",
       "      <td>0.071429</td>\n",
       "      <td>0.375</td>\n",
       "      <td>D</td>\n",
       "      <td>0</td>\n",
       "      <td>1</td>\n",
       "      <td>1</td>\n",
       "      <td>0</td>\n",
       "      <td>1</td>\n",
       "      <td>...</td>\n",
       "      <td>0</td>\n",
       "      <td>0</td>\n",
       "      <td>1</td>\n",
       "      <td>0</td>\n",
       "      <td>0</td>\n",
       "      <td>0</td>\n",
       "      <td>1</td>\n",
       "      <td>0</td>\n",
       "      <td>0</td>\n",
       "      <td>0</td>\n",
       "    </tr>\n",
       "    <tr>\n",
       "      <th>1</th>\n",
       "      <td>462643</td>\n",
       "      <td>0.281690</td>\n",
       "      <td>0.188690</td>\n",
       "      <td>0.250</td>\n",
       "      <td>A</td>\n",
       "      <td>1</td>\n",
       "      <td>0</td>\n",
       "      <td>0</td>\n",
       "      <td>1</td>\n",
       "      <td>0</td>\n",
       "      <td>...</td>\n",
       "      <td>1</td>\n",
       "      <td>0</td>\n",
       "      <td>0</td>\n",
       "      <td>0</td>\n",
       "      <td>0</td>\n",
       "      <td>0</td>\n",
       "      <td>1</td>\n",
       "      <td>0</td>\n",
       "      <td>0</td>\n",
       "      <td>0</td>\n",
       "    </tr>\n",
       "    <tr>\n",
       "      <th>2</th>\n",
       "      <td>466315</td>\n",
       "      <td>0.690141</td>\n",
       "      <td>0.071429</td>\n",
       "      <td>0.000</td>\n",
       "      <td>B</td>\n",
       "      <td>1</td>\n",
       "      <td>0</td>\n",
       "      <td>0</td>\n",
       "      <td>1</td>\n",
       "      <td>0</td>\n",
       "      <td>...</td>\n",
       "      <td>0</td>\n",
       "      <td>0</td>\n",
       "      <td>1</td>\n",
       "      <td>0</td>\n",
       "      <td>0</td>\n",
       "      <td>0</td>\n",
       "      <td>0</td>\n",
       "      <td>0</td>\n",
       "      <td>1</td>\n",
       "      <td>0</td>\n",
       "    </tr>\n",
       "    <tr>\n",
       "      <th>3</th>\n",
       "      <td>461735</td>\n",
       "      <td>0.690141</td>\n",
       "      <td>0.000000</td>\n",
       "      <td>0.125</td>\n",
       "      <td>B</td>\n",
       "      <td>0</td>\n",
       "      <td>1</td>\n",
       "      <td>0</td>\n",
       "      <td>1</td>\n",
       "      <td>0</td>\n",
       "      <td>...</td>\n",
       "      <td>0</td>\n",
       "      <td>1</td>\n",
       "      <td>0</td>\n",
       "      <td>0</td>\n",
       "      <td>0</td>\n",
       "      <td>0</td>\n",
       "      <td>0</td>\n",
       "      <td>0</td>\n",
       "      <td>1</td>\n",
       "      <td>0</td>\n",
       "    </tr>\n",
       "    <tr>\n",
       "      <th>4</th>\n",
       "      <td>462669</td>\n",
       "      <td>0.309859</td>\n",
       "      <td>0.188690</td>\n",
       "      <td>0.625</td>\n",
       "      <td>A</td>\n",
       "      <td>1</td>\n",
       "      <td>0</td>\n",
       "      <td>0</td>\n",
       "      <td>1</td>\n",
       "      <td>0</td>\n",
       "      <td>...</td>\n",
       "      <td>0</td>\n",
       "      <td>1</td>\n",
       "      <td>0</td>\n",
       "      <td>0</td>\n",
       "      <td>0</td>\n",
       "      <td>0</td>\n",
       "      <td>0</td>\n",
       "      <td>0</td>\n",
       "      <td>1</td>\n",
       "      <td>0</td>\n",
       "    </tr>\n",
       "    <tr>\n",
       "      <th>...</th>\n",
       "      <td>...</td>\n",
       "      <td>...</td>\n",
       "      <td>...</td>\n",
       "      <td>...</td>\n",
       "      <td>...</td>\n",
       "      <td>...</td>\n",
       "      <td>...</td>\n",
       "      <td>...</td>\n",
       "      <td>...</td>\n",
       "      <td>...</td>\n",
       "      <td>...</td>\n",
       "      <td>...</td>\n",
       "      <td>...</td>\n",
       "      <td>...</td>\n",
       "      <td>...</td>\n",
       "      <td>...</td>\n",
       "      <td>...</td>\n",
       "      <td>...</td>\n",
       "      <td>...</td>\n",
       "      <td>...</td>\n",
       "      <td>...</td>\n",
       "    </tr>\n",
       "    <tr>\n",
       "      <th>8063</th>\n",
       "      <td>464018</td>\n",
       "      <td>0.056338</td>\n",
       "      <td>0.000000</td>\n",
       "      <td>0.750</td>\n",
       "      <td>D</td>\n",
       "      <td>0</td>\n",
       "      <td>1</td>\n",
       "      <td>1</td>\n",
       "      <td>0</td>\n",
       "      <td>1</td>\n",
       "      <td>...</td>\n",
       "      <td>0</td>\n",
       "      <td>0</td>\n",
       "      <td>1</td>\n",
       "      <td>1</td>\n",
       "      <td>0</td>\n",
       "      <td>0</td>\n",
       "      <td>0</td>\n",
       "      <td>0</td>\n",
       "      <td>0</td>\n",
       "      <td>0</td>\n",
       "    </tr>\n",
       "    <tr>\n",
       "      <th>8064</th>\n",
       "      <td>464685</td>\n",
       "      <td>0.239437</td>\n",
       "      <td>0.214286</td>\n",
       "      <td>0.375</td>\n",
       "      <td>D</td>\n",
       "      <td>0</td>\n",
       "      <td>1</td>\n",
       "      <td>1</td>\n",
       "      <td>0</td>\n",
       "      <td>1</td>\n",
       "      <td>...</td>\n",
       "      <td>0</td>\n",
       "      <td>0</td>\n",
       "      <td>1</td>\n",
       "      <td>0</td>\n",
       "      <td>0</td>\n",
       "      <td>0</td>\n",
       "      <td>1</td>\n",
       "      <td>0</td>\n",
       "      <td>0</td>\n",
       "      <td>0</td>\n",
       "    </tr>\n",
       "    <tr>\n",
       "      <th>8065</th>\n",
       "      <td>465406</td>\n",
       "      <td>0.211268</td>\n",
       "      <td>0.071429</td>\n",
       "      <td>0.000</td>\n",
       "      <td>D</td>\n",
       "      <td>1</td>\n",
       "      <td>0</td>\n",
       "      <td>1</td>\n",
       "      <td>0</td>\n",
       "      <td>0</td>\n",
       "      <td>...</td>\n",
       "      <td>0</td>\n",
       "      <td>0</td>\n",
       "      <td>1</td>\n",
       "      <td>0</td>\n",
       "      <td>0</td>\n",
       "      <td>0</td>\n",
       "      <td>0</td>\n",
       "      <td>0</td>\n",
       "      <td>1</td>\n",
       "      <td>0</td>\n",
       "    </tr>\n",
       "    <tr>\n",
       "      <th>8066</th>\n",
       "      <td>467299</td>\n",
       "      <td>0.126761</td>\n",
       "      <td>0.071429</td>\n",
       "      <td>0.375</td>\n",
       "      <td>B</td>\n",
       "      <td>1</td>\n",
       "      <td>0</td>\n",
       "      <td>1</td>\n",
       "      <td>0</td>\n",
       "      <td>0</td>\n",
       "      <td>...</td>\n",
       "      <td>0</td>\n",
       "      <td>0</td>\n",
       "      <td>1</td>\n",
       "      <td>0</td>\n",
       "      <td>0</td>\n",
       "      <td>0</td>\n",
       "      <td>0</td>\n",
       "      <td>0</td>\n",
       "      <td>1</td>\n",
       "      <td>0</td>\n",
       "    </tr>\n",
       "    <tr>\n",
       "      <th>8067</th>\n",
       "      <td>461879</td>\n",
       "      <td>0.267606</td>\n",
       "      <td>0.000000</td>\n",
       "      <td>0.250</td>\n",
       "      <td>B</td>\n",
       "      <td>0</td>\n",
       "      <td>1</td>\n",
       "      <td>0</td>\n",
       "      <td>1</td>\n",
       "      <td>0</td>\n",
       "      <td>...</td>\n",
       "      <td>1</td>\n",
       "      <td>0</td>\n",
       "      <td>0</td>\n",
       "      <td>0</td>\n",
       "      <td>0</td>\n",
       "      <td>0</td>\n",
       "      <td>1</td>\n",
       "      <td>0</td>\n",
       "      <td>0</td>\n",
       "      <td>0</td>\n",
       "    </tr>\n",
       "  </tbody>\n",
       "</table>\n",
       "<p>8068 rows × 31 columns</p>\n",
       "</div>"
      ],
      "text/plain": [
       "          ID       Age  Work_Experience  Family_Size Segmentation  \\\n",
       "0     462809  0.056338         0.071429        0.375            D   \n",
       "1     462643  0.281690         0.188690        0.250            A   \n",
       "2     466315  0.690141         0.071429        0.000            B   \n",
       "3     461735  0.690141         0.000000        0.125            B   \n",
       "4     462669  0.309859         0.188690        0.625            A   \n",
       "...      ...       ...              ...          ...          ...   \n",
       "8063  464018  0.056338         0.000000        0.750            D   \n",
       "8064  464685  0.239437         0.214286        0.375            D   \n",
       "8065  465406  0.211268         0.071429        0.000            D   \n",
       "8066  467299  0.126761         0.071429        0.375            B   \n",
       "8067  461879  0.267606         0.000000        0.250            B   \n",
       "\n",
       "      Gender_Female  Gender_Male  Ever_Married_No  Ever_Married_Yes  \\\n",
       "0                 0            1                1                 0   \n",
       "1                 1            0                0                 1   \n",
       "2                 1            0                0                 1   \n",
       "3                 0            1                0                 1   \n",
       "4                 1            0                0                 1   \n",
       "...             ...          ...              ...               ...   \n",
       "8063              0            1                1                 0   \n",
       "8064              0            1                1                 0   \n",
       "8065              1            0                1                 0   \n",
       "8066              1            0                1                 0   \n",
       "8067              0            1                0                 1   \n",
       "\n",
       "      Graduated_No  ...  Spending_Score_Average  Spending_Score_High  \\\n",
       "0                1  ...                       0                    0   \n",
       "1                0  ...                       1                    0   \n",
       "2                0  ...                       0                    0   \n",
       "3                0  ...                       0                    1   \n",
       "4                0  ...                       0                    1   \n",
       "...            ...  ...                     ...                  ...   \n",
       "8063             1  ...                       0                    0   \n",
       "8064             1  ...                       0                    0   \n",
       "8065             0  ...                       0                    0   \n",
       "8066             0  ...                       0                    0   \n",
       "8067             0  ...                       1                    0   \n",
       "\n",
       "      Spending_Score_Low  Var_1_Cat_1  Var_1_Cat_2  Var_1_Cat_3  Var_1_Cat_4  \\\n",
       "0                      1            0            0            0            1   \n",
       "1                      0            0            0            0            1   \n",
       "2                      1            0            0            0            0   \n",
       "3                      0            0            0            0            0   \n",
       "4                      0            0            0            0            0   \n",
       "...                  ...          ...          ...          ...          ...   \n",
       "8063                   1            1            0            0            0   \n",
       "8064                   1            0            0            0            1   \n",
       "8065                   1            0            0            0            0   \n",
       "8066                   1            0            0            0            0   \n",
       "8067                   0            0            0            0            1   \n",
       "\n",
       "      Var_1_Cat_5  Var_1_Cat_6  Var_1_Cat_7  \n",
       "0               0            0            0  \n",
       "1               0            0            0  \n",
       "2               0            1            0  \n",
       "3               0            1            0  \n",
       "4               0            1            0  \n",
       "...           ...          ...          ...  \n",
       "8063            0            0            0  \n",
       "8064            0            0            0  \n",
       "8065            0            1            0  \n",
       "8066            0            1            0  \n",
       "8067            0            0            0  \n",
       "\n",
       "[8068 rows x 31 columns]"
      ]
     },
     "execution_count": 104,
     "metadata": {},
     "output_type": "execute_result"
    }
   ],
   "source": [
    "##Creating Dummy Variables;\n",
    "from sklearn import preprocessing\n",
    "\n",
    "##fill the NaN values at first;\n",
    "train = pd.read_csv(r\"C:/ProjectforPython/train.csv\")\n",
    "df_copy=train.copy()\n",
    "df_copy['Ever_Married']=df_copy['Ever_Married'].fillna('Yes')\n",
    "df_copy['Graduated']=df_copy['Graduated'].fillna('Yes')\n",
    "df_copy['Profession'].fillna('Unknown',inplace=True)\n",
    "df_copy['Profession']=df_copy['Profession'].astype('str')\n",
    "df_copy['Work_Experience'].fillna(df_copy['Work_Experience'].mean(),inplace=True)\n",
    "df_copy['Family_Size']=df_copy['Family_Size'].fillna(value=df_copy['Family_Size'].mean())\n",
    "\n",
    "#*#We applied Min-Max Normalization here via applying manual formula of it and it provides to handle with outliers of numerical \n",
    "#attributes as can be seen below!;\n",
    "df_copy['Age'] = (df_copy['Age'] - df_copy['Age'].min(axis=0)) / (df_copy['Age'].max(axis=0) - df_copy['Age'].min(axis=0))\n",
    "df_copy['Work_Experience']=df_copy['Work_Experience'].fillna(value=df_copy['Work_Experience'].mean())\n",
    "df_copy['Work_Experience']=(df_copy['Work_Experience'] - df_copy['Work_Experience'].min(axis=0)) / (df_copy['Work_Experience'].max(axis=0) - df_copy['Work_Experience'].min(axis=0))\n",
    "\n",
    "df_copy['Family_Size']=df_copy['Family_Size'].fillna(value=df_copy['Family_Size'].mean())\n",
    "df_copy['Family_Size']=(df_copy['Family_Size'] - df_copy['Family_Size'].min(axis=0)) / (df_copy['Family_Size'].max(axis=0)- df_copy['Family_Size'].min(axis=0))\n",
    "\n",
    "cat = ['Gender', 'Ever_Married', 'Graduated', 'Profession', 'Spending_Score', 'Var_1']\n",
    "df_dummies = pd.get_dummies(df_copy,columns=cat)\n",
    "df_dummies"
   ]
  },
  {
   "cell_type": "code",
   "execution_count": 105,
   "id": "b3f53ad8",
   "metadata": {},
   "outputs": [],
   "source": [
    "#Using Label encoder to encode Segmentation column(normalization of 'Segmentation')\n",
    "from sklearn import preprocessing\n",
    "le = preprocessing.LabelEncoder()\n",
    "df_dummies['Segmentation'] = le.fit_transform(df_dummies['Segmentation'])"
   ]
  },
  {
   "cell_type": "code",
   "execution_count": 106,
   "id": "778c2136",
   "metadata": {},
   "outputs": [
    {
     "data": {
      "image/png": "[encoded data removed]",
      "text/plain": [
       "<Figure size 1080x360 with 2 Axes>"
      ]
     },
     "metadata": {},
     "output_type": "display_data"
    }
   ],
   "source": [
    "#Visualization-pre-normalization and post-normalization situation for 'Segmentation' attribute;\n",
    "plt.figure(figsize = (15,5))\n",
    "plt.subplot(1,2,1)\n",
    "train['Segmentation'].value_counts().plot(kind = 'bar')\n",
    "plt.subplot(1,2,2)\n",
    "df_dummies['Segmentation'].value_counts().plot(kind = 'bar')\n",
    "plt.show()"
   ]
  },
  {
   "cell_type": "code",
   "execution_count": 107,
   "id": "45244a1d",
   "metadata": {},
   "outputs": [],
   "source": [
    "#Divide the data into train and test set;\n",
    "from sklearn.model_selection import train_test_split\n",
    "X = df_dummies.drop(['Segmentation','ID'],axis = 1)\n",
    "y = df_dummies['Segmentation'] #label\n",
    "X_train,X_test,y_train,y_test = train_test_split(X,y,random_state=42,test_size=0.20)"
   ]
  },
  {
   "cell_type": "code",
   "execution_count": 108,
   "id": "97268bd9",
   "metadata": {},
   "outputs": [
    {
     "name": "stdout",
     "output_type": "stream",
     "text": [
      "Tuned hyperparameter k: {'criterion': 'entropy', 'max_depth': 8, 'max_features': 'auto', 'n_estimators': 340}\n"
     ]
    }
   ],
   "source": [
    "#*****------Parameter Choosing 2-For RandomForestClassifier;(GridSearchCV)\n",
    "#Hyperparameter Selection-Random Forest(GridSearchCV),we applied this method/model to use the RandomForestClassifier algorithm\n",
    "#more efficiently via obtaining the best parameter values among the given param_grid values. We used this parameter values \n",
    "#for the RandomForestClassifier on the following steps;\n",
    "\n",
    "from sklearn.model_selection import train_test_split\n",
    "from sklearn.ensemble import RandomForestClassifier\n",
    "\n",
    "# grid search cross validation with hyperparameters;\n",
    "from sklearn.model_selection import GridSearchCV\n",
    "\n",
    "rf = RandomForestClassifier(random_state=42)\n",
    "param_grid = {'n_estimators':[100,340],\n",
    "              'max_features': ['auto', 'sqrt', 'log2'],\n",
    "              'max_depth' : [4,5,6,7,8],\n",
    "              'criterion' :['gini', 'entropy']}\n",
    " \n",
    "rf_cv = GridSearchCV(rf, param_grid, cv=5) # GridSearchCV\n",
    "rf_cv.fit(X_train,y_train)# Fit\n",
    "\n",
    "# Print hyperparameter\n",
    "print(\"Tuned hyperparameter k: {}\".format(rf_cv.best_params_)) \n",
    "#print(\"Best score: {}\".format(rf_cv.best_score_))"
   ]
  },
  {
   "cell_type": "code",
   "execution_count": 109,
   "id": "ea2c112e",
   "metadata": {},
   "outputs": [
    {
     "name": "stdout",
     "output_type": "stream",
     "text": [
      "The accuracy score for Random Forest is 53.1\n",
      "              precision    recall  f1-score   support\n",
      "\n",
      "           0       0.43      0.44      0.43       391\n",
      "           1       0.43      0.32      0.36       369\n",
      "           2       0.53      0.57      0.55       380\n",
      "           3       0.67      0.74      0.70       474\n",
      "\n",
      "    accuracy                           0.53      1614\n",
      "   macro avg       0.51      0.52      0.51      1614\n",
      "weighted avg       0.52      0.53      0.52      1614\n",
      "\n",
      "[[172  71  60  88]\n",
      " [ 91 117 122  39]\n",
      " [ 48  66 218  48]\n",
      " [ 91  21  12 350]]\n"
     ]
    }
   ],
   "source": [
    "# RandomForestClassifierwithout \"SelectFromModel\" usage(without Feature Selection)\n",
    "\n",
    "from sklearn.ensemble import RandomForestClassifier\n",
    "from sklearn.metrics import confusion_matrix, classification_report\n",
    "rf1 = RandomForestClassifier(n_estimators=340,max_depth=8,random_state=42,max_features='auto',\n",
    "                            criterion='gini') #Since the 'gini' option gives better accuracy,we considered that instead of\n",
    "                                             #'entropy', even though we obtained 'entropy' for criterion on the \n",
    "                                             #Parameter Choosing part.\n",
    "        \n",
    "rf1.fit(X_train,y_train) #Train the classifier (fit the estimator) using the training data\n",
    "y_pred_rf = rf1.predict(X_test) \n",
    "#it compares the prediction with the y_test value to find accuracy of the algorithm.\n",
    "print(f\"The accuracy score for Random Forest is {(accuracy_score(y_test,y_pred_rf)*100).round(2)}\")\n",
    "print(classification_report(y_test,y_pred_rf))\n",
    "print(confusion_matrix(y_test,y_pred_rf))"
   ]
  },
  {
   "cell_type": "code",
   "execution_count": 110,
   "id": "ea175d1d",
   "metadata": {},
   "outputs": [
    {
     "name": "stdout",
     "output_type": "stream",
     "text": [
      "Selected features: Index(['Age', 'Work_Experience', 'Family_Size', 'Ever_Married_No',\n",
      "       'Ever_Married_Yes', 'Graduated_No', 'Graduated_Yes',\n",
      "       'Profession_Artist', 'Profession_Healthcare', 'Spending_Score_Average',\n",
      "       'Spending_Score_Low'],\n",
      "      dtype='object')\n"
     ]
    }
   ],
   "source": [
    "##***---------'Feature Selection' for RandomForestClassifier(with the usage of \"SelectFromModel\");\n",
    "#\"SelectFromModel\" object from sklearn is used to automatically select the features,will select those features which importance\n",
    "#is greater than the mean importance of all the features by default;\n",
    "\n",
    "from sklearn.ensemble import RandomForestClassifier\n",
    "from sklearn.feature_selection import SelectFromModel\n",
    "# In all feature selection procedures, it is a good practice to select the features by examining only the training set.This is\n",
    "#to avoid overfitting;\n",
    "\n",
    "rf = SelectFromModel(RandomForestClassifier(n_estimators=340,max_depth=8,random_state=42,max_features='auto',\n",
    "                            criterion='gini'))\n",
    "rf.fit(X_train, y_train) #Train the classifier (fit the estimator) using the training data \n",
    "selected_feat= X_train.columns[(rf.get_support())]\n",
    "print(\"Selected features:\",selected_feat)"
   ]
  },
  {
   "cell_type": "code",
   "execution_count": 111,
   "id": "de7856ab",
   "metadata": {
    "scrolled": true
   },
   "outputs": [
    {
     "name": "stdout",
     "output_type": "stream",
     "text": [
      "The accuracy score for Random Forest is 50.56\n",
      "              precision    recall  f1-score   support\n",
      "\n",
      "           0       0.40      0.46      0.43       391\n",
      "           1       0.40      0.30      0.34       369\n",
      "           2       0.54      0.51      0.53       380\n",
      "           3       0.62      0.70      0.66       474\n",
      "\n",
      "    accuracy                           0.51      1614\n",
      "   macro avg       0.49      0.49      0.49      1614\n",
      "weighted avg       0.50      0.51      0.50      1614\n",
      "\n",
      "[[179  62  43 107]\n",
      " [102 109 108  50]\n",
      " [ 64  75 195  46]\n",
      " [101  25  15 333]]\n"
     ]
    }
   ],
   "source": [
    "# Comparison for RandomForestClassifier between the one which use Feature Selection and the one which doesn't(To Check Whether\n",
    "#Feature Selection Affects Performance Or Not). To see that, the selected features are included and the other features are\n",
    "#dropped as can be seen below;\n",
    "\n",
    "#***We got decreased/less results for accuracy_score,precision,recall and f1-score evaluation metrics here according to the \n",
    "#comparison with the above code via observation on class_report and classification_matrix for both code structures. \n",
    "\n",
    "#However,Feature Selection usage might give efficient and better results for complexity,elapsed time for training,reducing\n",
    "#overfitting,etc. for the prediction of unseen datas even though it gives less results for this training data. \n",
    "\n",
    "#For now, we choose the first situation for features which takes every features into consideration except 'Segmentation' and 'ID' \n",
    "#via dropping them(since the Segmentation is a label and the ID is identifier). \n",
    "#So that, for our final model, we use every features of the training dataset except 'Segmentation' and 'ID' features/attributes.\n",
    "\n",
    "train = pd.read_csv(r\"C:/ProjectforPython/train.csv\")\n",
    "df_copy=train.copy()\n",
    "df_copy['Ever_Married']=df_copy['Ever_Married'].fillna('Yes')\n",
    "df_copy['Graduated']=df_copy['Graduated'].fillna('Yes')\n",
    "df_copy['Profession'].fillna('Unknown',inplace=True)\n",
    "df_copy['Profession']=df_copy['Profession'].astype('str')\n",
    "df_copy['Work_Experience'].fillna(df_copy['Work_Experience'].mean(),inplace=True)\n",
    "df_copy['Family_Size']=df_copy['Family_Size'].fillna(value=df_copy['Family_Size'].mean())\n",
    "\n",
    "#'Min-Max Normalization';\n",
    "df_copy['Age'] = (df_copy['Age'] - df_copy['Age'].min(axis=0)) / (df_copy['Age'].max(axis=0) - df_copy['Age'].min(axis=0))\n",
    "df_copy['Work_Experience']=df_copy['Work_Experience'].fillna(value=df_copy['Work_Experience'].mean())\n",
    "df_copy['Work_Experience']=(df_copy['Work_Experience'] - df_copy['Work_Experience'].min(axis=0)) / (df_copy['Work_Experience'].max(axis=0)\n",
    "                      - df_copy['Work_Experience'].min(axis=0))\n",
    "\n",
    "df_copy['Family_Size']=df_copy['Family_Size'].fillna(value=df_copy['Family_Size'].mean())\n",
    "df_copy['Family_Size']=(df_copy['Family_Size'] - df_copy['Family_Size'].min(axis=0)) / (df_copy['Family_Size'].max(axis=0) \n",
    "                   - df_copy['Family_Size'].min(axis=0))\n",
    "\n",
    "\n",
    "cat = ['Gender', 'Ever_Married', 'Graduated', 'Profession', 'Spending_Score', 'Var_1']\n",
    "df_dummies = pd.get_dummies(df_copy,columns=cat)\n",
    "\n",
    "from sklearn import preprocessing\n",
    "le = preprocessing.LabelEncoder()\n",
    "df_dummies['Segmentation'] = le.fit_transform(df_dummies['Segmentation'])\n",
    "\n",
    "#Divide the data into train and test set with the selected features;\n",
    "from sklearn.model_selection import train_test_split\n",
    "X = df_dummies.drop(['Segmentation','ID','Profession_Unknown','Var_1_Cat_5','Var_1_Cat_1','Var_1_Cat_7','Var_1_Cat_3',\n",
    "                'Profession_Executive','Var_1_Cat_2','Profession_Doctor','Profession_Lawyer','Profession_Homemaker',\n",
    "                'Gender_Male','Gender_Female','Work_Experience','Profession_Entertainment','Var_1_Cat_6','Profession_Engineer',\n",
    "                'Profession_Marketing','Spending_Score_High','Var_1_Cat_4','Family_Size'],axis = 1) #drops the column(axis=1)\n",
    "\n",
    "y = df_dummies['Segmentation'] #label\n",
    "X_train,X_test,y_train,y_test = train_test_split(X,y,random_state=42,test_size=0.20)\n",
    "\n",
    "\n",
    "from sklearn.ensemble import RandomForestClassifier\n",
    "rf2 = RandomForestClassifier(n_estimators=340,max_depth=8,random_state=42,max_features='auto',\n",
    "                            criterion='gini') #The number of trees in the forest=n_estimators.\n",
    "rf2.fit(X_train,y_train) #Train the classifier (fit the estimator) using the training data.\n",
    "\n",
    "y_pred_rf = rf2.predict(X_test) \n",
    "print(f\"The accuracy score for Random Forest is {(accuracy_score(y_test,y_pred_rf)*100).round(2)}\")\n",
    "print(classification_report(y_test,y_pred_rf))\n",
    "print(confusion_matrix(y_test,y_pred_rf))"
   ]
  },
  {
   "cell_type": "code",
   "execution_count": null,
   "id": "18f9fcad",
   "metadata": {},
   "outputs": [],
   "source": [
    "#Visualization for to the used RandomForestClassifier;\n",
    "#Plotting the first decision tree (accessed by index 0) in the used Random Forest Model using plot_tree;\n",
    "import matplotlib.pyplot as plt\n",
    "from sklearn.tree import plot_tree\n",
    "\n",
    "fig, axes = plt.subplots(nrows = 1,ncols = 1,figsize = (4,4), dpi=800)\n",
    "plot_tree(rf1.estimators_[0], filled=True, impurity=True,rounded=True)\n",
    "fig.savefig('figure_name.png') #The figure can be saved as a PNG file by running;"
   ]
  },
  {
   "cell_type": "code",
   "execution_count": null,
   "id": "5052d986",
   "metadata": {},
   "outputs": [],
   "source": [
    "#Comparison of Algorithms Numerically;"
   ]
  },
  {
   "cell_type": "code",
   "execution_count": 113,
   "id": "01f70fae",
   "metadata": {},
   "outputs": [
    {
     "name": "stdout",
     "output_type": "stream",
     "text": [
      "10-fold cross validation average accuracy: 51.079%\n",
      "10-fold cross validation max accuracy: 54.65 %\n"
     ]
    }
   ],
   "source": [
    "#Using Cross Validation----Evaluation;(To Make Comparison Between used ML Algorithms Numerically)\n",
    "from sklearn.model_selection import cross_val_score\n",
    "scores1 = cross_val_score(rf1, X, y, cv=10)\n",
    "#print(scores1)\n",
    "print(f\"10-fold cross validation average accuracy: {(scores1.mean()*100).round(3)}%\") #average accuracy;\n",
    "print(f\"10-fold cross validation max accuracy: {(scores1.max() *100).round(2)} %\")"
   ]
  },
  {
   "cell_type": "code",
   "execution_count": 114,
   "id": "26f9b823",
   "metadata": {},
   "outputs": [
    {
     "name": "stdout",
     "output_type": "stream",
     "text": [
      "[0.55108359 0.48606811 0.49380805 0.52786378 0.52093023 0.5255814\n",
      " 0.48682171 0.54108527 0.51937984 0.52868217]\n",
      "10-fold cross validation average accuracy: 51.813%\n",
      "10-fold cross validation max accuracy: 55.11 %\n"
     ]
    }
   ],
   "source": [
    "#Using Cross Validation----Evaluation;(To Make Comparison Between used ML Algorithms Numerically)\n",
    "from sklearn.model_selection import cross_val_score\n",
    "scores2= cross_val_score(clf,df_train[feature_cols],df_train[label_col],cv=10)\n",
    "print(scores2)\n",
    "print(f\"10-fold cross validation average accuracy: {(scores2.mean()*100).round(3)}%\") #average accuracy;\n",
    "print(f\"10-fold cross validation max accuracy: {(scores2.max() *100).round(2)} %\")"
   ]
  },
  {
   "cell_type": "code",
   "execution_count": 549,
   "id": "3f1cfa75",
   "metadata": {},
   "outputs": [],
   "source": [
    "#Comparison of two algorithms;\n",
    "#When we apply 'cross validation' technique for the algorithms that we have used,the best accuracy score is 55.11 %  from the\n",
    "#usage of LGBMClassifier/'Gradient-boosted decision trees' is 55.11 %.Thus, we decided to find the labels of unseen values with\n",
    "#applying LGBMClassifier/'Gradient-boosted decision trees' above."
   ]
  },
  {
   "cell_type": "code",
   "execution_count": 115,
   "id": "779dc67b",
   "metadata": {},
   "outputs": [
    {
     "name": "stdout",
     "output_type": "stream",
     "text": [
      "Random Forest Classifier: 0.510785 (0.018248) LGBMClassifier/GBDT: 0.518130 (0.021175)\n"
     ]
    },
    {
     "data": {
      "image/png": "[encoded data removed]",
      "text/plain": [
       "<Figure size 432x288 with 1 Axes>"
      ]
     },
     "metadata": {},
     "output_type": "display_data"
    }
   ],
   "source": [
    "#Comparison of Algorithms Visually;\n",
    "from sklearn import model_selection\n",
    "results = []\n",
    "names = []\n",
    "\n",
    "cv_result1 = model_selection.cross_val_score(rf1, X, y, cv=10, scoring='accuracy')\n",
    "cv_result2 = model_selection.cross_val_score(clf, df_train[feature_cols],df_train[label_col],cv=10,scoring='accuracy')\n",
    "\n",
    "results.append(cv_result1)\n",
    "results.append(cv_result2)\n",
    "names.append('Random Forest Classifier')\n",
    "names.append('LGBMClassifier/GBDT')\n",
    "\n",
    "msg1 = \"%s: %f (%f)\" % (names[0], cv_result1.mean(), cv_result1.std())\n",
    "msg2 = \"%s: %f (%f)\" % (names[1], cv_result2.mean(), cv_result2.std())\n",
    "print(msg1,msg2)\n",
    "\n",
    "# boxplot algorithm comparison\n",
    "fig = plt.figure()\n",
    "fig.suptitle('Comparison For Algorithms')\n",
    "ax = fig.add_subplot(111)\n",
    "plt.boxplot(results)\n",
    "ax.set_xticklabels(names)\n",
    "plt.show()"
   ]
  }
 ],
 "metadata": {
  "kernelspec": {
   "display_name": "Python 3",
   "language": "python",
   "name": "python3"
  },
  "language_info": {
   "codemirror_mode": {
    "name": "ipython",
    "version": 3
   },
   "file_extension": ".py",
   "mimetype": "text/x-python",
   "name": "python",
   "nbconvert_exporter": "python",
   "pygments_lexer": "ipython3",
   "version": "3.8.8"
  }
 },
 "nbformat": 4,
 "nbformat_minor": 5
}
